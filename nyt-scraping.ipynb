{
 "metadata": {
  "name": ""
 },
 "nbformat": 3,
 "nbformat_minor": 0,
 "worksheets": [
  {
   "cells": [
    {
     "cell_type": "markdown",
     "metadata": {},
     "source": [
      "{\"Title\": \"Scraping NYT for Scandals\",\n",
      "\"Date\": \"2013-7-4\",\n",
      "\"Category\": \"ipython\",\n",
      "\"Tags\": \"nlp, ipython\",\n",
      "\"slug\": \"nyt-scraping\",\n",
      "\"Author\": \"Chris\"\n",
      "}"
     ]
    },
    {
     "cell_type": "markdown",
     "metadata": {},
     "source": [
      "This post uses the [New York Times API](http://developer.nytimes.com/docs/read/article_search_api_v2) to search for articles on US politics that include the word *scandal*, and several python libraries to grab the text of those articles and store them to MongoDB for some natural language processing analytics."
     ]
    },
    {
     "cell_type": "markdown",
     "metadata": {},
     "source": [
      "These commands will install some of the dependencies for this project:\n",
      "\n",
      "    pip install pymongo\n",
      "    pip install requests\n",
      "    pip install lxml\n",
      "    pip install cssselect"
     ]
    },
    {
     "cell_type": "code",
     "collapsed": false,
     "input": [
      "import requests\n",
      "import json\n",
      "from time import sleep\n",
      "import itertools\n",
      "import functools\n",
      "from lxml.cssselect import CSSSelector\n",
      "from lxml.html import fromstring\n",
      "import pymongo\n",
      "import datetime as dt\n",
      "from operator import itemgetter"
     ],
     "language": "python",
     "metadata": {},
     "outputs": [],
     "prompt_number": 1
    },
    {
     "cell_type": "code",
     "collapsed": false,
     "input": [
      "%load_ext autosave\n",
      "%autosave 30"
     ],
     "language": "python",
     "metadata": {},
     "outputs": [
      {
       "output_type": "stream",
       "stream": "stdout",
       "text": [
        "Usage: %autosave [seconds]\n",
        "autosaving every 30s\n"
       ]
      },
      {
       "javascript": [
        "\n",
        "\n",
        "// clear previous interval, if there was one\n",
        "if (IPython.autosave_extension_interval) {\n",
        "    clearInterval(IPython.autosave_extension_interval);\n",
        "    IPython.autosave_extension_interval = null;\n",
        "}\n",
        "\n",
        "// set new interval\n",
        "if (30000) {\n",
        "    console.log(\"scheduling autosave every 30000 ms\");\n",
        "    IPython.notebook.save_notebook();\n",
        "    IPython.autosave_extension_interval = setInterval(function() {\n",
        "        console.log(\"autosave\");\n",
        "        IPython.notebook.save_notebook();\n",
        "    }, 30000);\n",
        "} else {\n",
        "    console.log(\"canceling autosave\");\n",
        "}\n"
       ],
       "output_type": "display_data",
       "text": [
        "<IPython.core.display.Javascript at 0x1046b64d0>"
       ]
      }
     ],
     "prompt_number": 2
    },
    {
     "cell_type": "markdown",
     "metadata": {},
     "source": [
      "###Mongodb"
     ]
    },
    {
     "cell_type": "markdown",
     "metadata": {},
     "source": [
      "We need to connect to the database, assuming it's already running (`mongod` from the terminal)."
     ]
    },
    {
     "cell_type": "code",
     "collapsed": false,
     "input": [
      "connection = pymongo.Connection(\"localhost\", 27017 )\n",
      "db = connection.nyt"
     ],
     "language": "python",
     "metadata": {},
     "outputs": [],
     "prompt_number": 3
    },
    {
     "cell_type": "markdown",
     "metadata": {},
     "source": [
      "##Get URLs"
     ]
    },
    {
     "cell_type": "markdown",
     "metadata": {},
     "source": [
      "After using your secret API key..."
     ]
    },
    {
     "cell_type": "code",
     "collapsed": false,
     "input": [
      "from key import apikey\n",
      "apiparams = {'api-key': apikey}"
     ],
     "language": "python",
     "metadata": {},
     "outputs": [],
     "prompt_number": 4
    },
    {
     "cell_type": "markdown",
     "metadata": {},
     "source": [
      "...the first thing we need to get is the urls for all the articles that match our search criterion. This is a bit convoluted, since I couldn't find a way to search for *republican OR democrat*, so I ended up just repeating the query both times. I found out that there are lots of really interesting curated details you can use in the search, such as searching for articles pertaining to certain geographic areas, people or organizations. I used some of these features to narrow the results down to the US, restricted the dates to between 1992-2013, and just asked for title, URL and date to use as unique identifiers."
     ]
    },
    {
     "cell_type": "code",
     "collapsed": false,
     "input": [
      "page = 0\n",
      "\n",
      "q = 'http://api.nytimes.com/svc/search/v2/articlesearch.json?'\n",
      "params = {'query': 'geo_facet:[UNITED STATES]',\n",
      "            'fq': 'republican* OR democrat* AND scandal*',\n",
      "            'fl': 'web_url,headline,pub_date,type_of_material,document_type,news_desk',\n",
      "            'begin_date': '19920101',\n",
      "            'end_date': '20131231',\n",
      "            'page': page,\n",
      "            'api-key': apikey,\n",
      "            'rank': 'newest',\n",
      "}"
     ],
     "language": "python",
     "metadata": {},
     "outputs": [],
     "prompt_number": 5
    },
    {
     "cell_type": "markdown",
     "metadata": {},
     "source": [
      "After constructing the query, we grab the search results with [requests](http://docs.python-requests.org/en/latest/). There's no way to tell how many results there will be, so we go as long as we can, shoving everything into MongoDB, incrementing the `offset` query parameter and pausing for a break before the next page of results (the NYT has a limit on how many times you can query them per second). From the output below, we can see that there are about $49 \\times 10 =490$ articles mentioning *democrat* and *scandal* under US politics (and a lot more mentioning *republican*)."
     ]
    },
    {
     "cell_type": "code",
     "collapsed": false,
     "input": [
      "def memoize(f):\n",
      "    \"Memoization for args and kwargs\"\n",
      "    @functools.wraps(f)\n",
      "    def wrapper(*args, **kwargs):\n",
      "        kw_tup = tuple((kargname, tuple(sorted(karg.items()))) for kargname, karg in kwargs.items())\n",
      "        memo_args = args + kw_tup\n",
      "        #print kwargs\n",
      "        #print kw_tup\n",
      "        try:\n",
      "            return wrapper.cache[memo_args]\n",
      "        except KeyError:\n",
      "            print '*',\n",
      "            wrapper.cache[memo_args] = res = f(*args, **kwargs)\n",
      "            return res\n",
      "    wrapper.cache = {}\n",
      "    return wrapper\n",
      "\n",
      "    \n",
      "@memoize\n",
      "def search_nyt(query, params={}):\n",
      "    r = requests.get(query, params=params)\n",
      "    res = json.loads(r.content)\n",
      "    sleep(.1)\n",
      "    return res"
     ],
     "language": "python",
     "metadata": {},
     "outputs": [],
     "prompt_number": 6
    },
    {
     "cell_type": "code",
     "collapsed": false,
     "input": [
      "fdate = lambda d, fmt='%Y%m%d': dt.datetime.strptime(d, fmt)\n",
      "\n",
      "for page in itertools.count():  #keep looping indefinitely\n",
      "    params.update({'page': page})  #fetch another ten results from the next page\n",
      "    res = search_nyt(q, params=params)[\"response\"]\n",
      "    if res['docs']:\n",
      "        for dct in res['docs']:\n",
      "            dct = dct.copy()  #for memoization purposes\n",
      "            url = dct.pop('web_url')\n",
      "            dct['pub_date'] = fdate(dct['pub_date'].split('T')[0], '%Y-%m-%d')  #string -> format as datetime object\n",
      "            dct['headline'] = dct['headline']['main']\n",
      "            db.raw_text.update({'url': url}, {'$set': dct}, upsert=True)\n",
      "    else:  #no more results\n",
      "        break\n",
      "    if page % 100 == 0:\n",
      "        print page,"
     ],
     "language": "python",
     "metadata": {},
     "outputs": []
    },
    {
     "cell_type": "markdown",
     "metadata": {},
     "source": [
      "We can see from the response's metadata that we should expect about 11876 article links to be saved to our database."
     ]
    },
    {
     "cell_type": "code",
     "collapsed": false,
     "input": [
      "search_nyt(q, params=params)['response']['meta']"
     ],
     "language": "python",
     "metadata": {},
     "outputs": [
      {
       "output_type": "pyout",
       "prompt_number": 9,
       "text": [
        "{u'hits': 11876, u'offset': 340, u'time': 140}"
       ]
      }
     ],
     "prompt_number": 9
    },
    {
     "cell_type": "markdown",
     "metadata": {},
     "source": [
      "##Scrape Text"
     ]
    },
    {
     "cell_type": "markdown",
     "metadata": {},
     "source": [
      "Here are a few of the resulting URLS that we'll use to get the full text articles:"
     ]
    },
    {
     "cell_type": "code",
     "collapsed": false,
     "input": [
      "[doc['url'] for doc in db.raw_text.find()][:5]"
     ],
     "language": "python",
     "metadata": {},
     "outputs": [
      {
       "output_type": "pyout",
       "prompt_number": 10,
       "text": [
        "[u'http://www.nytimes.com/2006/04/30/washington/30cunningham.html',\n",
        " u'http://www.nytimes.com/2004/04/09/business/senate-panel-asked-to-give-sec-proposals-a-chance.html',\n",
        " u'http://www.nytimes.com/2006/05/12/washington/12foggo.html',\n",
        " u'http://cityroom.blogs.nytimes.com/2007/08/14/tributes-to-mrs-astor-federal-money-for-congestion-pricing-tribulations-of-newarks-mayor-and-more/',\n",
        " u'http://www.nytimes.com/2007/08/14/opinion/14tue1.html']"
       ]
      }
     ],
     "prompt_number": 10
    },
    {
     "cell_type": "markdown",
     "metadata": {},
     "source": [
      "The scraping wasn't as difficult as I was expecting; over the 20 or so years that I searched for, the body text of the articles could be found by looking at 5 html elements (formatted as CSS selectors in `_sels` below). The following two functions do most of the scraping work-- `get_text`...well...gets the text from the `CSSSelector` parser, and the `grab_text` uses this after pulling the html with requests again."
     ]
    },
    {
     "cell_type": "code",
     "collapsed": false,
     "input": [
      "def get_text(e):\n",
      "    \"Function to extract text from CSSSelector results\"\n",
      "    try:\n",
      "        return ' '.join(e.itertext()).strip().encode('ascii', 'ignore')\n",
      "    except UnicodeDecodeError:\n",
      "        return ''\n",
      "\n",
      "\n",
      "def grab_text(url, verbose=True):\n",
      "    \"Main scraping function--given url, grabs html, looks for and returns article text\"\n",
      "    if verbose and (grab_text.c % verbose == 0):  #page counter\n",
      "        print grab_text.c,\n",
      "    grab_text.c += 1\n",
      "    r = requests.get(url, params=all_pages)\n",
      "    content = fromstring(r.content)\n",
      "    for _sel in _sels:\n",
      "        text_elems = CSSSelector(_sel)(content)\n",
      "        if text_elems:\n",
      "            return '\\n'.join(map(get_text, text_elems))\n",
      "    return ''\n",
      "\n",
      "#Selectors where text of articles can be found; quite a few patterns among NYT articles\n",
      "_sels =  ['p[itemprop=\"articleBody\"]', \"div.blurb-text\", 'div#articleBody p', 'div.articleBody p', 'div.mod-nytimesarticletext p']\n",
      "all_pages = {'pagewanted': 'all'}"
     ],
     "language": "python",
     "metadata": {},
     "outputs": [
      {
       "output_type": "stream",
       "stream": "stdout",
       "text": [
        "\n"
       ]
      }
     ],
     "prompt_number": 23
    },
    {
     "cell_type": "markdown",
     "metadata": {},
     "source": [
      "And here is the main loop and counter. Pretty simple, huh?\n",
      "\n",
      "On the first run, the output counts up from zero, but since political scandals seem to be popping up by the hour, I've updated the search a few times, but only pulling articles that aren't already in the database (hence the mostly underscored output below)."
     ]
    },
    {
     "cell_type": "code",
     "collapsed": false,
     "input": [
      "exceptions = []"
     ],
     "language": "python",
     "metadata": {},
     "outputs": [],
     "prompt_number": 30
    },
    {
     "cell_type": "code",
     "collapsed": false,
     "input": [
      "grab_text.c = 0\n",
      "\n",
      "for doc in db.raw_text.find(timeout=False):\n",
      "    if ('url' in doc) and ('text' not in doc):\n",
      "        # if we don't already have this in mongodb\n",
      "        try:\n",
      "            txt = grab_text(doc['url'], verbose=1)        \n",
      "        except Exception, e:\n",
      "            exceptions.append((e, doc['url']))\n",
      "            print ':(',\n",
      "            continue\n",
      "        db.raw_text.update({'url': doc['url']}, {'$set': {'text': txt}})\n",
      "    else: #if grab_text.c % 100 == 0:\n",
      "        pass\n",
      "        #print '_',\n",
      "\n",
      "db.raw_text.remove({'text': u''})  #there was one weird result that didn't have any text..."
     ],
     "language": "python",
     "metadata": {},
     "outputs": [
      {
       "output_type": "stream",
       "stream": "stdout",
       "text": [
        "0 "
       ]
      },
      {
       "output_type": "stream",
       "stream": "stdout",
       "text": [
        ":( 1 :( 2 :( 3 "
       ]
      },
      {
       "output_type": "stream",
       "stream": "stdout",
       "text": [
        ":( 4 :( "
       ]
      },
      {
       "output_type": "stream",
       "stream": "stdout",
       "text": [
        "5 :( 6 :( 7 :( 8 :( 9 :( 10 :(\n"
       ]
      }
     ],
     "prompt_number": 31
    },
    {
     "cell_type": "code",
     "collapsed": false,
     "input": [
      "for doc in db.raw_text.find(timeout=False):\n",
      "    if ('pub_date' in doc) and ('date' not in doc):\n",
      "        # cleanup from v1 queries\n",
      "        updates = {'date': doc['pub_date'],\n",
      "                   'title': doc['headline']}\n",
      "        db.raw_text.update({'url': doc['url']}, {'$set': updates})\n",
      "    if ('title' not in doc) and ('headline' not in doc):\n",
      "        #cleanup\n",
      "        db.raw_text.update({'url': doc['url']}, {'$set': {'title': ''}})\n",
      "    "
     ],
     "language": "python",
     "metadata": {},
     "outputs": [],
     "prompt_number": 62
    },
    {
     "cell_type": "code",
     "collapsed": false,
     "input": [
      "exceptions"
     ],
     "language": "python",
     "metadata": {},
     "outputs": [
      {
       "output_type": "pyout",
       "prompt_number": 33,
       "text": [
        "[(lxml.etree.ParserError('Document is empty'),\n",
        "  u'http://www.nytimes.com/2007/04/01/magazine/01axelrod.t.html'),\n",
        " (requests.exceptions.MissingSchema(\"Invalid URL u'/data/daily/2007/01/22/992348.sgml': No schema supplied\"),\n",
        "  u'/data/daily/2007/01/22/992348.sgml'),\n",
        " (requests.exceptions.MissingSchema(\"Invalid URL u'/data/daily/2006/02/16/757594.sgml': No schema supplied\"),\n",
        "  u'/data/daily/2006/02/16/757594.sgml'),\n",
        " (lxml.etree.ParserError('Document is empty'),\n",
        "  u'http://www.nytimes.com/2006/01/23/politics/23leases.html'),\n",
        " (requests.exceptions.MissingSchema(\"Invalid URL u'/data/daily/2005/11/08/732095.sgml': No schema supplied\"),\n",
        "  u'/data/daily/2005/11/08/732095.sgml'),\n",
        " (requests.exceptions.MissingSchema(\"Invalid URL u'/data/daily/2009/08/25/954306.sgml': No schema supplied\"),\n",
        "  u'/data/daily/2009/08/25/954306.sgml'),\n",
        " (requests.exceptions.MissingSchema(\"Invalid URL u'/data/daily/2009/07/30/131903.sgml': No schema supplied\"),\n",
        "  u'/data/daily/2009/07/30/131903.sgml'),\n",
        " (requests.exceptions.MissingSchema(\"Invalid URL u'/data/daily/2009/01/22/881090.sgml': No schema supplied\"),\n",
        "  u'/data/daily/2009/01/22/881090.sgml'),\n",
        " (requests.exceptions.MissingSchema(\"Invalid URL u'/data/daily/2008/12/23/615110.sgml': No schema supplied\"),\n",
        "  u'/data/daily/2008/12/23/615110.sgml'),\n",
        " (requests.exceptions.MissingSchema(\"Invalid URL u'/data/daily/2006/12/12/830470.sgml': No schema supplied\"),\n",
        "  u'/data/daily/2006/12/12/830470.sgml'),\n",
        " (requests.exceptions.MissingSchema(\"Invalid URL u'/data/daily/2005/05/21/030015.sgml': No schema supplied\"),\n",
        "  u'/data/daily/2005/05/21/030015.sgml')]"
       ]
      }
     ],
     "prompt_number": 33
    },
    {
     "cell_type": "markdown",
     "metadata": {},
     "source": [
      "And, we got more than 870 scandalous stories...but still counting!"
     ]
    },
    {
     "cell_type": "code",
     "collapsed": false,
     "input": [
      "def myitems(*items):\n",
      "    \"Itemgetter that returns what it can\"\n",
      "    def getter(e):\n",
      "        try:\n",
      "            return [e[i] for i in items]\n",
      "        except KeyError:\n",
      "            return [e[i] for i in items if i in e]\n",
      "    return getter    "
     ],
     "language": "python",
     "metadata": {},
     "outputs": [],
     "prompt_number": 57
    },
    {
     "cell_type": "code",
     "collapsed": false,
     "input": [
      "res = map(itemgetter('date', 'url', 'title'), sorted(db.raw_text.find(), key=itemgetter('date'), reverse=1))"
     ],
     "language": "python",
     "metadata": {},
     "outputs": [],
     "prompt_number": 63
    },
    {
     "cell_type": "code",
     "collapsed": false,
     "input": [
      "res = filter(lambda d: 'title' not in d, db.raw_text.find())"
     ],
     "language": "python",
     "metadata": {},
     "outputs": [],
     "prompt_number": 55
    },
    {
     "cell_type": "code",
     "collapsed": false,
     "input": [
      "res = [d.keys() for d in db.raw_text.find()]"
     ],
     "language": "python",
     "metadata": {},
     "outputs": [],
     "prompt_number": 41
    },
    {
     "cell_type": "code",
     "collapsed": false,
     "input": [
      "'headline', 'pub_date'"
     ],
     "language": "python",
     "metadata": {},
     "outputs": []
    },
    {
     "cell_type": "code",
     "collapsed": false,
     "input": [
      "s = u'Weiner\\u2019s Surprising Rebound From Scandal'\n",
      "print s"
     ],
     "language": "python",
     "metadata": {},
     "outputs": [
      {
       "output_type": "stream",
       "stream": "stdout",
       "text": [
        "Weiner\u2019s Surprising Rebound From Scandal\n"
       ]
      }
     ],
     "prompt_number": 67
    },
    {
     "cell_type": "code",
     "collapsed": false,
     "input": [
      "res[:40]"
     ],
     "language": "python",
     "metadata": {},
     "outputs": [
      {
       "output_type": "pyout",
       "prompt_number": 61,
       "text": [
        "[[datetime.datetime(2013, 7, 7, 0, 0),\n",
        "  u'http://www.nytimes.com/2013/07/07/business/mutfund/robert-ag-monks-crusading-against-corporate-excess.html',\n",
        "  u'Robert A.G. Monks, Crusading Against Corporate Excess'],\n",
        " [datetime.datetime(2013, 7, 6, 0, 0),\n",
        "  u'http://www.nytimes.com/reuters/2013/07/06/world/europe/06reuters-usa-security-europe-germany.html',\n",
        "  u'Merkel Says EU Must Not Forget U.S. Spying in Push for Free Trade'],\n",
        " [datetime.datetime(2013, 7, 6, 0, 0),\n",
        "  u'http://www.nytimes.com/2013/07/06/nyregion/weiners-surprising-rebound-from-scandal.html',\n",
        "  u'Weiner\\u2019s Surprising Rebound From Scandal'],\n",
        " [datetime.datetime(2013, 7, 5, 0, 0),\n",
        "  u'http://www.nytimes.com/reuters/2013/07/05/world/africa/05reuters-zimbabwe-elections.html',\n",
        "  u\"Zimbabwe's Mugabe Launches 'Fight for Life' Poll Campaign\"],\n",
        " [datetime.datetime(2013, 7, 5, 0, 0),\n",
        "  u'http://www.nytimes.com/2013/07/05/world/europe/czech-scandal-shines-light-on-corruption.html',\n",
        "  u'Czech Scandal Shines Light on Corruption'],\n",
        " [datetime.datetime(2013, 7, 5, 0, 0),\n",
        "  u'http://www.nytimes.com/reuters/2013/07/05/world/europe/05reuters-usa-security-latinamerica.html',\n",
        "  u'South American Leftist Leaders Rally for Bolivia in Snowden Saga'],\n",
        " [datetime.datetime(2013, 7, 5, 0, 0),\n",
        "  u'http://www.nytimes.com/2013/07/05/nyregion/bookers-opponents-may-use-his-friendship-with-christie-against-him.html',\n",
        "  u'Booker\\u2019s Opponents May Use His Friendship With Christie Against Him'],\n",
        " [datetime.datetime(2013, 7, 4, 0, 0),\n",
        "  u'http://www.nytimes.com/reuters/2013/07/04/world/asia/04reuters-japan-election-parties.html',\n",
        "  u'Factbox: Main Japan Parties Ahead of July Upper House Poll'],\n",
        " [datetime.datetime(2013, 7, 3, 0, 0),\n",
        "  u'http://www.nytimes.com/reuters/2013/07/03/us/03reuters-usa-crime-ryan.html',\n",
        "  u'Illinois Ex-Governor Ryan Released After Five Years Confinement'],\n",
        " [datetime.datetime(2013, 7, 3, 0, 0),\n",
        "  u'http://www.nytimes.com/2013/07/03/nyregion/cuomo-names-panel-to-investigate-corrupt-elected-officials.html',\n",
        "  u'Cuomo Creates Special Commission to Investigate Corrupt Elected Officials '],\n",
        " [datetime.datetime(2013, 7, 1, 0, 0),\n",
        "  u'http://www.nytimes.com/reuters/2013/07/01/world/asia/01reuters-hongkong-march.html',\n",
        "  u'Thousands Demand China Honor Hong Kong Democracy Pledge'],\n",
        " [datetime.datetime(2013, 7, 1, 0, 0),\n",
        "  u'http://www.nytimes.com/aponline/2013/07/01/world/asia/ap-as-hong-kong-democracy-protest.html',\n",
        "  u'HK Protests to Demand Beijing-Backed Leader Resign'],\n",
        " [datetime.datetime(2013, 7, 1, 0, 0),\n",
        "  u'http://www.nytimes.com/2013/07/01/nyregion/a-new-mayor-to-match-jersey-citys-ambitions.html',\n",
        "  u'A New Mayor to Match Jersey City\\u2019s Ambitions'],\n",
        " [datetime.datetime(2013, 6, 30, 0, 0),\n",
        "  u'http://www.nytimes.com/aponline/2013/06/30/world/americas/ap-lt-chile-presidential-primaries.html',\n",
        "  u\"Chile's Bachelet Wins Presidential Primary\"],\n",
        " [datetime.datetime(2013, 6, 29, 0, 0),\n",
        "  u'http://www.nytimes.com/aponline/2013/06/29/world/asia/ap-as-japan-war-apology.html',\n",
        "  u'AP Interview: Abe Chided for Querying War Apology'],\n",
        " [datetime.datetime(2013, 6, 29, 0, 0),\n",
        "  u'http://www.nytimes.com/2013/06/29/us/adm-frank-b-kelso-dies-at-79-tied-to-tailhook-scandal.html',\n",
        "  u'Adm. Frank B. Kelso Dies at 79; Tied to Tailhook Scandal'],\n",
        " [datetime.datetime(2013, 6, 28, 0, 0),\n",
        "  u'http://www.nytimes.com/reuters/2013/06/28/us/politics/28reuters-usa-security-congress.html',\n",
        "  u'The Snowden Affair: Whatever Happened to the Blame Game?'],\n",
        " [datetime.datetime(2013, 6, 28, 0, 0),\n",
        "  u'http://www.nytimes.com/2013/06/28/nyregion/as-minority-officials-are-caught-up-in-scandals-some-see-a-conspiracy.html',\n",
        "  u'As Minority Officials Are Caught Up in Scandals, Some See a Conspiracy'],\n",
        " [datetime.datetime(2013, 6, 27, 0, 0),\n",
        "  u'http://www.nytimes.com/aponline/2013/06/27/us/ap-us-nypd-oversight-.html',\n",
        "  u'NYC Council Passes Plans for New Police Oversight'],\n",
        " [datetime.datetime(2013, 6, 27, 0, 0),\n",
        "  u'http://www.nytimes.com/2013/06/27/education/deadline-near-with-no-deal-on-loan-rates-for-students.html',\n",
        "  u'Deadline Near With No Deal on Loan Rates for Students'],\n",
        " [datetime.datetime(2013, 6, 27, 0, 0),\n",
        "  u'http://www.nytimes.com/2013/06/27/nyregion/new-poll-of-democrats-suggests-a-three-way-tie.html',\n",
        "  u'New Poll of Democrats Suggests a Three-Way Tie'],\n",
        " [datetime.datetime(2013, 6, 27, 0, 0),\n",
        "  u'http://www.nytimes.com/2013/06/27/nyregion/politics-trumps-friendship-as-lhota-attacks-weiner.html',\n",
        "  u'Politics Trumps Friendship as Lhota Attacks Weiner'],\n",
        " [datetime.datetime(2013, 6, 27, 0, 0),\n",
        "  u'http://www.nytimes.com/2013/06/27/us/politics/with-gay-marriage-a-tide-of-public-opinion-that-swept-past-the-court.html',\n",
        "  u'Court Follows Nation\\u2019s Lead'],\n",
        " [datetime.datetime(2013, 6, 26, 0, 0),\n",
        "  u'http://www.nytimes.com/aponline/2013/06/26/world/americas/ap-lt-mexico-corruption.html',\n",
        "  u'Mexico Faces Challenges in Tackling Corruption'],\n",
        " [datetime.datetime(2013, 6, 26, 0, 0),\n",
        "  u'http://www.nytimes.com/reuters/2013/06/26/world/europe/26reuters-britain-germany-spying.html',\n",
        "  u'German Minister Challenges Britain Over Spying Program'],\n",
        " [datetime.datetime(2013, 6, 26, 0, 0),\n",
        "  u'http://www.nytimes.com/2013/06/26/world/europe/czech-president-defies-governing-coalition-in-naming-premier.html',\n",
        "  u'Czech President Defies Governing Coalition in Naming Premier'],\n",
        " [datetime.datetime(2013, 6, 26, 0, 0),\n",
        "  u'http://www.nytimes.com/2013/06/26/world/asia/legitimacy-of-south-korean-leaders-election-disputed.html',\n",
        "  u'Liberal Lawmakers Question Legitimacy of South Korean Election'],\n",
        " [datetime.datetime(2013, 6, 25, 0, 0),\n",
        "  u'http://www.nytimes.com/aponline/2013/06/25/us/ap-us-rise-of-the-selfie.html',\n",
        "  u'What Did Narcissus Say to Instagram? Selfie Time!'],\n",
        " [datetime.datetime(2013, 6, 25, 0, 0),\n",
        "  u'http://www.nytimes.com/reuters/2013/06/25/world/europe/25reuters-italy-berlusconi.html',\n",
        "  u'Berlusconi Verdict Opens Volatile New Phase for Italy Government'],\n",
        " [datetime.datetime(2013, 6, 25, 0, 0),\n",
        "  u'http://www.nytimes.com/reuters/2013/06/25/world/europe/25reuters-czech-government.html',\n",
        "  u'Czech President Picks Leftist PM in Snub to Majority'],\n",
        " [datetime.datetime(2013, 6, 25, 0, 0),\n",
        "  u'http://www.nytimes.com/aponline/2013/06/25/world/europe/ap-eu-czech-new-premier.html',\n",
        "  u'Czech President Appoints Adviser as New PM'],\n",
        " [datetime.datetime(2013, 6, 25, 0, 0),\n",
        "  u'http://www.nytimes.com/2013/06/25/us/politics/documents-show-liberals-in-irs-dragnet.html',\n",
        "  u'Documents Show Liberals in I.R.S. Dragnet'],\n",
        " [datetime.datetime(2013, 6, 25, 0, 0),\n",
        "  u'http://www.nytimes.com/2013/06/25/nyregion/2-bills-on-police-oversight-advance-amid-objections-from-bloomberg.html',\n",
        "  u'2 Bills on Police Oversight Advance Amid Objections From Bloomberg'],\n",
        " [datetime.datetime(2013, 6, 25, 0, 0),\n",
        "  u'http://www.nytimes.com/2013/06/25/nyregion/for-women-in-weiner-scandal-indignity-lingers.html',\n",
        "  u'For Women in Weiner Scandal, Indignity Lingers'],\n",
        " [datetime.datetime(2013, 6, 24, 0, 0),\n",
        "  u'http://www.nytimes.com/2013/06/24/us/24iht-letter24.html',\n",
        "  u\"2 Alternatives for Obama's Summer\"],\n",
        " [datetime.datetime(2013, 6, 24, 0, 0),\n",
        "  u'http://www.nytimes.com/reuters/2013/06/24/world/europe/24reuters-italy-minister-resignation.html',\n",
        "  u'Italy Equal Opportunities Minister Quits Over Tax Evasion Scandal'],\n",
        " [datetime.datetime(2013, 6, 24, 0, 0),\n",
        "  u'http://www.nytimes.com/reuters/2013/06/24/world/europe/24reuters-czech-government.html',\n",
        "  u'Czech President Signals May Appoint Technocrat PM on Tuesday'],\n",
        " [datetime.datetime(2013, 6, 24, 0, 0),\n",
        "  u'http://www.nytimes.com/reuters/2013/06/24/world/asia/24reuters-usa-security-hongkong.html',\n",
        "  u'China Persuaded Snowden to Flee Hong Kong: Sources'],\n",
        " [datetime.datetime(2013, 6, 23, 0, 0),\n",
        "  u'http://www.nytimes.com/reuters/2013/06/23/business/23reuters-india-gaming.html',\n",
        "  u'As Asia Embraces Casinos, India Hedges It Bets'],\n",
        " [datetime.datetime(2013, 6, 23, 0, 0),\n",
        "  u'http://www.nytimes.com/2013/06/23/nyregion/city-gets-legislatures-nod-to-install-speed-cameras.html',\n",
        "  u'New York City Gets Legislature\\u2019s Nod to Install Speed Cameras']]"
       ]
      }
     ],
     "prompt_number": 61
    },
    {
     "cell_type": "code",
     "collapsed": false,
     "input": [
      "len(res)"
     ],
     "language": "python",
     "metadata": {},
     "outputs": [
      {
       "output_type": "pyout",
       "prompt_number": 46,
       "text": [
        "8843"
       ]
      }
     ],
     "prompt_number": 46
    },
    {
     "cell_type": "code",
     "collapsed": false,
     "input": [
      "len(list(db.raw_text.find()))"
     ],
     "language": "python",
     "metadata": {},
     "outputs": [
      {
       "output_type": "pyout",
       "prompt_number": 32,
       "text": [
        "9717"
       ]
      }
     ],
     "prompt_number": 32
    },
    {
     "cell_type": "markdown",
     "metadata": {},
     "source": [
      "###Conclusion\n",
      "Though it turned out to be pretty brief, I thought this first part of my NYT scandals project deserved its own post.\n",
      "Luckily it doesn't take too much effort or space when you're working with a nice, expressive language, though.\n",
      "And you can reproduce this for yourself--you can find a copy of this notebook on github."
     ]
    }
   ],
   "metadata": {}
  }
 ]
}