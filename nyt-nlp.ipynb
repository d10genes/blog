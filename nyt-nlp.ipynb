{
 "metadata": {
  "name": "nyt-nlp"
 },
 "nbformat": 3,
 "nbformat_minor": 0,
 "worksheets": [
  {
   "cells": [
    {
     "cell_type": "code",
     "collapsed": false,
     "input": [
      "from __future__ import division\n",
      "import json\n",
      "import pandas as pd\n",
      "import numpy as np\n",
      "from time import sleep\n",
      "from itertools import count, imap, starmap, cycle\n",
      "import pymongo\n",
      "import re\n",
      "from operator import itemgetter\n",
      "from gensim import corpora, models, similarities\n",
      "import gensim\n",
      "from collections import Counter\n",
      "import datetime as dt"
     ],
     "language": "python",
     "metadata": {},
     "outputs": [],
     "prompt_number": 1
    },
    {
     "cell_type": "code",
     "collapsed": false,
     "input": [
      "import myutils as mu\n",
      "mu.psettings(pd)"
     ],
     "language": "python",
     "metadata": {},
     "outputs": [],
     "prompt_number": 2
    },
    {
     "cell_type": "code",
     "collapsed": false,
     "input": [
      "%load_ext autosave\n",
      "%autosave 30"
     ],
     "language": "python",
     "metadata": {},
     "outputs": [
      {
       "output_type": "stream",
       "stream": "stdout",
       "text": [
        "Usage: %autosave [seconds]\n",
        "autosaving every 30s\n"
       ]
      },
      {
       "javascript": [
        "\n",
        "\n",
        "// clear previous interval, if there was one\n",
        "if (IPython.autosave_extension_interval) {\n",
        "    clearInterval(IPython.autosave_extension_interval);\n",
        "    IPython.autosave_extension_interval = null;\n",
        "}\n",
        "\n",
        "// set new interval\n",
        "if (30000) {\n",
        "    console.log(\"scheduling autosave every 30000 ms\");\n",
        "    IPython.notebook.save_notebook();\n",
        "    IPython.autosave_extension_interval = setInterval(function() {\n",
        "        console.log(\"autosave\");\n",
        "        IPython.notebook.save_notebook();\n",
        "    }, 30000);\n",
        "} else {\n",
        "    console.log(\"canceling autosave\");\n",
        "}\n"
       ],
       "output_type": "display_data",
       "text": [
        "<IPython.core.display.Javascript at 0x106b5c890>"
       ]
      }
     ],
     "prompt_number": 3
    },
    {
     "cell_type": "markdown",
     "metadata": {},
     "source": [
      "##Init"
     ]
    },
    {
     "cell_type": "code",
     "collapsed": false,
     "input": [
      "connection = pymongo.Connection( \"localhost\", 27017 )\n",
      "db = connection.nyt"
     ],
     "language": "python",
     "metadata": {},
     "outputs": [],
     "prompt_number": 4
    },
    {
     "cell_type": "code",
     "collapsed": false,
     "input": [
      "raw = list(db.raw_text.find())"
     ],
     "language": "python",
     "metadata": {},
     "outputs": [],
     "prompt_number": 5
    },
    {
     "cell_type": "code",
     "collapsed": false,
     "input": [
      "for dct in raw:\n",
      "    if 'title' not in dct:\n",
      "        dct['title'] = ''"
     ],
     "language": "python",
     "metadata": {},
     "outputs": [],
     "prompt_number": 6
    },
    {
     "cell_type": "markdown",
     "metadata": {},
     "source": [
      "##Model generation"
     ]
    },
    {
     "cell_type": "code",
     "collapsed": false,
     "input": [
      "def format(txt):\n",
      "    tt = re.sub(r\"'s\\b\", '', txt).lower()\n",
      "    tt = re.sub(r'[\\.\\,\\;\\:\\'\\\"\\(\\)\\&\\%\\*\\+\\[\\]\\=\\?\\!/]', '', tt)    \n",
      "    tt = re.sub(r' *\\$[0-9]\\S* ?', ' <money> ', tt)    \n",
      "    tt = re.sub(r' *[0-9]\\S* ?', ' <num> ', tt)    \n",
      "    tt = re.sub(r'[\\-\\s]+', ' ', tt)\n",
      "    return tt.strip().split()\n",
      "\n",
      "dmap = lambda dct, a: [dct[e] for e in a]"
     ],
     "language": "python",
     "metadata": {},
     "outputs": [],
     "prompt_number": 7
    },
    {
     "cell_type": "code",
     "collapsed": false,
     "input": [
      "texts = [format(doc['text']) for doc in raw]\n",
      "dictionary = corpora.Dictionary(texts)\n",
      "corpus = [dictionary.doc2bow(text) for text in texts]\n",
      "tfidf = models.TfidfModel(corpus)\n",
      "tcorpus = dmap(tfidf, corpus)"
     ],
     "language": "python",
     "metadata": {},
     "outputs": [],
     "prompt_number": 8
    },
    {
     "cell_type": "code",
     "collapsed": false,
     "input": [
      "#lda = models.ldamodel.LdaModel(corpus=tcorpus, id2word=dictionary, num_topics=15, update_every=0, passes=20)\n",
      "model = models.lsimodel.LsiModel(corpus=tcorpus, id2word=dictionary, num_topics=6)"
     ],
     "language": "python",
     "metadata": {},
     "outputs": [],
     "prompt_number": 9
    },
    {
     "cell_type": "markdown",
     "metadata": {},
     "source": [
      "##Analysis"
     ]
    },
    {
     "cell_type": "code",
     "collapsed": false,
     "input": [
      "topic_data = []\n",
      "_topic_stats = []\n",
      "#_kwargs = dict(formatted=0, topn=15, topics=None)\n",
      "_kwargs = dict(formatted=0, num_words=15)\n",
      "topic_words = [[w for _, w in tups] for tups in model.show_topics(**_kwargs)]\n",
      "\n",
      "for tit, _text, date in imap(itemgetter(u'title', 'text', 'date'), raw):\n",
      "    text = format(_text)\n",
      "    _srtd = sorted(model[dictionary.doc2bow(text)], key=itemgetter(1), reverse=1)#[:2]\n",
      "    top, score = _srtd[:2][0]\n",
      "    topic_data.append((tit, date, top, score))\n",
      "    _topic_stats.append(_srtd)\n",
      "\n",
      "topic_stats = [tup for tups in _topic_stats for tup in tups]"
     ],
     "language": "python",
     "metadata": {},
     "outputs": [],
     "prompt_number": 10
    },
    {
     "cell_type": "code",
     "collapsed": false,
     "input": [
      "pd.DataFrame(zip(*topic_words))"
     ],
     "language": "python",
     "metadata": {},
     "outputs": [
      {
       "output_type": "pyout",
       "prompt_number": 14,
       "text": [
        "              0              1            2           3           4           5\n",
        "0       clinton           soft         reno        bank       foley     hastert\n",
        "1   republicans         meehan         gore        gore     hastert        bank\n",
        "2      gingrich         mccain        huang  overdrafts  securities  overdrafts\n",
        "3          bill          shays       voters     clinton        soft       foley\n",
        "4     democrats          foley        seats        reno      meehan      checks\n",
        "5         money           bill      counsel       foley   corporate        page\n",
        "6           she           bank   department      checks      market      foleys\n",
        "7         party         limits      justice         her       enron       pages\n",
        "8          bush          money  independent         she   companies    messages\n",
        "9         foley        parties        races       enron  accounting    accounts\n",
        "10       voters            ban        ickes     members       shays     fordham\n",
        "11      senator      donations          law       huang       stock    hasterts\n",
        "12         soft     overdrafts         trie     hastert   investors   overdrawn\n",
        "13   democratic        finance         fund      ethics        page    reynolds\n",
        "14      <money>  contributions   prosecutor    accounts    treasury      wilkey"
       ]
      }
     ],
     "prompt_number": 14
    },
    {
     "cell_type": "code",
     "collapsed": false,
     "input": [
      "ickes: clinton deputy chief of staff http://en.wikipedia.org/wiki/Harold_M._Ickes\n",
      "Charlie Trie\n",
      "ickes http://www.nytimes.com/1997/09/21/magazine/bill-clinton-s-garbage-man.html?pagewanted=all&src=pm"
     ],
     "language": "python",
     "metadata": {},
     "outputs": []
    },
    {
     "cell_type": "code",
     "collapsed": false,
     "input": [
      "pd.options.display.max_colwidth = 100"
     ],
     "language": "python",
     "metadata": {},
     "outputs": [],
     "prompt_number": 28
    },
    {
     "cell_type": "raw",
     "metadata": {},
     "source": [
      "df[df.Topic == 3].sort('Date')[['Title', 'Date']]"
     ]
    },
    {
     "cell_type": "raw",
     "metadata": {},
     "source": [
      "search('enron')"
     ]
    },
    {
     "cell_type": "code",
     "collapsed": false,
     "input": [
      "_df = pd.DataFrame(topic_data, columns=['Title', 'Date', 'Topic', 'Score'])\n",
      "df = _df#.set_index('Date').sort_index()#.head()"
     ],
     "language": "python",
     "metadata": {},
     "outputs": [],
     "prompt_number": 11
    },
    {
     "cell_type": "code",
     "collapsed": false,
     "input": [
      "df.head()"
     ],
     "language": "python",
     "metadata": {},
     "outputs": [
      {
       "output_type": "pyout",
       "prompt_number": 12,
       "text": [
        "                                               Title                 Date  Topic     Score\n",
        "0      EDITORIAL; Mr. Bush's Chance to Help Congress  2007-08-15 00:00:00      3  1.468604\n",
        "1  THE STRUGGLE FOR IRAQ; SENATE REJECTS DEMOCRAT...  2007-03-16 00:00:00      2  5.838433\n",
        "2      PUSH TO TIGHTEN LOBBYING RULES LOSES STRENGTH  2006-03-11 00:00:00      3  4.214894\n",
        "3  Prostitution Allegations Surface In a Congress...  2006-04-30 00:00:00      1  2.633010\n",
        "4  Senate Panel Asked to Give S.E.C. Proposals a ...  2004-04-09 00:00:00      5  1.028630"
       ]
      }
     ],
     "prompt_number": 12
    },
    {
     "cell_type": "code",
     "collapsed": false,
     "input": [
      "df.Topic.value_counts()"
     ],
     "language": "python",
     "metadata": {},
     "outputs": [
      {
       "output_type": "pyout",
       "prompt_number": 13,
       "text": [
        "1    269\n",
        "2    242\n",
        "3    156\n",
        "4    123\n",
        "5     84"
       ]
      }
     ],
     "prompt_number": 13
    },
    {
     "cell_type": "code",
     "collapsed": false,
     "input": [
      "sdf = pd.DataFrame(topic_stats, columns=['Topic', 'Score'])\n",
      "#df = _df.set_index('Date').sort_index()#.head()\n",
      "topic_mean = sdf.groupby('Topic').mean()['Score']\n",
      "#topic_mean"
     ],
     "language": "python",
     "metadata": {},
     "outputs": [],
     "prompt_number": 305
    },
    {
     "cell_type": "code",
     "collapsed": false,
     "input": [
      "topic_mean"
     ],
     "language": "python",
     "metadata": {},
     "outputs": [
      {
       "output_type": "pyout",
       "prompt_number": 408,
       "text": [
        "Topic\n",
        "0       -21.870799\n",
        "1         1.509876\n",
        "2        -0.771335\n",
        "3        -0.826304\n",
        "4         0.037906\n",
        "5         0.088895\n",
        "Name: Score"
       ]
      }
     ],
     "prompt_number": 408
    },
    {
     "cell_type": "code",
     "collapsed": false,
     "input": [
      "sdf.head()"
     ],
     "language": "python",
     "metadata": {},
     "outputs": [
      {
       "output_type": "pyout",
       "prompt_number": 407,
       "text": [
        "   Topic     Score\n",
        "0      3  1.466095\n",
        "1      5  0.829599\n",
        "2      2 -0.201553\n",
        "3      4 -0.705772\n",
        "4      1 -1.168336"
       ]
      }
     ],
     "prompt_number": 407
    },
    {
     "cell_type": "code",
     "collapsed": false,
     "input": [
      "df.head()"
     ],
     "language": "python",
     "metadata": {},
     "outputs": [
      {
       "output_type": "pyout",
       "prompt_number": 306,
       "text": [
        "                                                                  Title                 Date  Topic     Score\n",
        "0                         EDITORIAL; Mr. Bush's Chance to Help Congress  2007-08-15 00:00:00      3  1.466095\n",
        "1  THE STRUGGLE FOR IRAQ; SENATE REJECTS DEMOCRATS' CALL TO PULL TROOPS  2007-03-16 00:00:00      5  0.062954\n",
        "2                         PUSH TO TIGHTEN LOBBYING RULES LOSES STRENGTH  2006-03-11 00:00:00      3  4.229748\n",
        "3      Prostitution Allegations Surface In a Congressional Bribery Case  2006-04-30 00:00:00      1  2.644540\n",
        "4                  Senate Panel Asked to Give S.E.C. Proposals a Chance  2004-04-09 00:00:00      2  1.530359"
       ]
      }
     ],
     "prompt_number": 306
    },
    {
     "cell_type": "code",
     "collapsed": false,
     "input": [
      "center = lambda top, score: score - topic_mean[top]\n",
      "center_list = lambda lst: [(top, center(top, score)) for top, score in lst]\n",
      "centered_scores = [max(center_list(lst), key=itemgetter(1)) for lst in _topic_stats]\n",
      "second_scores = [sorted(lst, key=itemgetter(1),  reverse=1)[:2][-1] for lst in _topic_stats]"
     ],
     "language": "python",
     "metadata": {},
     "outputs": [],
     "prompt_number": 307
    },
    {
     "cell_type": "code",
     "collapsed": false,
     "input": [
      "df.Topic, df.Score = zip(*centered_scores)\n",
      "#df.Topic, df.Score = zip(*second_scores)"
     ],
     "language": "python",
     "metadata": {},
     "outputs": [],
     "prompt_number": 308
    },
    {
     "cell_type": "code",
     "collapsed": false,
     "input": [
      "df = _df.set_index('Date').sort_index()#.head()"
     ],
     "language": "python",
     "metadata": {},
     "outputs": [],
     "prompt_number": 309
    },
    {
     "cell_type": "code",
     "collapsed": false,
     "input": [
      "df.head()"
     ],
     "language": "python",
     "metadata": {},
     "outputs": [
      {
       "output_type": "pyout",
       "prompt_number": 310,
       "text": [
        "                                                                     Title  Topic      Score\n",
        "Date                                                                                        \n",
        "1992-01-11                                   Observer; That Stands for Car      0  11.727443\n",
        "1992-01-23          U.S. Discloses Tougher Rules To Revamp Treasury Market      3   7.956859\n",
        "1992-02-07           S.E.C. Chief and Congressman Bicker Over Market Rules      0  14.089976\n",
        "1992-02-22  Yew Trees Needn't Fall to Make Cancer Drug; Halt Clear-Cutting      0  17.197543\n",
        "1992-02-27                           Topics of The Times; Franking Follies      0  17.592862"
       ]
      }
     ],
     "prompt_number": 310
    },
    {
     "cell_type": "code",
     "collapsed": false,
     "input": [
      "plt.figsize(6, 4)\n",
      "df.Topic.hist()"
     ],
     "language": "python",
     "metadata": {},
     "outputs": [
      {
       "output_type": "pyout",
       "prompt_number": 311,
       "text": [
        "<matplotlib.axes.AxesSubplot at 0x10b1024d0>"
       ]
      },
      {
       "output_type": "display_data",
       "png": "[encoded data removed]",
       "text": [
        "<matplotlib.figure.Figure at 0x10b10c5d0>"
       ]
      }
     ],
     "prompt_number": 311
    },
    {
     "cell_type": "code",
     "collapsed": false,
     "input": [
      "year = lambda x: x.year\n",
      "#df.reset_index().groupby(['Date', 'Topic']).size()\n",
      "sz = df.set_index('Date').groupby(['Topic', year]).size()\n",
      "sz.index.names[1] = 'Year'"
     ],
     "language": "python",
     "metadata": {},
     "outputs": [],
     "prompt_number": 42
    },
    {
     "cell_type": "raw",
     "metadata": {},
     "source": [
      "sz"
     ]
    },
    {
     "cell_type": "raw",
     "metadata": {},
     "source": [
      "vc = df.Topic.value_counts()\n",
      "vc /= vc.sum()\n",
      "vc"
     ]
    },
    {
     "cell_type": "code",
     "collapsed": false,
     "input": [
      "styles = cycle(['-'])#, '--', '-.', ':'])"
     ],
     "language": "python",
     "metadata": {},
     "outputs": [],
     "prompt_number": 47
    },
    {
     "cell_type": "code",
     "collapsed": false,
     "input": [
      "def plottable(k, gp, thresh=.15):\n",
      "    _gp = gp.set_index('Year')[0]\n",
      "    _gp = (_gp / _gp.sum())\n",
      "    mx = _gp.max()    \n",
      "    if mx < thresh:\n",
      "        return\n",
      "    return k, _gp"
     ],
     "language": "python",
     "metadata": {},
     "outputs": [],
     "prompt_number": 43
    },
    {
     "cell_type": "code",
     "collapsed": false,
     "input": [
      "yr_grps = filter(bool, starmap(plottable, sz.reset_index().groupby('Topic')))"
     ],
     "language": "python",
     "metadata": {},
     "outputs": [],
     "prompt_number": 45
    },
    {
     "cell_type": "code",
     "collapsed": false,
     "input": [
      "plt.figsize(10, 8)\n",
      "cols = cycle('rgbcmyk')\n",
      "_rep = int(round(len(yr_grps) / 2))\n",
      "styles = cycle('-')  #cycle((['-'] * _rep) + (['--'] * _rep))\n",
      "tops = []\n",
      "for k, gp in yr_grps:\n",
      "    gp.plot(color=cols.next(), ls=styles.next())\n",
      "    print '{}, {}, {:.1f}'.format(k, gp.idxmax(), gp.max() * 100)\n",
      "    tops.append(k)\n",
      "    #gp.set_index('Year')[0].plot()\n",
      "_ = plt.legend(tops)"
     ],
     "language": "python",
     "metadata": {},
     "outputs": [
      {
       "output_type": "stream",
       "stream": "stdout",
       "text": [
        "2, 1998, 28.9\n",
        "3, 1992, 35.3\n",
        "4, 1997, 44.7\n",
        "5, 2006, 38.1\n"
       ]
      },
      {
       "output_type": "display_data",
       "png": "[encoded data removed]",
       "text": [
        "<matplotlib.figure.Figure at 0x106e3f410>"
       ]
      }
     ],
     "prompt_number": 49
    },
    {
     "cell_type": "markdown",
     "metadata": {},
     "source": [
      "Topics 7, 9 and 0 14 peaked in 1998, while 8 and 4 peaked a year earlier."
     ]
    },
    {
     "cell_type": "code",
     "collapsed": false,
     "input": [
      "list(itertools.combinations([1, 2, 3], 2))"
     ],
     "language": "python",
     "metadata": {},
     "outputs": [
      {
       "output_type": "pyout",
       "prompt_number": 173,
       "text": [
        "[(1, 2), (1, 3), (2, 3)]"
       ]
      }
     ],
     "prompt_number": 173
    },
    {
     "cell_type": "code",
     "collapsed": false,
     "input": [
      "lst"
     ],
     "language": "python",
     "metadata": {},
     "outputs": [
      {
       "output_type": "pyout",
       "prompt_number": 180,
       "text": [
        "(8, 0.79508541716748538)"
       ]
      }
     ],
     "prompt_number": 180
    },
    {
     "cell_type": "code",
     "collapsed": false,
     "input": [
      "combos = [list(itertools.combinations(lst, 2)) for lst in [map(itemgetter(0), _lst) for _lst in _topic_stats] if len(lst) > 1]\n",
      "combos[:3]"
     ],
     "language": "python",
     "metadata": {},
     "outputs": [
      {
       "output_type": "pyout",
       "prompt_number": 183,
       "text": [
        "[[(8, 3)], [(8, 4), (8, 2), (4, 2)], [(8, 3), (8, 2), (3, 2)]]"
       ]
      }
     ],
     "prompt_number": 183
    },
    {
     "cell_type": "code",
     "collapsed": false,
     "input": [
      "from collections import defaultdict"
     ],
     "language": "python",
     "metadata": {},
     "outputs": [],
     "prompt_number": 184
    },
    {
     "cell_type": "code",
     "collapsed": false,
     "input": [
      "def _cnt(lst):\n",
      "    for tup in lst:\n",
      "        _cnt.dct[tuple(sorted(tup))] += 1\n",
      "_cnt.dct = defaultdict(int)\n",
      "_ = map(_cnt, combos)"
     ],
     "language": "python",
     "metadata": {},
     "outputs": [],
     "prompt_number": 191
    },
    {
     "cell_type": "code",
     "collapsed": false,
     "input": [
      "_cnt.dct"
     ],
     "language": "python",
     "metadata": {},
     "outputs": [
      {
       "output_type": "pyout",
       "prompt_number": 192,
       "text": [
        "defaultdict(<type 'int'>, {(3, 10): 1, (6, 10): 1, (8, 13): 59, (3, 7): 1, (4, 8): 52, (7, 12): 2, (2, 8): 729, (0, 13): 2, (0, 7): 1, (4, 6): 1, (8, 9): 40, (4, 12): 2, (2, 12): 59, (11, 14): 11, (7, 11): 7, (10, 11): 8, (2, 5): 34, (1, 11): 9, (0, 3): 1, (5, 8): 37, (1, 2): 71, (8, 14): 49, (2, 14): 44, (2, 9): 36, (0, 6): 1, (12, 13): 1, (5, 12): 1, (3, 13): 3, (1, 14): 1, (8, 10): 56, (2, 13): 56, (9, 11): 6, (3, 14): 1, (7, 10): 1, (1, 10): 1, (11, 13): 8, (0, 1): 1, (7, 14): 1, (2, 6): 49, (4, 10): 1, (5, 11): 12, (6, 11): 10, (1, 13): 2, (8, 11): 172, (1, 7): 2, (1, 4): 1, (2, 10): 50, (2, 3): 60, (1, 9): 2, (1, 3): 2, (0, 8): 54, (11, 12): 6, (4, 11): 8, (7, 9): 2, (2, 7): 63, (3, 12): 1, (6, 8): 52, (4, 7): 1, (8, 12): 66, (13, 14): 1, (7, 13): 1, (2, 11): 159, (2, 4): 48, (3, 8): 75, (3, 11): 11, (1, 8): 73, (6, 13): 1, (0, 11): 10, (7, 8): 67, (0, 2): 50, (9, 12): 2})"
       ]
      }
     ],
     "prompt_number": 192
    },
    {
     "cell_type": "raw",
     "metadata": {},
     "source": [
      "_df = pd.DataFrame(_cnt.dct.items()).set_index(0).sort(1, ascending=0)\n",
      "_df"
     ]
    },
    {
     "cell_type": "code",
     "collapsed": false,
     "input": [
      "_topic_words = [', '.join(w for w in wds) for wds in topic_words]"
     ],
     "language": "python",
     "metadata": {},
     "outputs": [],
     "prompt_number": 314
    },
    {
     "cell_type": "raw",
     "metadata": {},
     "source": [
      "t98 = 7, 9, 0, 14\n",
      "t97 = 8, 4\n",
      "for i in t97:\n",
      "    print _topic_words[i]\n",
      "print\n",
      "for i in t98:\n",
      "    print _topic_words[i]\n"
     ]
    },
    {
     "cell_type": "code",
     "collapsed": false,
     "input": [
      "c = Counter([w for subl in topic_words for w in subl])"
     ],
     "language": "python",
     "metadata": {},
     "outputs": [],
     "prompt_number": 263
    },
    {
     "cell_type": "code",
     "collapsed": false,
     "input": [
      "c"
     ],
     "language": "python",
     "metadata": {},
     "outputs": [
      {
       "output_type": "pyout",
       "prompt_number": 264,
       "text": [
        "Counter({u'foley': 5, u'bank': 4, u'clinton': 3, u'reno': 3, u'hastert': 3, u'her': 3, u'independent': 3, u'overdrafts': 3, u'counsel': 3, u'soft': 3, u'voters': 2, u'money': 2, u'shays': 2, u'checks': 2, u'prosecutor': 2, u'races': 2, u'gore': 2, u'huang': 2, u'law': 2, u'gingrich': 2, u'bill': 2, u'meehan': 2, u'she': 2, u'ms': 2, u'foleys': 2, u'page': 2, u'attorney': 1, u'overdrawn': 1, u'members': 1, u'investors': 1, u'messages': 1, u'seats': 1, u'mccain': 1, u'ickes': 1, u'accounts': 1, u'democrats': 1, u'parties': 1, u'accounting': 1, u'abramoff': 1, u'contributions': 1, u'market': 1, u'ney': 1, u'justice': 1, u'reynolds': 1, u'fordham': 1, u'<money>': 1, u'department': 1, u'party': 1, u'stock': 1, u'wilkey': 1, u'finance': 1, u'governors': 1, u'republicans': 1, u'fund': 1, u'treasury': 1, u'pages': 1, u'limits': 1, u'corporate': 1, u'companies': 1, u'budget': 1, u'securities': 1, u'donations': 1, u'ban': 1, u'senator': 1, u'democratic': 1, u'hasterts': 1})"
       ]
      }
     ],
     "prompt_number": 264
    },
    {
     "cell_type": "code",
     "collapsed": false,
     "input": [
      "vc"
     ],
     "language": "python",
     "metadata": {},
     "outputs": [
      {
       "output_type": "pyout",
       "prompt_number": 270,
       "text": [
        "0    44.965675\n",
        "2    16.132723\n",
        "3    12.013730\n",
        "1     9.382151\n",
        "4     7.093822\n",
        "5     5.491991\n",
        "6     4.919908"
       ]
      }
     ],
     "prompt_number": 270
    },
    {
     "cell_type": "code",
     "collapsed": false,
     "input": [
      "for i, wds in enumerate(_topic_words):\n",
      "    print '{} ({:.1f}%): {}'.format(i, vc[i] * 100, wds) # reduce num of topics"
     ],
     "language": "python",
     "metadata": {},
     "outputs": [
      {
       "output_type": "stream",
       "stream": "stdout",
       "text": [
        "0 (45.7%): clinton, republicans, gingrich, bill, democrats, money, she, party, bush, foley, voters, senator, soft, democratic, <money>\n",
        "1 (16.2%): soft, meehan, mccain, shays, foley, bill, bank, limits, money, parties, ban, donations, overdrafts, finance, contributions\n",
        "2 (10.4%): reno, gore, huang, voters, seats, counsel, department, justice, independent, races, ickes, law, trie, fund, prosecutor\n",
        "3 (13.4%): bank, gore, overdrafts, clinton, reno, foley, checks, her, she, enron, huang, members, ickes, ethics, hastert\n",
        "4 (7.6%): foley, hastert, securities, soft, meehan, corporate, enron, market, accounting, companies, shays, stock, investors, page, foleys\n",
        "5 (6.8%): hastert, bank, overdrafts, foley, checks, foleys, page, pages, fordham, messages, accounts, hasterts, overdrawn, wilkey, reynolds\n"
       ]
      }
     ],
     "prompt_number": 315
    },
    {
     "cell_type": "code",
     "collapsed": false,
     "input": [
      "search = lambda wrd: sorted(((b['title'], b['date'].year) for b in filter(lambda x: wrd in x['text'].lower(), raw)), key=itemgetter(1))\n",
      "search('fordham')"
     ],
     "language": "python",
     "metadata": {},
     "outputs": [
      {
       "output_type": "pyout",
       "prompt_number": 17,
       "text": [
        "[(u'THE 2006 CAMPAIGN; Hastert Vows To Fire Aides If a Cover-Up Is Discovered',\n",
        "  2006),\n",
        " (u'Amid Questions Over Page Scandal, a Republican Leader Is Buffeted on His Home Turf',\n",
        "  2006),\n",
        " (u'THE 2006 CAMPAIGN; Speaker Testifies in Foley Ethics Inquiry', 2006),\n",
        " (u\"Republicans Hope Hastert's Words and a Committee's Action Can Quell Uproar\",\n",
        "  2006),\n",
        " (u\"THE 2006 CAMPAIGN; Ex-Aide to Foley Testifies of Warning Speaker's Office\",\n",
        "  2006),\n",
        " (u'Former Foley Aide Expecting to Testify Before House Panel', 2006),\n",
        " (u\"'05 Meeting Could Clarify G.O.P. Role in Foley Case\", 2006),\n",
        " (u\"Foley Case Upsets Tough Balance Of Capitol Hill's Gay Republicans\", 2006)]"
       ]
      }
     ],
     "prompt_number": 17
    },
    {
     "cell_type": "code",
     "collapsed": false,
     "input": [
      "search = lambda wrd: sorted(((b['title'], b['date'].year) for b in filter(lambda x: wrd in x['text'].lower(), raw)), key=itemgetter(1))\n",
      "_s = sorted(((b['title'], b['date'].year) for b in filter(lambda x: 'hastert' in x['text'].lower(), raw)), key=itemgetter(1))\n",
      "for t, y in _s:\n",
      "    print '{}: {}'.format(y, t)"
     ],
     "language": "python",
     "metadata": {},
     "outputs": [
      {
       "output_type": "stream",
       "stream": "stdout",
       "text": [
        "1999: McCain Renews Push for Debate On Campaign Finance Overhaul\n",
        "1999: PUBLIC LIVES; Tom DeLay Holds No Gavel, But a Firm Grip on the Reins\n",
        "1999: A Curse on the House\n",
        "1999: GOVERNORS INSIST THAT WASHINGTON RETURN TO ISSUES\n",
        "1999: THE PRESIDENT'S ACQUITTAL: NEWS ANALYSIS; The Fallout Of the Trial\n",
        "1999: Incoming Speaker Seeks Renewed Faith in House\n",
        "1999: Mr. Clinton's Budget Opportunities\n",
        "2000: HOUSE BACKS BILL TO OPEN RECORDS OF POLICY GROUPS\n",
        "2000: In a Lobby-Happy Washington, Politics Can Be Even Thicker Than Blood\n",
        "2001: CAMPAIGN FINANCE BILL PASSES IN SENATE, 59-41; HOUSE FOES VOW A FIGHT\n",
        "2001: CAMPAIGN MEASURE SHELVED AFTER FIERCE FIGHT ON RULES\n",
        "2001: Show Us the Money\n",
        "2002: A New Rallying Cry for Reform\n",
        "2002: In Surprise, House Speaker Sets Vote on Campaign Finance\n",
        "2002: HOUSE BACKS BROAD CHANGE IN FINANCING OF CAMPAIGNS; FAST SENATE ACTION SOUGHT\n",
        "2002: CORPORATE CONDUCT: CONGRESS; G.O.P. IN CONGRESS MOVING PAST BUSH ON BUSINESS FRAUD\n",
        "2002: White House Is Backing Foes Of Finance Bill\n",
        "2002: Bush Facing Test in House As Economic Agenda Stalls\n",
        "2002: A Good Night's Work\n",
        "2002: Comeback for Campaign Reform\n",
        "2002: House G.O.P. Rallies Forces Against Bill On Donations\n",
        "2002: CORPORATE CONDUCT: THE OVERVIEW; SENATE APPROVES A BROAD OVERHAUL OF BUSINESS LAWS\n",
        "2003: Air Force Pushes Its Plan To Lease Boeing Tankers\n",
        "2004: Not in America\n",
        "2004: A Scandal Waiting To Happen\n",
        "2005: Congressional Memo; House Scandal of the 90's Has Echoes in Travel Issue\n",
        "2006: PUSH TO TIGHTEN LOBBYING RULES LOSES STRENGTH\n",
        "2006: THE 2006 CAMPAIGN; Bush's Megaphone Unable To Reach Above the Din\n",
        "2006: Real Scandals, and Fake Ones\n",
        "2006: THE 2006 ELECTIONS: THE HOUSE; On Wave of Voter Unrest, Democrats Take Control of House\n",
        "2006: THE 2006 CAMPAIGN; Hastert Vows To Fire Aides If a Cover-Up Is Discovered\n",
        "2006: THE 2006 CAMPAIGN; Poll Shows Foley Case Is Alienating Public From Congress\n",
        "2006: Hastert, a Political Survivor, Vows to Overcome Scandal\n",
        "2006: THE 2006 ELECTIONS: THE HOUSE; Republicans in House Quickly Begin Shuffle\n",
        "2006: Amid Questions Over Page Scandal, a Republican Leader Is Buffeted on His Home Turf\n",
        "2006: Evangelicals Blame Foley, Not Republican Party\n",
        "2006: House's Program for Teenagers Is No Stranger to Scandal\n",
        "2006: Foley Was Sexually Abused As a Youth, His Lawyer Says\n",
        "2006: Corrections\n",
        "2006: Political Memo; House Republicans Rally for Epic Battle\n",
        "2006: THE 2006 CAMPAIGN; Speaker Testifies in Foley Ethics Inquiry\n",
        "2006: THE 2006 ELECTIONS; G.O.P. in House Gears Up For New Leadership Fight\n",
        "2006: Democrats Eye Positions If They Gain House Control\n",
        "2006: IN HOUSE RACES, MORE G.O.P. SEATS ARE SEEN AT RISK\n",
        "2006: The Speaker's Hard Lesson in Reform\n",
        "2006: Republicans Hope Hastert's Words and a Committee's Action Can Quell Uproar\n",
        "2006: Louisiana Page Not Central To Inquiry, Lawmaker Says\n",
        "2006: THE 2006 CAMPAIGN; Bush's Press Secretary Is Out Raising Money, And Some Eyebrows\n",
        "2006: Get Congress Out of the Page Business\n",
        "2006: THE 2006 CAMPAIGN; Ex-Aide to Foley Testifies of Warning Speaker's Office\n",
        "2006: Winning Small\n",
        "2006: The Odor From Capitol Hill\n",
        "2006: Woulda. Coulda. Shoulda?\n",
        "2006: HASTERT FIGHTS TO SAVE HIS JOB IN PAGE SCANDAL\n",
        "2006: Target of F.B.I. Had Bold Climb To Capitol Hill\n",
        "2006: Former Foley Aide Expecting to Testify Before House Panel\n",
        "2006: Hastert Scouts for House Role After 8 Years as Speaker\n",
        "2006: THE 2006 CAMPAIGN; As the Foley Case Unfolds, Hastert Gets a More Enthusiastic Nod From Bush\n",
        "2006: After a 'Tough Year,' House Republicans Try to Get Back on Course\n",
        "2006: CONGRESSIONAL MEMO; Along With Victories, G.O.P. Takes a Few Blows\n",
        "2006: '05 Meeting Could Clarify G.O.P. Role in Foley Case\n",
        "2006: THE 2006 CAMPAIGN; Candidates Show Strain Of Tough Election Season\n",
        "2006: Lobbying Bill Passes Narrowly in House\n",
        "2006: Bush's Immigration Plan Stalled As House G.O.P. Grew Anxious\n",
        "2006: Standing Apart From His Party, Kean Calls for House Speaker to Step Down\n",
        "2006: Google, Once a Maverick in the Business World, Joins the Washington Lobbying Herd\n",
        "2006: PRESSURE GROWS FOR REPUBLICANS OVER FOLEY CASE\n",
        "2007: DeLay Sees the Reason for His Party's Loss (And, No, It Was Not Him)\n",
        "2007: POLITICAL MEMO; A Scandal-Scarred G.O.P. Asks, 'What Next?'\n",
        "2007: Fed's Ex-Chief Attacks Bush On Fiscal Role\n",
        "2007: Tougher Rules Change Game For Lobbyists\n",
        "2008: EDITORIAL; It's So Much Nicer on K Street\n",
        "2008: Tom Davis Gives Up\n",
        "2008: Democrats Increase Their Strength in the House, but Lose Some Races\n"
       ]
      }
     ],
     "prompt_number": 369
    },
    {
     "cell_type": "code",
     "collapsed": false,
     "input": [
      "span = lambda seq: range(min(seq), max(seq) + 1)"
     ],
     "language": "python",
     "metadata": {},
     "outputs": [],
     "prompt_number": 380
    },
    {
     "cell_type": "code",
     "collapsed": false,
     "input": [
      "plt.figsize(12, 12)\n",
      "topics = df.Topic.unique()\n",
      "N = len(topics) // 2\n",
      "for i, topic in enumerate(sorted(topics)):\n",
      "    plt.subplot(N * 100 + 20 + i + 1)\n",
      "    a = df[df.Topic == topic].index.map(lambda x: x.year)\n",
      "    plt.hist(a, bins=span(a))\n",
      "    plt.ylabel('Topic #{}'.format(topic))\n",
      "    plt.title(tformat(topic_words[i]))\n",
      "plt.tight_layout()\n",
      "plt.figsize(6, 4)"
     ],
     "language": "python",
     "metadata": {},
     "outputs": [
      {
       "output_type": "display_data",
       "png": "[encoded data removed]",
       "text": [
        "<matplotlib.figure.Figure at 0x10b6d2250>"
       ]
      }
     ],
     "prompt_number": 381
    },
    {
     "cell_type": "raw",
     "metadata": {},
     "source": [
      "filter(lambda x: x['title'] == 'Democrat Urges Foley to Resign In Bank Scandal', raw)"
     ]
    },
    {
     "cell_type": "code",
     "collapsed": false,
     "input": [
      "df[df.Title == 'Democrat Urges Foley to Resign In Bank Scandal']"
     ],
     "language": "python",
     "metadata": {},
     "outputs": [
      {
       "output_type": "pyout",
       "prompt_number": 374,
       "text": [
        "                                                     Title  Topic     Score\n",
        "Date                                                                       \n",
        "1992-04-03  Democrat Urges Foley to Resign In Bank Scandal      3  8.677454"
       ]
      }
     ],
     "prompt_number": 374
    },
    {
     "cell_type": "code",
     "collapsed": false,
     "input": [
      "set(topic_words[3]) & set(topic_words[5])"
     ],
     "language": "python",
     "metadata": {},
     "outputs": [
      {
       "output_type": "pyout",
       "prompt_number": 400,
       "text": [
        "set([u'foley', u'overdrafts', u'bank', u'checks', u'hastert'])"
       ]
      }
     ],
     "prompt_number": 400
    },
    {
     "cell_type": "code",
     "collapsed": false,
     "input": [
      "sorted((jaccard(topic_words[i], topic_words[j]), i, j) for i, j in itertools.combinations(range(len(topic_words)), 2))[::-1]"
     ],
     "language": "python",
     "metadata": {},
     "outputs": [
      {
       "output_type": "pyout",
       "prompt_number": 397,
       "text": [
        "[(0.2, 3, 5),\n",
        " (0.15384615384615385, 4, 5),\n",
        " (0.15384615384615385, 2, 3),\n",
        " (0.15384615384615385, 1, 4),\n",
        " (0.15384615384615385, 0, 1),\n",
        " (0.1111111111111111, 3, 4),\n",
        " (0.1111111111111111, 1, 5),\n",
        " (0.1111111111111111, 1, 3),\n",
        " (0.1111111111111111, 0, 3),\n",
        " (0.07142857142857142, 0, 4),\n",
        " (0.034482758620689655, 0, 5),\n",
        " (0.034482758620689655, 0, 2),\n",
        " (0.0, 2, 5),\n",
        " (0.0, 2, 4),\n",
        " (0.0, 1, 2)]"
       ]
      }
     ],
     "prompt_number": 397
    },
    {
     "cell_type": "code",
     "collapsed": false,
     "input": [
      "for i, j in itertools.combinations(range(len(topic_words)), 2):\n",
      "#    N = len(set(topic_words[i]) & set(topic_words[j])) / len(topic_words[i])\n",
      "    print i, j, jaccard(topic_words[i], topic_words[j])"
     ],
     "language": "python",
     "metadata": {},
     "outputs": [
      {
       "output_type": "stream",
       "stream": "stdout",
       "text": [
        "0 1 0.153846153846\n",
        "0 2 0.0344827586207\n",
        "0 3 0.111111111111\n",
        "0 4 0.0714285714286\n",
        "0 5 0.0344827586207\n",
        "1 2 0.0\n",
        "1 3 0.111111111111\n",
        "1 4 0.153846153846\n",
        "1 5 0.111111111111\n",
        "2 3 0.153846153846\n",
        "2 4 0.0\n",
        "2 5 0.0\n",
        "3 4 0.111111111111\n",
        "3 5 0.2\n",
        "4 5 0.153846153846\n"
       ]
      }
     ],
     "prompt_number": 395
    },
    {
     "cell_type": "code",
     "collapsed": false,
     "input": [
      "jaccard = lambda a, b: len(set(a) & set(b)) / len(set(a) | set(b))"
     ],
     "language": "python",
     "metadata": {},
     "outputs": [],
     "prompt_number": 394
    },
    {
     "cell_type": "code",
     "collapsed": false,
     "input": [
      "for i in range(len(topic_words)):\n",
      "    for j in range(len(topic_words)):\n",
      "        if i == j: continue\n",
      "            "
     ],
     "language": "python",
     "metadata": {},
     "outputs": []
    },
    {
     "cell_type": "code",
     "collapsed": false,
     "input": [
      "search('meehan')"
     ],
     "language": "python",
     "metadata": {},
     "outputs": [
      {
       "output_type": "pyout",
       "prompt_number": 382,
       "text": [
        "[(u'MANY PROPOSALS, FEW SUPPORTERS, ON CAMPAIGN LAW', 1997),\n",
        " (u'Congress Gets Break in Season Of Sex Scandal', 1998),\n",
        " (u'House G.O.P. Urges a Vote Of No on Ban On Donations', 1999),\n",
        " (u'HOUSE BACKS BILL TO OPEN RECORDS OF POLICY GROUPS', 2000),\n",
        " (u'HOUSE G.O.P. SEEKS NEW WAY TO BLOCK CAMPAIGN MEASURE', 2001),\n",
        " (u'CAMPAIGN FINANCE BILL PASSES IN SENATE, 59-41; HOUSE FOES VOW A FIGHT',\n",
        "  2001),\n",
        " (u'Last Push on Campaign Finance', 2001),\n",
        " (u'CAMPAIGN MEASURE SHELVED AFTER FIERCE FIGHT ON RULES', 2001),\n",
        " (u'THE SUPREME COURT: CAMPAIGN MONEY; Justices Uphold Curbs on Coordinated Political Spending',\n",
        "  2001),\n",
        " (u\"Law's Sponsors Fault Draft Of Campaign Finance Rules\", 2002),\n",
        " (u'A New Rallying Cry for Reform', 2002),\n",
        " (u'In Surprise, House Speaker Sets Vote on Campaign Finance', 2002),\n",
        " (u'HOUSE BACKS BROAD CHANGE IN FINANCING OF CAMPAIGNS; FAST SENATE ACTION SOUGHT',\n",
        "  2002),\n",
        " (u'White House Is Backing Foes Of Finance Bill', 2002),\n",
        " (u\"A Good Night's Work\", 2002),\n",
        " (u'CAMPAIGN FINANCE: THE OVERVIEW; SPONSORS THWART MOVES TO SCUTTLE SOFT-MONEY BILL',\n",
        "  2002),\n",
        " (u'Comeback for Campaign Reform', 2002),\n",
        " (u'House G.O.P. Rallies Forces Against Bill On Donations', 2002),\n",
        " (u'Fearing Limits on Soft Money, Parties Fill Coffers', 2002),\n",
        " (u'CAMPAIGN FINANCE; Excerpts From House Debate on the Shays-Meehan Campaign Finance Bill',\n",
        "  2002),\n",
        " (u'Free Speech and Enron Play In Debate Over Soft Money', 2002),\n",
        " (u'Congressional Memo; Political Donations, Bribery and the Portrayal of a Nexus',\n",
        "  2005)]"
       ]
      }
     ],
     "prompt_number": 382
    },
    {
     "cell_type": "raw",
     "metadata": {},
     "source": [
      "Tom Foley speaker until '95, Hastert was there forever\n",
      "Marty Meehan was a major sponsor of campaign finance reform bills"
     ]
    },
    {
     "cell_type": "code",
     "collapsed": false,
     "input": [
      "df[df.Topic == 2].Title"
     ],
     "language": "python",
     "metadata": {},
     "outputs": [
      {
       "output_type": "pyout",
       "prompt_number": 368,
       "text": [
        "Date\n",
        "1992-03-21                                                           THE 1992 CAMPAIGN: The House; COUNSEL TO REVIEW HOUSE OVERDRAFTS\n",
        "1992-05-21                                                                              Salomon to Pay Phony-Bid Fine Of $290 Million\n",
        "1992-06-11                                                                              Files Detail Aid to Bush By Nixon White House\n",
        "1992-06-28                                                                               Weinberger Case Livens Debate on Counsel Law\n",
        "1992-09-11                                                                                      Ex-House Post Office Manager Indicted\n",
        "1992-11-29             The Senator And the Builder: A special report.; Gramm's Homebuilding Bargain Raises Issue of Possible Conflict\n",
        "1993-01-19                                                          Senate Republicans Hire Official Cited in Clinton Passport Search\n",
        "1993-08-13                                                                                  Lawmakers' Legal Aid Society: Rich Donors\n",
        "1993-11-03                                                                                        Packwood Case Steps Onto New Ground\n",
        "1994-01-07                                                            Special Counsel in Clinton Deals Depends on Congress, Reno Says\n",
        "1994-01-15                                                                                                A Truly Independent Counsel\n",
        "1994-02-11                                                                             House Votes to Restore Independent Counsel Law\n",
        "1996-01-28                                                            The Envelope, Please;A Bribe's Not a Bribe When It's a Donation\n",
        "1996-05-17                                                                              Election-Law Violations Swirl Around Lawmaker\n",
        "1996-12-26                                                                         In Political Money Game, The Year of Big Loopholes\n",
        "1997-02-16                                                                                                      Reform in the Balance\n",
        "1997-02-21                                                                            'Bit Actor' to Star in a New Role: Mr. Chairman\n",
        "1997-03-02                                                                         At the White House, Entertaining With a Difference\n",
        "1997-03-09                                                                 'Pit Bull' Congressman Gets a Chance to Be More Aggressive\n",
        "1997-03-10                                                                        F.B.I. Warned Of Donations From China, Senator Says\n",
        "1997-03-27                                                                             Visit Home Puts Lessons of Washington in Check\n",
        "1997-04-03                                                                                      Campaign Finance: Developments So Far\n",
        "1997-04-07                                                     Common Topic but Separate Agendas for Inquiries Into Campaign Finances\n",
        "1997-04-08                                                              Most Doubt a Resolve to Change Campaign Financing, Poll Finds\n",
        "1997-05-09                                                                                         HONG KONG MONEY RETURNED BY G.O.P.\n",
        "1997-06-12                                                                                      Early Warnings on Gore's Temple Visit\n",
        "1997-06-13                                                                                     Lawmaker Says Huang Passed Secret Data\n",
        "1997-07-06                                                                                               What Is Janet Reno Thinking?\n",
        "1997-07-09                                                            Excerpts From Remarks on First Day of Campaign Finance Hearings\n",
        "1997-07-09                                                                               Partisan Maneuvering For Hearing's Spotlight\n",
        "1997-07-09                                                                                      Huang May Yet Testify to Senate Panel\n",
        "1997-07-09                                                                                    For Senators, The Answers Carry a Price\n",
        "1997-07-10                                                                                     Partisan Fencing, but Little Bloodshed\n",
        "1997-07-11                                                         Testimony in Senate Hearings on Campaign Fund-Raising by Democrats\n",
        "1997-07-13                                                                              A Scandal Falls Victim to Its Own Irrelevance\n",
        "1997-07-13                                                                          Democrats Win First Round of Fund-Raising Inquiry\n",
        "1997-07-21                                                                            Republican Shows Flair for Lead Role in Inquiry\n",
        "1997-07-25                                                                       EX-G.O.P. CHAIRMAN STRONGLY DEFENDS HIS FUND-RAISING\n",
        "1997-07-30                                                                        COMMITTEE IS TOLD A DONOR RECEIVED FOREIGNERS' CASH\n",
        "1997-07-31                                                                          In Search for 'Soft Money' Source, Few Hard Facts\n",
        "1997-08-03                                                                                               The Case for Campaign Reform\n",
        "1997-08-15                                                                                      A Tip, but Figure in Inquiry Got Away\n",
        "1997-09-06                                                                          Former Aide and Republicans Debate What Gore Knew\n",
        "1997-09-11                                                                         Still Offstage, Ickes Has Star Billing at Hearings\n",
        "1997-09-12                                                    CAMPAIGN FINANCE: THE HEARINGS; Adviser Defends Clinton on Donor Visits\n",
        "1997-09-12                                   CAMPAIGN FINANCE: THE GOALS; Memo Appears to Reveal Gore In Active Role as a Fund-Raiser\n",
        "1997-09-29                                       Against the Current, Republican Senator Is Trying to Block Fund-Raising Restrictions\n",
        "1997-10-05                                                                            Reno's Off-and-On Mood for Counsel Is Off Again\n",
        "1997-10-08    CAMPAIGN FINANCE: THE SCENE -- CAPITOL SKETCHBOOK; Day of Wrangling in the Senate Over Campaign Finance Laws Is Cut ...\n",
        "1997-10-08                                                 CAMPAIGN FINANCE: THE OVERVIEW; Clinton Lawyer Is Subpoenaed On Tape Delay\n",
        "1997-10-08                                           CAMPAIGN FINANCE: THE WHITE HOUSE; The Slowly Rising Price Of Delay and Foul-Ups\n",
        "1997-10-15                                                                                            Caught in Law Not Meant to Bend\n",
        "1997-10-16                          CAMPAIGN FINANCE: THE HEARING -- CAPITOL SKETCHBOOK; Through Trial by Tape, Reno Is Unperturbable\n",
        "1997-10-20                                                                                           Goals Clash in Shielding Privacy\n",
        "1997-12-07                                                                  The Nation; Looking for a Needle, Can't Find the Haystack\n",
        "1998-02-01                                                            Blank Check; Ethics in Government: The Price of Good Intentions\n",
        "1998-02-08                                                                        DRAFT OF REPORT FOR G.O.P. ATTACKS CLINTON CAMPAIGN\n",
        "1998-02-11                                                                                         'CHINA AREA' TIED TO ILLEGAL GIFTS\n",
        "1998-02-12                                                                         RENO REQUESTING A COUNSEL TO LOOK AT BABBITT MOVES\n",
        "1998-02-15                                                                       ATTACK BY G.O.P. OVER FUND-RAISING DOESN'T SLOW GORE\n",
        "1998-02-28                                                                                          Clinton Finance Figure Speaks Out\n",
        "1998-04-24                                                                               2 Officials Quit Inquiry on Campaign Finance\n",
        "1998-09-02                                                                   Reno Orders Inquiry Into Ickes's Testimony Before Senate\n",
        "1998-09-09                                                                         RENO ANNOUNCES AN INITIAL INQUIRY INTO CLINTON ADS\n",
        "1998-09-18                                                                     CHANGE IN CONTROL OF SATELLITE SALES GAINS IN CONGRESS\n",
        "1998-09-29                                                                     The Business of Persuasion Thrives in Nation's Capital\n",
        "1998-11-29                                                                   Man in the News: Harold M. Ickes; A Point Man Under Fire\n",
        "1998-12-08                                                                   Reno Rejects Outside Inquiry On Clinton for Campaign Ads\n",
        "1998-12-13                                                 The Nation: In Hot Pursuit of Minutiae; The Sound of One Law Breaking Down\n",
        "1999-02-25                                                                       Senate Is Urged to Delay Decision on the Counsel Law\n",
        "1999-04-17                                                                               House Panel Subpoenas Democratic Fund-Raiser\n",
        "1999-05-12                                                                               Committee Told Of Beijing Cash For Democrats\n",
        "1999-05-12                             THE MONEY TRAIL: A special report.; China Sent Cash to U.S. Bank, With Suspicions Slow to Rise\n",
        "1999-06-30                                                            Attorney General Taking Control As Independent Counsel Law Dies\n",
        "1999-09-08                                                                       LONG, COSTLY CASE AGAINST CISNEROS ENDS IN PLEA DEAL\n",
        "1999-10-06                                      After 23 Years, the Supreme Court Turns Again to the Limits on Campaign Contributions\n",
        "2000-03-03                            THE 2000 CAMPAIGN: CAMPAIGN FINANCE; Longtime Fund-Raiser for Gore Convicted in Donation Scheme\n",
        "2000-05-05                                                                                 Ex-Clinton Counsel Grilled on E-Mail Issue\n",
        "2000-06-24                                         THE 2000 CAMPAIGN: THE OVERVIEW; AN ANGERED GORE DEFENDED '96 ROLE TO INVESTIGATOR\n",
        "2000-06-28                                                                           Reno Defends Her Decision On Inquiry Of Campaign\n",
        "2000-06-28                                                                   Political Memo; Both Parties See Ally in Gore Transcript\n",
        "2002-05-15                                                        On Day of Big Fund-Raiser, White House Is Attacked as 9/11 Marketer\n",
        "2003-04-20                                                                         F.B.I. Spy Case Highlights Problem With Informants\n",
        "2005-01-12                                       THREATS AND RESPONSES: THE OVERVIEW; Bush Names Judge as Homeland Security Secretary\n",
        "2005-11-02                                                                             DETAINEE POLICY SHARPLY DIVIDES BUSH OFFICIALS\n",
        "2005-11-25                                              Congressional Memo; Political Donations, Bribery and the Portrayal of a Nexus\n",
        "2006-04-09                                                                        Lobbying Cases Highlight Prime Targets' Family Ties\n",
        "2007-05-04                                     Editorial Observer; The U.S. Attorney, the G.O.P. Congressman and the Timely Job Offer\n",
        "2007-08-28                                                                      U.S. Widens Fraud Inquiry Into Iraq Military Supplies\n",
        "2007-12-20                                                               In His Charity and Her Politics, Many Clinton Donors Overlap\n",
        "2012-06-08                                                            Ex-Aide to Senator Pleads Guilty in Scheme That Snared Only Him\n",
        "Name: Title, Length: 91"
       ]
      }
     ],
     "prompt_number": 368
    },
    {
     "cell_type": "code",
     "collapsed": false,
     "input": [
      "df[-5:]"
     ],
     "language": "python",
     "metadata": {},
     "outputs": [
      {
       "output_type": "pyout",
       "prompt_number": 371,
       "text": [
        "                                                          Title  Topic      Score\n",
        "Date                                                                             \n",
        "2013-01-26          Openly Gay, and Openly Welcomed in Congress      1   3.068144\n",
        "2013-03-05       Lawyer Says Woman Lied About Sex With Menendez      0  15.896086\n",
        "2013-05-17  G.O.P., Energized, Weighs How Far To Take Inquiries      1   2.508792\n",
        "2013-05-18        U.S.-Russian Diplomacy, With a Personal Touch      0   3.692987\n",
        "2013-05-22                 For Tea Party Groups, Shades of 2010      0   8.411728"
       ]
      }
     ],
     "prompt_number": 371
    },
    {
     "cell_type": "code",
     "collapsed": false,
     "input": [],
     "language": "python",
     "metadata": {},
     "outputs": [
      {
       "output_type": "pyout",
       "prompt_number": 339,
       "text": [
        "2"
       ]
      }
     ],
     "prompt_number": 339
    },
    {
     "cell_type": "code",
     "collapsed": false,
     "input": [
      "def tformat(l):\n",
      "    N = len(l) // 3\n",
      "    f = lambda x: ', '.join(x)\n",
      "    return '\\n'.join([f(l[:N]), f(l[N:2 * N]), f(l[2 * N:])])\n",
      "\n",
      "topic_words[1]"
     ],
     "language": "python",
     "metadata": {},
     "outputs": [
      {
       "output_type": "pyout",
       "prompt_number": 354,
       "text": [
        "[u'soft',\n",
        " u'meehan',\n",
        " u'mccain',\n",
        " u'shays',\n",
        " u'foley',\n",
        " u'bill',\n",
        " u'bank',\n",
        " u'limits',\n",
        " u'money',\n",
        " u'parties',\n",
        " u'ban',\n",
        " u'donations',\n",
        " u'overdrafts',\n",
        " u'finance',\n",
        " u'contributions']"
       ]
      }
     ],
     "prompt_number": 354
    },
    {
     "cell_type": "code",
     "collapsed": false,
     "input": [
      "print tformat(topic_words[0])"
     ],
     "language": "python",
     "metadata": {},
     "outputs": [
      {
       "output_type": "stream",
       "stream": "stdout",
       "text": [
        "clinton, republicans, gingrich, bill, democrats\n",
        "money, she, party, bush, foley\n",
        "voters, senator, soft, democratic, <money>\n"
       ]
      }
     ],
     "prompt_number": 356
    },
    {
     "cell_type": "code",
     "collapsed": false,
     "input": [
      "topic"
     ],
     "language": "python",
     "metadata": {},
     "outputs": [
      {
       "output_type": "pyout",
       "prompt_number": 331,
       "text": [
        "5"
       ]
      }
     ],
     "prompt_number": 331
    },
    {
     "cell_type": "code",
     "collapsed": false,
     "input": [
      "a = df[df.Topic == topic].index.map(lambda x: x.year)\n",
      "plt.hist(a)"
     ],
     "language": "python",
     "metadata": {},
     "outputs": [
      {
       "output_type": "pyout",
       "prompt_number": 330,
       "text": [
        "(array([ 2,  5,  2,  6,  1, 33,  4,  5,  0,  1]),\n",
        " array([ 1996. ,  1997.7,  1999.4,  2001.1,  2002.8,  2004.5,  2006.2,\n",
        "        2007.9,  2009.6,  2011.3,  2013. ]),\n",
        " <a list of 10 Patch objects>)"
       ]
      },
      {
       "output_type": "display_data",
       "png": "[encoded data removed]",
       "text": [
        "<matplotlib.figure.Figure at 0x10b151250>"
       ]
      }
     ],
     "prompt_number": 330
    },
    {
     "cell_type": "code",
     "collapsed": false,
     "input": [
      "_topic_words"
     ],
     "language": "python",
     "metadata": {},
     "outputs": [
      {
       "output_type": "pyout",
       "prompt_number": 220,
       "text": [
        "[u'kpmg, bachus, hmo, sweeney, riechers, weinberger, whereabouts, aeneas, fdr, orourke, reservation, stabilized, eischeid, sioux, tribal',\n",
        " u'chung, heaton, cuomo, shelters, stiles, gambling, mccurdy, chungs, wilkey, hedge, hagel, townhouse, google, japanese, xu',\n",
        " u'statute, counsels, lautenberg, gramm, appointment, overdraft, salomon, sunday, nuclear, contractors, safe, cox, controls, conrad, park',\n",
        " u'wilkes, martinez, wyden, confederate, visas, engel, pope, lauer, condits, horton, grassroots, fowler, salomon, durenberger, donaldson',\n",
        " u'yang, hilliard, berger, rinaldo, forest, fountain, forests, tamraz, lavrov, rivlin, orluskie, syria, mitchler, apology, gsn',\n",
        " u'deutch, kolter, legality, berkley, flottman, citigroup, kibaki, bernards, kidney, conrads, lehrner, transplant, scheuer, kenya, meyerhoff',\n",
        " u'derivatives, fa, cole, mcgrath, smoot, keith, kolter, canady, frey, dropout, colas, hedge, bolten, molinari, vietnamese',\n",
        " u'babbitt, gambling, waldholtz, mccurdy, cisneros, fordham, harman, dobson, riegle, walsh, casino, reyes, renewal, hsia, pact',\n",
        " u'clinton, republicans, she, bill, democrats, money, <money>, gingrich, her, mr, foley, senator, bank, party, democratic',\n",
        " u'weiner, waitress, solarz, mercer, weiners, moms, lautenberg, mozer, graft, haytaian, steroid, swim, fordham, abstinence, minow',\n",
        " u'mahoney, renzi, cranston, paterson, kolbe, trandahl, crdit, lyonnais, earley, ministers, irs, wilkey, french, hagel, woo',\n",
        " u'russ, sergeant, rostenkowskis, livingston, poindexter, cantrell, veterans, wyden, admiral, kerry, weiner, charters, archer, goss, awareness',\n",
        " u'colbert, chertoff, tamraz, freddie, castillo, lenders, mac, kerry, gargan, kerrys, mccollum, fda, lowery, tiahrt, lowerys',\n",
        " u'rudy, irs, livingstons, hampton, berry, burgville, q, magliocchetti, delays, livingston, fordham, blair, yacht, palmer, mcilwaine',\n",
        " u'mansfield, prudential, agnew, diary, blagojevich, mchale, informants, peacekeeping, hastings, leung, freddie, mac, safety, receivership, informant']"
       ]
      }
     ],
     "prompt_number": 220
    },
    {
     "cell_type": "code",
     "collapsed": false,
     "input": [
      "sorted(map(itemgetter('title', 'date'), filter(lambda x: 'waldholtz' in x['text'].lower(), raw)), key=itemgetter(1))"
     ],
     "language": "python",
     "metadata": {},
     "outputs": [
      {
       "output_type": "pyout",
       "prompt_number": 210,
       "text": [
        "[(u\"Warrant Issued in Federal Inquiry Into Finances of Congresswoman'sMissing Husband\",\n",
        "  datetime.datetime(1995, 11, 16, 0, 0)),\n",
        " (u'Journal;I Got You, Babe', datetime.datetime(1996, 5, 25, 0, 0))]"
       ]
      }
     ],
     "prompt_number": 210
    },
    {
     "cell_type": "markdown",
     "metadata": {},
     "source": [
      "[KPMG](http://www.nytimes.com/2004/01/13/business/changes-at-kpmg-after-criticism-of-its-tax-shelters.html) and [Sioux](http://www.nytimes.com/2010/08/02/opinion/02mon3.html), hmo coincides w/ time"
     ]
    },
    {
     "cell_type": "code",
     "collapsed": false,
     "input": [
      "raw[:2]"
     ],
     "language": "python",
     "metadata": {},
     "outputs": [
      {
       "output_type": "pyout",
       "prompt_number": 199,
       "text": [
        "[{u'_id': ObjectId('519c25af8cbeac7b308da945'),\n",
        "  u'date': datetime.datetime(2007, 8, 15, 0, 0),\n",
        "  u'text': u'Its hard to imagine that President Bush would dare to veto the groundbreaking lobbying reform bill that Congress passed this month when bipartisan majorities finally faced up to voters plummeting opinion of Capitol Hill ethics. Yet, the White House is citing serious concerns and raising red-herring complaints about a measure that provides at least a start at reining in the disgraceful quid-pro-quo culture of lawmakers and lobbyists.\\nThe White House might think its doing its Republican brethren a favor, by denying the Democratic leadership a big legislative win and ensuring that the torrent of lobbyist largess continues to flow in this campaign season. But, thankfully, thats not the view on Capitol Hill.\\nThe Democrats new reform measure drew sizable support from G.O.P. lawmakers intent on escaping the shadows of the Jack Abramoff lobbying scandal  the illicit golf-and-goodies legislating that helped deprive them of their control of Congress.\\nThe White Houses stated concerns border on the ludicrous  for example, that the president might be forced to pay hundreds of thousands of dollars when he uses Air Force One for campaign flights, because the measure bans members of Congress from flying the friendly skies of corporate jets at token fares. Election regulations have long recognized a presidents unique travel situation as a campaigner and would not change.\\nOther disingenuous concerns rely on the ultimate Washington ploy of arguing from the ideal  that the mandate to disclose and control earmarked pork in spending bills could be stronger. Thats true. But the bill still goes far beyond anything the Republicans enacted in previous years of the Bush hegemony in Congress.\\nUltimately, the pending legislation will gauge whether this White House rates the clout of the lobbying industry above Congresss legitimate attempt to clean its own house and the publics full-throated demand that it do so. If the president spikes the measure, Congress  particularly Republicans intent on surviving beyond the Bush administration  better quickly demonstrate how veto-proof their lobbying reform fervor has become.\\n',\n",
        "  u'title': u\"EDITORIAL; Mr. Bush's Chance to Help Congress\",\n",
        "  u'url': u'http://www.nytimes.com/2007/08/15/opinion/15wed3.html'},\n",
        " {u'_id': ObjectId('519c25af8cbeac7b308da946'),\n",
        "  u'date': datetime.datetime(2007, 3, 16, 0, 0),\n",
        "  u'text': u'WASHINGTON, March 15  The Senate on Thursday rejected a Democratic resolution to withdraw most American combat troops from  Iraq  in 2008, but a similar measure advanced in the House, and Democratic leaders vowed to keep challenging President Bush to change course in Iraq.\\nThe vote in the Senate was 50 against and 48 in favor, 12 short of what was needed to pass, with just a few defections in each party. It came just hours after the House Appropriations Committee, in another vote largely on party lines, approved an emergency spending bill for Iraq and Afghanistan that includes a timeline for withdrawal from Iraq. The House will vote on that legislation next Thursday, setting the stage for another confrontation.\\nThe action in both houses threw into sharp relief the Democratic strategy of ratcheting up the pressure, vote by vote, to try to force the White House to begin withdrawing troops from Iraq. But it also highlighted Republican unity in opposition; in the Senate, only one Republican,  Gordon H. Smith  of Oregon, voted with the Democrats.\\nRepublican leaders said they counted the day as a victory. It is clear now that the majority of the Senate opposes a deadline for the withdrawal of troops, said Senator  Mitch McConnell  of Kentucky, the Republican leader. Senator  Harry Reid  of Nevada, the Democratic leader, countered, The  Republicans  are rubber-stamping the presidents failed policy. Thats the message here.\\nPresident Bush, speaking at a Republican fund-raising dinner, applauded the senators who voted against a timetable. Many of those members know what I know: that if American forces were to step back from Baghdad now, before the capital city is more secure, the scale and scope of attacks would increase and intensify, he said.\\nThe Democratic resolution in the Senate would have redefined the United States mission in Iraq and set a goal of withdrawing American combat troops by March 31, 2008, except for a limited number focused on counterterrorism, training and equipping Iraqi forces, and protecting American and allied personnel. The House measure set a withdrawal deadline of Sept. 1, 2008.\\nThe prospects that either the House or the Senate measure would will win final passage were always considered slim, given that the Senate legislation needed a so-called supermajority of 60 to advance. Even so, the White House issued forceful veto threats, sending a clear signal to Republicans where the president stood. The White House also worked behind the scenes this week to keep Republicans on board.\\nBoth parties consider these measures an important political statement, a measure of how far the debate over Iraq has moved in recent months, and a sign of Americans discontent with the war.\\nBut Senator  Norm Coleman , a moderate Republican from Minnesota who voted against the Democratic measure, argued that the final vote could still be misleading. There is frustration and deep concern about the war, said Mr. Coleman, who is facing a tough re-election fight next year.\\nAs they left the Senate floor, several other moderate Republicans who are facing difficult re-election campaigns next year were quick to register their opposition to the presidents overall Iraq strategy. But they said they were leery of legislating a troop pullout to begin within four months.\\nThat is such a short time frame for withdrawal, said Senator  Susan Collins , a Maine Republican, who opposed the presidents plan to send more troops to Iraq.\\nIn the end, the Senate resolution did not attract the contingent of seven Republican moderates who joined Democrats in opposing Mr. Bushs troop buildup plan last month. The only Republican defection was Mr. Smith of Oregon, who said in a statement, Setting specific dates for withdrawal is unwise, but what is worse is remaining mired in the quicksand of the Sunni-Shia civil war.\\nTwo Democratic Senators, Ben Nelson of Nebraska and Mark Pryor of Arkansas, crossed party lines to oppose the withdrawal plan. Senator  Joseph I. Lieberman , an independent and staunch supporter of Mr. Bushs Iraq policy, voted as expected with the Republicans. Senator  John McCain , an Arizona Republican running for president, was campaigning in Iowa at the time of the vote.\\nDemocrats asserted that the only alternative to their plan was endorsing, once again, the status quo in Iraq. In a debate steeped in anger and dismay, Senator  Robert C. Byrd  of West Virginia declared, We were wrong to invade, we were wrong to think victory would be quick or easy, and we are wrong to stay on in occupation that earns us only hatred  with no end, no end, no end in sight.\\nRepublicans declared that the resolution would be devastating to the American war effort, like sending a memo to our enemy, or giving notice to the other side of when were going to depart, in the words of Mr. McConnell.\\nThe Senate also voted overwhelmingly on Thursday in favor of a pair of nonbinding resolutions, one Democratic and one Republican, expressing support for the troops in Iraq and pledging to provide them with all necessary funds. Republicans have asserted that Democratic policies to end the war will eventually lead to a financing cut that will harm the troops. Democrats furiously deny that charge and have seized on the scandal over poor conditions at the  Walter Reed Army Medical Center  as evidence that Republicans are not true champions of the troops.\\nDespite the flurry of votes, the Iraq debate in the Senate is far from over. Senate Democrats said they would try to influence the presidents Iraq policy when they begin taking up the administrations military spending request next week.\\nAcross the Capitol, the House Appropriations Committee advanced its version of that legislation by a vote of 36 to 28. It was considered a major test vote, with Representative Barbara Lee of California the lone Democrat voting against it. The American people sent a mandate to us to bring home our men and women before the end of the year, Ms. Lee said. I dont think the president deserves another chance.\\nAs she spoke, two protesters sat in the back of the hearing room, holding a sign handwritten with black ink on pink paper that said: Wake up. Stop Buying Bushs War. Other antiwar activists milled about outside the committee room, occasionally confronting lawmakers as they came and went.\\nLargely because of the strength of antiwar sentiment in the House Democratic caucus, and complaints that the legislations timetable is not fast enough, party leaders still face a fragile majority when they bring this legislation to the full House next week. While the House proposal calls for most American combat troops to be removed from Iraq no later than Aug. 31, 2008, it would require the drawdown to start up to a year earlier if the Iraqi government cannot show progress.\\nThe plan also places conditions on the war financing, including a requirement that troops receive proper training, equipment and a period of rest between deployments. As a gesture to conservatives, the legislation would allow the president to waive those requirements on national security grounds.\\nIn World War II, troops were in action 30, 40, 50 days and then got relief, said Representative  John P. Murtha , a Pennsylvania Democrat. Now, we dont have the troops to relieve them.\\nBut Representative Harold Rogers, a Kentucky Republican, accused Democrats of loading up the legislation  which now has a price tag of $124 billion  with an array of sweeteners, simply to draw support for a controversial plan to bring closure to the Iraq war.\\nWelcome Kmart shoppers, Mr. Rogers said. This is the shopping mart for those who are nervous about supporting the precipitous withdrawal of troops. This is an effort to buy votes.\\n',\n",
        "  u'title': u\"THE STRUGGLE FOR IRAQ; SENATE REJECTS DEMOCRATS' CALL TO PULL TROOPS\",\n",
        "  u'url': u'http://www.nytimes.com/2007/03/16/washington/16cong.html'}]"
       ]
      }
     ],
     "prompt_number": 199
    },
    {
     "cell_type": "raw",
     "metadata": {},
     "source": [
      "plt.figsize(10, 8)\n",
      "cols = cycle('rgbcmyk')\n",
      "styles = cycle(['-'] * , '--'])\n",
      "tops = []\n",
      "for k, gp in sz.reset_index().groupby('Topic'):\n",
      "    _gp = gp.set_index('Year')[0]\n",
      "    _gp = (_gp / _gp.sum())\n",
      "    mx = _gp.max()\n",
      "    if mx < .15:\n",
      "        continue\n",
      "    _gp.plot(color=cols.next(), ls=styles.next())\n",
      "    print '{}, {}, {:.1f}'.format(k, _gp.idxmax(), mx * 100)\n",
      "    tops.append(k)\n",
      "    #gp.set_index('Year')[0].plot()\n",
      "_ = plt.legend(tops)"
     ]
    },
    {
     "cell_type": "code",
     "collapsed": false,
     "input": [
      "df.groupby(year).size().plot()"
     ],
     "language": "python",
     "metadata": {},
     "outputs": [
      {
       "output_type": "pyout",
       "prompt_number": 70,
       "text": [
        "<matplotlib.axes.AxesSubplot at 0x1158a0cd0>"
       ]
      },
      {
       "output_type": "display_data",
       "png": "[encoded data removed]",
       "text": [
        "<matplotlib.figure.Figure at 0x1158a0310>"
       ]
      }
     ],
     "prompt_number": 70
    },
    {
     "cell_type": "code",
     "collapsed": false,
     "input": [
      "df['Year'] = df.index.map(year)"
     ],
     "language": "python",
     "metadata": {},
     "outputs": [],
     "prompt_number": 95
    },
    {
     "cell_type": "code",
     "collapsed": false,
     "input": [
      "pd.options.display.max_colwidth = 120"
     ],
     "language": "python",
     "metadata": {},
     "outputs": [],
     "prompt_number": 103
    },
    {
     "cell_type": "code",
     "collapsed": false,
     "input": [
      "for top in vc.index[:7]:\n",
      "    print ', '.join(topic_words[top])"
     ],
     "language": "python",
     "metadata": {},
     "outputs": [
      {
       "output_type": "stream",
       "stream": "stdout",
       "text": [
        "statute, counsels, lautenberg, gramm, appointment, overdraft, salomon, sunday, nuclear, contractors, safe, cox, controls, conrad, park\n",
        "babbitt, gambling, waldholtz, mccurdy, cisneros, fordham, harman, dobson, riegle, walsh, casino, reyes, renewal, hsia, pact\n",
        "weiner, waitress, solarz, mercer, weiners, moms, lautenberg, mozer, graft, haytaian, steroid, swim, fordham, abstinence, minow\n",
        "kpmg, bachus, hmo, sweeney, riechers, weinberger, whereabouts, aeneas, fdr, orourke, reservation, stabilized, eischeid, sioux, tribal\n",
        "russ, sergeant, rostenkowskis, livingston, poindexter, cantrell, veterans, wyden, admiral, kerry, weiner, charters, archer, goss, awareness\n",
        "clinton, republicans, she, bill, democrats, money, <money>, gingrich, her, mr, foley, senator, bank, party, democratic\n",
        "deutch, kolter, legality, berkley, flottman, citigroup, kibaki, bernards, kidney, conrads, lehrner, transplant, scheuer, kenya, meyerhoff\n"
       ]
      }
     ],
     "prompt_number": 115
    },
    {
     "cell_type": "code",
     "collapsed": false,
     "input": [
      "pd.options.display.max_colwidth\n",
      "vc = df[df.Year == 1998][['Title', 'Topic']].Topic.value_counts()\n",
      "vc"
     ],
     "language": "python",
     "metadata": {},
     "outputs": [
      {
       "output_type": "pyout",
       "prompt_number": 113,
       "text": [
        "2     19\n",
        "7     16\n",
        "9      9\n",
        "0      9\n",
        "11     8\n",
        "8      8\n",
        "5      7\n",
        "14     6\n",
        "13     6\n",
        "3      6\n",
        "1      6\n",
        "12     5\n",
        "10     5\n",
        "4      5\n",
        "6      4"
       ]
      }
     ],
     "prompt_number": 113
    },
    {
     "cell_type": "code",
     "collapsed": false,
     "input": [
      "df.head(100)"
     ],
     "language": "python",
     "metadata": {},
     "outputs": [
      {
       "output_type": "pyout",
       "prompt_number": 70,
       "text": [
        "                                                        Title  Topic     Score\n",
        "Date                                                                          \n",
        "1992-01-11                      Observer; That Stands for Car     11  0.179706\n",
        "1992-01-23  U.S. Discloses Tougher Rules To Revamp Treasur...      4  0.137234\n",
        "1992-02-07  S.E.C. Chief and Congressman Bicker Over Marke...      4  0.303542\n",
        "1992-02-22  Yew Trees Needn't Fall to Make Cancer Drug; Ha...     12  0.280269\n",
        "1992-02-27              Topics of The Times; Franking Follies      3  0.173592\n",
        "1992-02-29  Washington Memo; Congress Anxiously Waits to S...      4  0.054116\n",
        "1992-03-04  The Pain of Adams's Fall Is Sorely Felt in Senate     14  0.101341\n",
        "1992-03-04    Disclosures Prompt Call for House Administrator      3  0.074370\n",
        "1992-03-06  House Panel Proposes Short List Of Those Who W...     14  0.115372\n",
        "1992-03-07                 24 May Be Named in House Bank Case     14  0.117697\n",
        "1992-03-12  Washington Memo; It's Bank Panic, Congressiona...      3  0.056439\n",
        "1992-03-13         Effort to Gut Tax Bill Fails In the Senate     10  0.067820\n",
        "1992-03-13  Man in the News: Jack Russ; Nimble Ladder Climber     10  0.067435\n",
        "1992-03-14           THE HOUSE BANK; Foley in a Harsher Light      2  0.046978\n",
        "1992-03-14  THE HOUSE BANK; Not the Kind of Bank Most Peop...      8  0.090569\n",
        "1992-03-14  THE HOUSE BANK; Lawmakers Brace for Storm on C...     10  0.077268\n",
        "1992-03-14  THE HOUSE BANK; 17 IN THE REGION ADMIT OVERDRAFTS      2  0.053418\n",
        "1992-03-14  THE HOUSE BANK; House Bank Chief: Politicians'...      4  0.112080\n",
        "1992-03-14  THE HOUSE BANK; Of Checks and Balances And the...     13  0.071724\n",
        "1992-03-15   THE HOUSE BANK; LAWMAKERS ASKED ABOUT OVERDRAFTS     10  0.105534\n",
        "1992-03-16  The House Bank; House Bank Overdrafts Add to V...     10  0.086010\n",
        "1992-03-16  The House Bank; Foley Proposes Using Outsider ...     14  0.053456\n",
        "1992-03-16           A Worried Solarz Explains His Overdrafts      4  0.141582\n",
        "1992-03-17  THE HOUSE BANK; House's Top Officers Act As Ad...     12  0.111445\n",
        "1992-03-17  THE HOUSE BANK; Gingrich Takes No Prisoners in...     10  0.098418\n",
        "1992-03-18                Mrazek Says His Checking Was Proper      2  0.090743\n",
        "1992-03-19                    House Looks Beyond Bank Scandal     10  0.061175\n",
        "1992-03-19                            Not All Bounces Are Bad      2  0.083963\n",
        "1992-03-20      House Postmaster Swept Out as Inquiries Widen      4  0.040325\n",
        "1992-03-20    G.O.P. Success in House Splits Party Leadership      4  0.042191\n",
        "1992-03-21  THE 1992 CAMPAIGN: The House; COUNSEL TO REVIE...     10  0.075396\n",
        "1992-03-22  Political Memo; New Kind of Potomac Fever Is C...      3  0.122912\n",
        "1992-03-22  THE NATION; Feeding Time at the Capitol Hill P...      2  0.076826\n",
        "1992-03-24  Rep. Engel, Bronx Democrat, Acknowledges 21 Ov...      3  0.093321\n",
        "1992-03-25  Trade Schools Near Success As They Lobby for S...     13  0.085354\n",
        "1992-03-26     S.& L. Proposals Create Rift Among Republicans      4  0.156413\n",
        "1992-03-26  Capitol Hill Memo; After Scandals, the Hush of...      5  0.078750\n",
        "1992-03-27                Foley's Spouse No Stranger to Power      9  0.055029\n",
        "1992-03-27                                                         4  0.103022\n",
        "1992-03-30           Real Overdraft Scandal Is in White House      5  0.109162\n",
        "1992-04-01         House S.& L. Proposal Has No New Financing      4  0.106531\n",
        "1992-04-02              Public Believes Worst on Bank Scandal      3  0.104524\n",
        "1992-04-02               House Identifies Top 22 Bank Abusers     10  0.065737\n",
        "1992-04-03                       Savings Regulators Halt Work      4  0.112607\n",
        "1992-04-03     Democrat Urges Foley to Resign In Bank Scandal     11  0.066659\n",
        "1992-04-04  Congress and White House Shed Perks of Power W...     11  0.081077\n",
        "1992-04-05  Citing Rise in Frustration, Dozens of Lawmaker...      4  0.038379\n",
        "1992-04-06    Cautious General on House Scandal's Front Lines      9  0.073994\n",
        "1992-04-09            New Efforts to Replenish Bailout Agency      4  0.107700\n",
        "1992-04-10  THE 1992 CAMPAIGN: Congress; Campaign Spending...      4  0.050757\n",
        "1992-04-10       House Adopts Major Changes in Its Management     12  0.073412\n",
        "1992-04-11                           Bush Asks Bailout Action      4  0.093802\n",
        "1992-04-16  Overdrafts and Overkill; Capitol Punishment fo...     14  0.068632\n",
        "1992-04-16  As Casualty List Grows, G.O.P. Shows Doubts Ab...      2  0.045713\n",
        "1992-04-17  The House Bank: Trying to Halt a Scandal; Spea...     12  0.059086\n",
        "1992-04-17  THE HOUSE BANK; List Contains Surprises for Ne...     10  0.116873\n",
        "1992-04-17  THE HOUSE BANK; COMMITTEE NAMES ALL WHO OVERDR...     13  0.048303\n",
        "1992-04-18        House Reformers of '74 Have Own Woes in '92     13  0.071331\n",
        "1992-04-19                Possibly Fatal, Not Necessarily Bad     13  0.060300\n",
        "1992-04-20  THE 1992 CAMPAIGN: Political Memo; House Membe...      4  0.038188\n",
        "1992-04-28  Counsel Finds Possible Evidence of Criminal Fr...      4  0.057483\n",
        "1992-04-29                      Going Crazy on the House Bank     10  0.189863\n",
        "1992-04-29                  G.O.P. ANNOUNCES A WELFARE POLICY      7  0.042780\n",
        "1992-04-30  HOUSE TO GIVE UP RECORDS ON CHECKS TO A PROSEC...     10  0.022422\n",
        "1992-05-05    Head of Checking Inquiry Is Retiring From House      9  0.087887\n",
        "1992-05-06  Democrats' New Peril; Tack in Blank Case Could...      6  0.051408\n",
        "1992-05-06  Top Republican on a House Panel Is Charged Wit...      8  0.089933\n",
        "1992-05-07   Agnew's Blemished Image Could Be Carved in Stone      9  0.143447\n",
        "1992-05-08  National Effort Is Urged to Fight Worsening Fr...     12  0.080545\n",
        "1992-05-10  THE 1992 CAMPAIGN: Campaign Finances; Anti-Inc...     14  0.043132\n",
        "1992-05-10       Why House Investigator Is Joining the Exodus      0  0.994896\n",
        "1992-05-21      Salomon to Pay Phony-Bid Fine Of $290 Million      4  0.104859\n",
        "1992-06-01                    Wall Street Opposing Bond Rules      4  0.118142\n",
        "1992-06-03                    THE 1992 CAMPAIGN: On the Trail      8  0.073866\n",
        "1992-06-10  McGrath to Leave Congress, Reducing the Region...      1  0.077724\n",
        "1992-06-11  THE 1992 CAMPAIGN: Democrats; Balanced Budget ...      5  0.052322\n",
        "1992-06-11      Files Detail Aid to Bush By Nixon White House      7  0.102113\n",
        "1992-06-16         New York's Senior Representative to Retire      2  0.095199\n",
        "1992-06-22                           Keep the Special Counsel      4  0.185470\n",
        "1992-06-28       Weinberger Case Livens Debate on Counsel Law      4  0.066009\n",
        "1992-07-12                            Survival of the Loudest      4  0.023588\n",
        "1992-07-23  THE 1992 CAMPAIGN: Washington Talk; Congress H...     10  0.073434\n",
        "1992-07-29           Congressman Decides to Quit Ethics Panel      0  0.996517\n",
        "1992-08-02  BEYOND TOPIC A; The Battle Over Choice Obscure...      6  0.101269\n",
        "1992-08-07       A Year Later, Bond Traders Are a Humbler Lot      4  0.146672\n",
        "1992-08-21   CREDIT MARKETS; Notes and Bonds Retreat in Price      4  0.217833\n",
        "1992-08-23                                House Revolutionary      4  0.053622\n",
        "1992-08-24  THE 1992 CAMPAIGN: Congressional Races; Voter ...      4  0.037144\n",
        "1992-08-29  Letter: On Term Limits; What Voters Want Is Ch...      4  0.063419\n",
        "1992-09-08   Fine Line for Congress: Politics vs. Legislation      3  0.094637\n",
        "1992-09-10  Letters Lift House Bank Cloud From Some Lawmakers      4  0.063530\n",
        "1992-09-11              Ex-House Post Office Manager Indicted      4  0.054753\n",
        "1992-09-12    New Jersey Congressman Announces His Retirement     10  0.082787\n",
        "1992-09-18  Democrats Scale Back Aims In Congress to Win a...      6  0.038385\n",
        "1992-09-28  After Election Day, a Revolution With a Mixed ...      4  0.042718\n",
        "1992-09-30                             Tax Issues For Salomon      4  0.247439\n",
        "1992-10-02                  Shameful Death of a Worthy Reform      4  0.107697\n",
        "1992-10-09  BILLS SENT TO BUSH AS 102D CONGRESS WRAPS UP I...      3  0.097088\n",
        "1992-11-01  THE 1992 CAMPAIGN: Senate Races; Late Surge by...      4  0.011405\n",
        "1992-11-04  THE ELECTIONS; On Clinton's Coattails, Many De...      3  0.064805"
       ]
      }
     ],
     "prompt_number": 70
    },
    {
     "cell_type": "code",
     "collapsed": false,
     "input": [
      "k"
     ],
     "language": "python",
     "metadata": {},
     "outputs": [
      {
       "output_type": "pyout",
       "prompt_number": 60,
       "text": [
        "14"
       ]
      }
     ],
     "prompt_number": 60
    },
    {
     "cell_type": "code",
     "collapsed": false,
     "input": [
      "gp"
     ],
     "language": "python",
     "metadata": {},
     "outputs": [
      {
       "output_type": "pyout",
       "prompt_number": 61,
       "text": [
        "     Topic  level_1  0\n",
        "221     14     1992  6\n",
        "222     14     1993  4\n",
        "223     14     1994  3\n",
        "224     14     1995  2\n",
        "225     14     1996  2\n",
        "226     14     1997  7\n",
        "227     14     1998  6\n",
        "228     14     2000  1\n",
        "229     14     2001  1\n",
        "230     14     2002  2\n",
        "231     14     2004  1\n",
        "232     14     2006  4\n",
        "233     14     2007  2\n",
        "234     14     2008  3\n",
        "235     14     2009  1\n",
        "236     14     2010  1"
       ]
      }
     ],
     "prompt_number": 61
    },
    {
     "cell_type": "code",
     "collapsed": false,
     "input": [],
     "language": "python",
     "metadata": {},
     "outputs": [
      {
       "output_type": "pyout",
       "prompt_number": 58,
       "text": [
        "<pandas.core.groupby.DataFrameGroupBy at 0x1005ffd10>"
       ]
      }
     ],
     "prompt_number": 58
    },
    {
     "cell_type": "code",
     "collapsed": false,
     "input": [
      "sz.plot()"
     ],
     "language": "python",
     "metadata": {},
     "outputs": [
      {
       "output_type": "pyout",
       "prompt_number": 53,
       "text": [
        "<matplotlib.axes.AxesSubplot at 0x10060d150>"
       ]
      },
      {
       "output_type": "display_data",
       "png": "[encoded data removed]",
       "text": [
        "<matplotlib.figure.Figure at 0x1026ff850>"
       ]
      }
     ],
     "prompt_number": 53
    },
    {
     "cell_type": "code",
     "collapsed": false,
     "input": [
      "for mod in lda, olda, alda:\n",
      "    #print mod[tcorpus[0]]\n",
      "#    print ' '.join(texts[0])\n",
      "    topic_list = [[w for _, w in tups] for tups in mod.show_topics(formatted=0, topn=15, topics=None)]\n",
      "    for top, score in sorted(mod[tcorpus[0]], key=itemgetter(1), reverse=1):\n",
      "        print top, ', '.join(topic_list[top])\n",
      "    print"
     ],
     "language": "python",
     "metadata": {},
     "outputs": [
      {
       "output_type": "stream",
       "stream": "stdout",
       "text": [
        "11 --, bill, mr, democrats, said, republicans, hastert, money, senate, she, enron, party, voters, lawmakers, her\n",
        "2 blunt, nussle, wilson, colombia, engelbrecht, uribe, mutual, freddie, mac, receivership, kelley, lieberman, intensity, constitutes, troop\n",
        "3 lobbying, ney, lobbyists, murtha, lobbyist, earmarks, cunningham, drug, letter, hoyer, projects, terrorism, service, opponent, jack\n",
        "4 foley, bush, abramoff, craig, accounting, delay, seats, stock, foleys, race, leadership, bushs, commission, races, ohio\n",
        "\n",
        "4 mccain, lobbying, concerns, ceiling, soft-money, intent, scanlon, harris, thesis, hill, earmarked, gauge, hard, jets, hispanic\n",
        "14 he, his, ethics, mr, money, campaign, lawmakers, --, reform, senate, bill, house, office, bush, <money>\n",
        "\n",
        "4"
       ]
      },
      {
       "output_type": "stream",
       "stream": "stdout",
       "text": [
        " foley, --, bill, democrats, hastert, republicans, she, money, senate, voters, soft, mr, bush, measure, her\n",
        "6 conservatives, troops, projects, oversight, moderate, cuts, fact, schumer, immigration, research, internet, kind, thought, media, frank\n",
        "13 abramoff, delay, lobbying, ney, craig, conservative, boehner, justice, gay, know, judge, report, guilty, term, congressman\n",
        "\n"
       ]
      }
     ],
     "prompt_number": 267
    },
    {
     "cell_type": "code",
     "collapsed": false,
     "input": [
      "for mod in lda, olda, alda:\n",
      "    #print mod[tcorpus[0]]\n",
      "#    print ' '.join(texts[0])\n",
      "    topic_list = [[w for _, w in tups] for tups in mod.show_topics(formatted=0, topn=15, topics=None)]\n",
      "    for top, score in sorted(mod[corpus[0]], key=itemgetter(1), reverse=1):\n",
      "        print top, ', '.join(topic_list[top])\n",
      "    print"
     ],
     "language": "python",
     "metadata": {},
     "outputs": [
      {
       "output_type": "stream",
       "stream": "stdout",
       "text": [
        "11 --, bill, mr, democrats, said, republicans, hastert, money, senate, she, enron, party, voters, lawmakers, her\n",
        "2 blunt, nussle, wilson, colombia, engelbrecht, uribe, mutual, freddie, mac, receivership, kelley, lieberman, intensity, constitutes, troop\n",
        "3 lobbying, ney, lobbyists, murtha, lobbyist, earmarks, cunningham, drug, letter, hoyer, projects, terrorism, service, opponent, jack\n",
        "4 foley, bush, abramoff, craig, accounting, delay, seats, stock, foleys, race, leadership, bushs, commission, races, ohio\n",
        "\n",
        "14 he, his, ethics, mr, money, campaign, lawmakers, --, reform, senate, bill, house, office, bush, <money>\n",
        "4 mccain, lobbying, concerns, ceiling, soft-money, intent, scanlon, harris, thesis, hill, earmarked, gauge, hard, jets, hispanic\n",
        "\n",
        "4"
       ]
      },
      {
       "output_type": "stream",
       "stream": "stdout",
       "text": [
        " foley, --, bill, democrats, hastert, republicans, she, money, senate, voters, soft, mr, bush, measure, her\n",
        "6 conservatives, troops, projects, oversight, moderate, cuts, fact, schumer, immigration, research, internet, kind, thought, media, frank\n",
        "13 abramoff, delay, lobbying, ney, craig, conservative, boehner, justice, gay, know, judge, report, guilty, term, congressman\n",
        "\n"
       ]
      }
     ],
     "prompt_number": 268
    },
    {
     "cell_type": "code",
     "collapsed": false,
     "input": [
      "[topic_list[i] for i in (2, 3, 4, 11)]"
     ],
     "language": "python",
     "metadata": {},
     "outputs": [
      {
       "output_type": "pyout",
       "prompt_number": 250,
       "text": [
        "[[u'blunt',\n",
        "  u'nussle',\n",
        "  u'wilson',\n",
        "  u'colombia',\n",
        "  u'engelbrecht',\n",
        "  u'uribe',\n",
        "  u'mutual',\n",
        "  u'freddie',\n",
        "  u'mac',\n",
        "  u'receivership',\n",
        "  u'kelley',\n",
        "  u'lieberman',\n",
        "  u'intensity',\n",
        "  u'constitutes',\n",
        "  u'troop'],\n",
        " [u'lobbying',\n",
        "  u'ney',\n",
        "  u'lobbyists',\n",
        "  u'murtha',\n",
        "  u'lobbyist',\n",
        "  u'earmarks',\n",
        "  u'cunningham',\n",
        "  u'drug',\n",
        "  u'letter',\n",
        "  u'hoyer',\n",
        "  u'projects',\n",
        "  u'terrorism',\n",
        "  u'service',\n",
        "  u'opponent',\n",
        "  u'jack'],\n",
        " [u'foley',\n",
        "  u'bush',\n",
        "  u'abramoff',\n",
        "  u'craig',\n",
        "  u'accounting',\n",
        "  u'delay',\n",
        "  u'seats',\n",
        "  u'stock',\n",
        "  u'foleys',\n",
        "  u'race',\n",
        "  u'leadership',\n",
        "  u'bushs',\n",
        "  u'commission',\n",
        "  u'races',\n",
        "  u'ohio'],\n",
        " [u'--',\n",
        "  u'bill',\n",
        "  u'mr',\n",
        "  u'democrats',\n",
        "  u'said',\n",
        "  u'republicans',\n",
        "  u'hastert',\n",
        "  u'money',\n",
        "  u'senate',\n",
        "  u'she',\n",
        "  u'enron',\n",
        "  u'party',\n",
        "  u'voters',\n",
        "  u'lawmakers',\n",
        "  u'her']]"
       ]
      }
     ],
     "prompt_number": 250
    },
    {
     "cell_type": "code",
     "collapsed": false,
     "input": [
      "hdp = gensim.models.hdpmodel.HdpModel(corpus=tcorpus, id2word=dictionary, outputdir=)"
     ],
     "language": "python",
     "metadata": {},
     "outputs": [],
     "prompt_number": 189
    },
    {
     "cell_type": "code",
     "collapsed": false,
     "input": [
      "hdp.outputdir = '/Users/beard/Dropbox/Engineering/data/nyt-nlp'"
     ],
     "language": "python",
     "metadata": {},
     "outputs": [],
     "prompt_number": 194
    },
    {
     "cell_type": "code",
     "collapsed": false,
     "input": [
      "_p = hdp.print_topics(topics=20, topn=10)\n",
      "!ls"
     ],
     "language": "python",
     "metadata": {},
     "outputs": [
      {
       "output_type": "stream",
       "stream": "stdout",
       "text": [
        "dbi.pickle       hdp              nyt-nlp.ipynb    nyt-nlp.py       nyt-scrape.ipynb nyt-scrape.py\r\n"
       ]
      }
     ],
     "prompt_number": 199
    },
    {
     "cell_type": "code",
     "collapsed": false,
     "input": [],
     "language": "python",
     "metadata": {},
     "outputs": [],
     "prompt_number": 204
    },
    {
     "cell_type": "code",
     "collapsed": false,
     "input": [
      "#http://comments.gmane.org/gmane.comp.ai.gensim/1572\n",
      "alpha, beta = hdp.hdp_to_lda()\n",
      "hda = gensim.models.LdaModel(id2word=hdp.id2word, num_topics=len(alpha), alpha=alpha, eta=hdp.m_eta)\n",
      "hda.expElogbeta = numpy.array(beta, dtype=numpy.float32)"
     ],
     "language": "python",
     "metadata": {},
     "outputs": [],
     "prompt_number": 206
    },
    {
     "cell_type": "code",
     "collapsed": false,
     "input": [
      "hda.show_topics(formatted=0)"
     ],
     "language": "python",
     "metadata": {},
     "outputs": [
      {
       "output_type": "pyout",
       "prompt_number": 210,
       "text": [
        "[[(6.5179359942149905e-05, u'criminals'),\n",
        "  (6.4198127708593278e-05, u'strikes'),\n",
        "  (6.4099183874025608e-05, u'movie'),\n",
        "  (6.39168384604682e-05, u'brazenly'),\n",
        "  (6.3615813767004472e-05, u'am'),\n",
        "  (6.3521816474624771e-05, u'adolescent'),\n",
        "  (6.3492361141958265e-05, u'bequeath'),\n",
        "  (6.3437643138297063e-05, u'unsinkable'),\n",
        "  (6.3434058408610782e-05, u'vodka'),\n",
        "  (6.3131877228378102e-05, u'lay')],\n",
        " [(7.0735010734490302e-05, u'paving'),\n",
        "  (6.7540854436292099e-05, u'compete'),\n",
        "  (6.6092372854936748e-05, u'matching'),\n",
        "  (6.6070766766640045e-05, u'fund'),\n",
        "  (6.5994159400389052e-05, u'roskams'),\n",
        "  (6.5556202609904474e-05, u'canon'),\n",
        "  (6.5537990059446461e-05, u'ever-shifting'),\n",
        "  (6.5469013808721181e-05, u'morrisey'),\n",
        "  (6.5173460927183798e-05, u'populists'),\n",
        "  (6.4936867732714028e-05, u'residential')],\n",
        " [(6.4907693828349192e-05, u'mismanaging'),\n",
        "  (6.4521945968464288e-05, u'scientist'),\n",
        "  (6.4493392024413685e-05, u'operates'),\n",
        "  (6.3840960355609488e-05, u'falsified'),\n",
        "  (6.3707195135766112e-05, u'intervening'),\n",
        "  (6.3402606418455084e-05, u'upshot'),\n",
        "  (6.3285154555482129e-05, u'moussaouis'),\n",
        "  (6.327326175608236e-05, u'farming'),\n",
        "  (6.3119619301983681e-05, u'childers'),\n",
        "  (6.3118406265512959e-05, u'manufacture')],\n",
        " [(6.9335557454530832e-05, u'inspector'),\n",
        "  (6.743450079149015e-05, u'scarborough'),\n",
        "  (6.6428205001107759e-05, u'underreacted'),\n",
        "  (6.5847227145125959e-05, u'reconstruction'),\n",
        "  (6.3657898867404165e-05, u'gay-baiting'),\n",
        "  (6.3474326750817317e-05, u'posse'),\n",
        "  (6.3450107173110255e-05, u'revelation'),\n",
        "  (6.3094960582854974e-05, u'dukakiss'),\n",
        "  (6.2863296200798966e-05, u'overlook'),\n",
        "  (6.2830328240156592e-05, u'subgroups')],\n",
        " [(6.8861699023952197e-05, u'oversaw'),\n",
        "  (6.8771492557905239e-05, u'johnson'),\n",
        "  (6.8316573760974957e-05, u'disagreement'),\n",
        "  (6.8126215269262639e-05, u'building'),\n",
        "  (6.6355630809577056e-05, u'contained'),\n",
        "  (6.5611513475765155e-05, u'functions'),\n",
        "  (6.5474537806928782e-05, u'drove'),\n",
        "  (6.4324560576263119e-05, u'condition'),\n",
        "  (6.3848727731867012e-05, u'legitimize'),\n",
        "  (6.376248281604202e-05, u'discipline')],\n",
        " [(6.9810500457025739e-05, u'pants'),\n",
        "  (6.6742294811085123e-05, u'latinos'),\n",
        "  (6.5613971490570712e-05, u'valid'),\n",
        "  (6.4754031932240472e-05, u'function'),\n",
        "  (6.4421138359652876e-05, u'grown-ups'),\n",
        "  (6.430897367601851e-05, u'void'),\n",
        "  (6.3947321436735982e-05, u'initiative'),\n",
        "  (6.3632138203140301e-05, u'faster'),\n",
        "  (6.3454885668288931e-05, u'state-level'),\n",
        "  (6.339232559068971e-05, u'commentaries')],\n",
        " [(6.5728564985178113e-05, u'groves'),\n",
        "  (6.5631577309619186e-05, u'sites'),\n",
        "  (6.5278774885135489e-05, u'wield'),\n",
        "  (6.5078725435261466e-05, u'feisty'),\n",
        "  (6.4872521472741546e-05, u'fertilizer'),\n",
        "  (6.4645091406895604e-05, u'feast'),\n",
        "  (6.4437989134896745e-05, u'rent-a-lawmaker'),\n",
        "  (6.4423192110096185e-05, u'louis'),\n",
        "  (6.4248242283986573e-05, u'slang'),\n",
        "  (6.4144989160001684e-05, u'amherst')],\n",
        " [(6.7315589029400534e-05, u'contended'),\n",
        "  (6.631622168032898e-05, u'yoders'),\n",
        "  (6.625811917755872e-05, u'kyrillos'),\n",
        "  (6.5123785375769999e-05, u'enjoy'),\n",
        "  (6.4874546614709851e-05, u'controlling'),\n",
        "  (6.441303820833383e-05, u'flottmans'),\n",
        "  (6.432517415083872e-05, u'technically'),\n",
        "  (6.4084843585103862e-05, u'devenish'),\n",
        "  (6.4066197365254083e-05, u'teenagers'),\n",
        "  (6.3455689530106686e-05, u'dyer')],\n",
        " [(6.7039017040476784e-05, u'pataki'),\n",
        "  (6.4633936678389246e-05, u'studious'),\n",
        "  (6.4566144010385571e-05, u'promise'),\n",
        "  (6.4545450641553424e-05, u'communicating'),\n",
        "  (6.426372215264483e-05, u'painfully'),\n",
        "  (6.4105649443033392e-05, u'warrants'),\n",
        "  (6.4017979267156101e-05, u'jolt'),\n",
        "  (6.3825450948899254e-05, u'projection'),\n",
        "  (6.3802259153808422e-05, u'tipps'),\n",
        "  (6.3549194374205029e-05, u'clique')],\n",
        " [(6.7893899775489503e-05, u'dark'),\n",
        "  (6.6980339719371069e-05, u'sadly'),\n",
        "  (6.5338877958467175e-05, u'lord'),\n",
        "  (6.5005115524225459e-05, u'racy'),\n",
        "  (6.4887470733646538e-05, u'incarceration'),\n",
        "  (6.4733331724633268e-05, u'outdanced'),\n",
        "  (6.4690899504269916e-05, u'lest'),\n",
        "  (6.4444708187603037e-05, u'anarchy'),\n",
        "  (6.4213065308777378e-05, u'aluminum'),\n",
        "  (6.3881544073162873e-05, u'maura')]]"
       ]
      }
     ],
     "prompt_number": 210
    },
    {
     "cell_type": "code",
     "collapsed": false,
     "input": [
      "models.hdpmodel?"
     ],
     "language": "python",
     "metadata": {},
     "outputs": [],
     "prompt_number": 183
    },
    {
     "cell_type": "code",
     "collapsed": false,
     "input": [
      "ls \"/tmp\""
     ],
     "language": "python",
     "metadata": {},
     "outputs": [
      {
       "output_type": "stream",
       "stream": "stdout",
       "text": [
        "\u001b[35m/tmp\u001b[m\u001b[m@\r\n"
       ]
      }
     ],
     "prompt_number": 179
    },
    {
     "cell_type": "code",
     "collapsed": false,
     "input": [
      "model.outputdir = '.'"
     ],
     "language": "python",
     "metadata": {},
     "outputs": [],
     "prompt_number": 180
    },
    {
     "cell_type": "code",
     "collapsed": false,
     "input": [
      "model.print_topics()"
     ],
     "language": "python",
     "metadata": {},
     "outputs": [],
     "prompt_number": 181
    },
    {
     "cell_type": "code",
     "collapsed": false,
     "input": [
      "ldh = model.hdp_to_lda()"
     ],
     "language": "python",
     "metadata": {},
     "outputs": [],
     "prompt_number": 184
    },
    {
     "cell_type": "code",
     "collapsed": false,
     "input": [
      "pwd"
     ],
     "language": "python",
     "metadata": {},
     "outputs": [
      {
       "output_type": "pyout",
       "prompt_number": 188,
       "text": [
        "u'/Users/beard/Dropbox/Engineering/data/nyt-nlp'"
       ]
      }
     ],
     "prompt_number": 188
    },
    {
     "cell_type": "code",
     "collapsed": false,
     "input": [
      "model.save('hdp')"
     ],
     "language": "python",
     "metadata": {},
     "outputs": [],
     "prompt_number": 186
    },
    {
     "cell_type": "code",
     "collapsed": false,
     "input": [
      "lda.show_topics(formatted=0, topn=15)[0]"
     ],
     "language": "python",
     "metadata": {},
     "outputs": [
      {
       "output_type": "pyout",
       "prompt_number": 216,
       "text": [
        "[(0.00068639086738308034, u'mahoney'),\n",
        " (0.00062598583553119677, u'reed'),\n",
        " (0.00058520749906671051, u'incumbent'),\n",
        " (0.00054361149462769237, u'air'),\n",
        " (0.00052948241333760206, u'podesta'),\n",
        " (0.00052927794411479782, u'partnership'),\n",
        " (0.00047775697630372105, u'iraqi'),\n",
        " (0.00046624397274052314, u'exit'),\n",
        " (0.00043214380123207365, u'polls'),\n",
        " (0.00042863765103421774, u'frist'),\n",
        " (0.00040479009535276201, u'rhode'),\n",
        " (0.00037146466030410806, u'vacated'),\n",
        " (0.00036286190610381559, u'riechers'),\n",
        " (0.00034855725509748132, u'chafee'),\n",
        " (0.00034755991171390608, u'perot')]"
       ]
      }
     ],
     "prompt_number": 216
    },
    {
     "cell_type": "code",
     "collapsed": false,
     "input": [
      "pprint([map(itemgetter(1), tups) for tups in lda.show_topics(formatted=0, topn=15)])"
     ],
     "language": "python",
     "metadata": {},
     "outputs": [
      {
       "output_type": "stream",
       "stream": "stdout",
       "text": [
        "Pretty printing has been turned ON\n"
       ]
      }
     ],
     "prompt_number": 220
    },
    {
     "cell_type": "code",
     "collapsed": false,
     "input": [
      "[map(itemgetter(1), tups) for tups in lda.show_topics(formatted=0, topn=15)]"
     ],
     "language": "python",
     "metadata": {},
     "outputs": [
      {
       "output_type": "pyout",
       "prompt_number": 221,
       "text": [
        "[[u'mahoney',\n",
        "  u'reed',\n",
        "  u'incumbent',\n",
        "  u'air',\n",
        "  u'podesta',\n",
        "  u'partnership',\n",
        "  u'iraqi',\n",
        "  u'exit',\n",
        "  u'polls',\n",
        "  u'frist',\n",
        "  u'rhode',\n",
        "  u'vacated',\n",
        "  u'riechers',\n",
        "  u'chafee',\n",
        "  u'perot'],\n",
        " [u'wilkes',\n",
        "  u'cantrell',\n",
        "  u'fossella',\n",
        "  u'teamsters',\n",
        "  u'albaugh',\n",
        "  u'supervision',\n",
        "  u'grassroots',\n",
        "  u'transaction',\n",
        "  u'staten',\n",
        "  u'lowery',\n",
        "  u'orluskie',\n",
        "  u'legality',\n",
        "  u'citigroup',\n",
        "  u'fossellas',\n",
        "  u'norma'],\n",
        " [u'blunt',\n",
        "  u'nussle',\n",
        "  u'wilson',\n",
        "  u'colombia',\n",
        "  u'engelbrecht',\n",
        "  u'uribe',\n",
        "  u'mutual',\n",
        "  u'freddie',\n",
        "  u'mac',\n",
        "  u'receivership',\n",
        "  u'kelley',\n",
        "  u'lieberman',\n",
        "  u'intensity',\n",
        "  u'constitutes',\n",
        "  u'troop'],\n",
        " [u'lobbying',\n",
        "  u'ney',\n",
        "  u'lobbyists',\n",
        "  u'murtha',\n",
        "  u'lobbyist',\n",
        "  u'earmarks',\n",
        "  u'cunningham',\n",
        "  u'drug',\n",
        "  u'letter',\n",
        "  u'hoyer',\n",
        "  u'projects',\n",
        "  u'terrorism',\n",
        "  u'service',\n",
        "  u'opponent',\n",
        "  u'jack'],\n",
        " [u'foley',\n",
        "  u'bush',\n",
        "  u'abramoff',\n",
        "  u'craig',\n",
        "  u'accounting',\n",
        "  u'delay',\n",
        "  u'seats',\n",
        "  u'stock',\n",
        "  u'foleys',\n",
        "  u'race',\n",
        "  u'leadership',\n",
        "  u'bushs',\n",
        "  u'commission',\n",
        "  u'races',\n",
        "  u'ohio'],\n",
        " [u'snow',\n",
        "  u'shelters',\n",
        "  u'recession',\n",
        "  u'google',\n",
        "  u'visas',\n",
        "  u'weiner',\n",
        "  u'condit',\n",
        "  u'condits',\n",
        "  u'shelter',\n",
        "  u'roth',\n",
        "  u'aeneas',\n",
        "  u'internet',\n",
        "  u'retirements',\n",
        "  u'nominees',\n",
        "  u'abedin'],\n",
        " [u'golf',\n",
        "  u'chertoff',\n",
        "  u'magliocchetti',\n",
        "  u'county',\n",
        "  u'bachus',\n",
        "  u'frey',\n",
        "  u'pence',\n",
        "  u'golfing',\n",
        "  u'hedge',\n",
        "  u'pma',\n",
        "  u'proselytizing',\n",
        "  u'nassau',\n",
        "  u'secrets',\n",
        "  u'pellegrini',\n",
        "  u'grille'],\n",
        " [u'weiner',\n",
        "  u'fa-',\n",
        "  u'rural',\n",
        "  u'hagels',\n",
        "  u'high-technology',\n",
        "  u'trading',\n",
        "  u'donaldson',\n",
        "  u'respondents',\n",
        "  u'mutual',\n",
        "  u'da',\n",
        "  u'insider',\n",
        "  u'towns',\n",
        "  u'photographs',\n",
        "  u'lesbians',\n",
        "  u'difficulties'],\n",
        " [u'boeing',\n",
        "  u'gores',\n",
        "  u'poindexter',\n",
        "  u'wyden',\n",
        "  u'freddie',\n",
        "  u'admiral',\n",
        "  u'lease',\n",
        "  u'mac',\n",
        "  u'air',\n",
        "  u'martinez',\n",
        "  u'hosts',\n",
        "  u'russian',\n",
        "  u'deregulation',\n",
        "  u'planes',\n",
        "  u'awareness'],\n",
        " [u'castillo',\n",
        "  u'keith',\n",
        "  u'fantasy',\n",
        "  u'colas',\n",
        "  u'menendez',\n",
        "  u'professors',\n",
        "  u'dropout',\n",
        "  u'minow',\n",
        "  u'section',\n",
        "  u'cuadra',\n",
        "  u'stonewalling',\n",
        "  u'dominican',\n",
        "  u'dropouts',\n",
        "  u'noriega',\n",
        "  u'tankers']]"
       ]
      }
     ],
     "prompt_number": 221
    },
    {
     "cell_type": "code",
     "collapsed": false,
     "input": [
      "lda.numworkers"
     ],
     "language": "python",
     "metadata": {},
     "outputs": [
      {
       "output_type": "pyout",
       "prompt_number": 169,
       "text": [
        "1"
       ]
      }
     ],
     "prompt_number": 169
    },
    {
     "cell_type": "code",
     "collapsed": false,
     "input": [
      "lda.show_topics() #10 topics"
     ],
     "language": "python",
     "metadata": {},
     "outputs": [
      {
       "output_type": "pyout",
       "prompt_number": 166,
       "text": [
        "[u'0.000*governors + 0.000*redistricting + 0.000*tea + 0.000*turnout + 0.000*gop + 0.000*arlington + 0.000*harman + 0.000*grassroots + 0.000*romney + 0.000*rally',\n",
        " u'0.000*expelled + 0.000*chertoff + 0.000*cia + 0.000*albaugh + 0.000*confederate + 0.000*boeing + 0.000*wilkes + 0.000*poindexter + 0.000*yacht + 0.000*keith',\n",
        " u'0.000*vitter + 0.000*greenspan + 0.000*magliocchetti + 0.000*castillo + 0.000*hosts + 0.000*hagel + 0.000*hagels + 0.000*stedem + 0.000*pma + 0.000*dominican',\n",
        " u'0.001*fordham + 0.000*speakers + 0.000*kolbe + 0.000*schools + 0.000*charters + 0.000*kpmg + 0.000*shadegg + 0.000*students + 0.000*boeing + 0.000*alerted',\n",
        " u'0.000*ackerman + 0.000*heaton + 0.000*huvelle + 0.000*loan + 0.000*lauer + 0.000*lenders + 0.000*bjorklund + 0.000*scully + 0.000*flottman + 0.000*foster',\n",
        " u'0.000*mansfield + 0.000*fa- + 0.000*doolittle + 0.000*cranston + 0.000*rendell + 0.000*podesta + 0.000*supervision + 0.000*visas + 0.000*teamsters + 0.000*pope',\n",
        " u'0.000*colbert + 0.000*moynihan + 0.000*wilkes + 0.000*wal-mart + 0.000*cantrell + 0.000*mahoney + 0.000*lautenberg + 0.000*hampton + 0.000*heaton + 0.000*martinez',\n",
        " u'0.000*deregulation + 0.000*nussle + 0.000*crdit + 0.000*bachus + 0.000*french + 0.000*condits + 0.000*lyonnais + 0.000*informants + 0.000*professors + 0.000*pence',\n",
        " u'0.000*lautenberg + 0.000*google + 0.000*shelters + 0.000*transaction + 0.000*renzi + 0.000*oil-for-food + 0.000*kerrys + 0.000*redistricting + 0.000*citigroup + 0.000*rent-stabilized',\n",
        " u'0.001*-- + 0.001*mr + 0.001*bill + 0.001*foley + 0.001*democrats + 0.001*hastert + 0.001*said + 0.001*republicans + 0.001*money + 0.001*senate']"
       ]
      }
     ],
     "prompt_number": 166
    },
    {
     "cell_type": "code",
     "collapsed": false,
     "input": [
      "lda.show_topics()"
     ],
     "language": "python",
     "metadata": {},
     "outputs": [
      {
       "output_type": "pyout",
       "prompt_number": 139,
       "text": [
        "[u'0.062*the + 0.028*of + 0.028*to + 0.025*and + 0.022*a + 0.020*in + 0.014*that + 0.010*mr + 0.009*for + 0.009*on',\n",
        " u'0.052*the + 0.028*to + 0.027*of + 0.026*a + 0.021*and + 0.021*in + 0.013*he + 0.013*mr + 0.012*that + 0.011*his',\n",
        " u'0.068*the + 0.030*to + 0.030*of + 0.024*a + 0.021*and + 0.019*in + 0.015*that + 0.011*for + 0.009*on + 0.009*is',\n",
        " u'0.000*the + 0.000*to + 0.000*a + 0.000*of + 0.000*and + 0.000*that + 0.000*in + 0.000*he + 0.000*for + 0.000*on',\n",
        " u'0.045*the + 0.034*<num> + 0.033*a + 0.032*in + 0.020*and + 0.019*of + 0.017*to + 0.011*republican + 0.010*mr + 0.010*for',\n",
        " u'0.045*the + 0.017*to + 0.014*air + 0.011*force + 0.010*of + 0.009*a + 0.007*and + 0.007*boeing + 0.007*that + 0.006*deal',\n",
        " u'0.062*the + 0.025*of + 0.023*a + 0.021*in + 0.021*to + 0.018*and + 0.014*mr + 0.013*that + 0.011*said + 0.010*he',\n",
        " u'0.000*the + 0.000*to + 0.000*a + 0.000*and + 0.000*of + 0.000*in + 0.000*<num> + 0.000*mr + 0.000*for + 0.000*that',\n",
        " u'0.036*the + 0.023*and + 0.022*to + 0.021*a + 0.017*of + 0.014*in + 0.014*that + 0.010*for + 0.009*she + 0.009*her',\n",
        " u'0.050*the + 0.034*mr + 0.029*to + 0.025*a + 0.024*of + 0.020*in + 0.018*and + 0.016*he + 0.014*his + 0.013*that']"
       ]
      }
     ],
     "prompt_number": 139
    },
    {
     "cell_type": "code",
     "collapsed": false,
     "input": [
      "#filter(lambda x: x[1] == 1, c.items())"
     ],
     "language": "python",
     "metadata": {},
     "outputs": [],
     "prompt_number": 57
    },
    {
     "cell_type": "code",
     "collapsed": false,
     "input": [
      "ttl = format(tt).split()"
     ],
     "language": "python",
     "metadata": {},
     "outputs": [],
     "prompt_number": 38
    },
    {
     "cell_type": "code",
     "collapsed": false,
     "input": [
      "c = Counter(_.split())"
     ],
     "language": "python",
     "metadata": {},
     "outputs": [],
     "prompt_number": 30
    },
    {
     "cell_type": "raw",
     "metadata": {},
     "source": [
      "list(c.keys())"
     ]
    },
    {
     "cell_type": "code",
     "collapsed": false,
     "input": [
      "stopwords = set('to as at a is its in on and that of the'.split())\n",
      "stopwords"
     ],
     "language": "python",
     "metadata": {},
     "outputs": [
      {
       "output_type": "pyout",
       "prompt_number": 42,
       "text": [
        "set(['a',\n",
        "     'on',\n",
        "     'and',\n",
        "     'that',\n",
        "     'of',\n",
        "     'is',\n",
        "     'to',\n",
        "     'as',\n",
        "     'at',\n",
        "     'in',\n",
        "     'the',\n",
        "     'its'])"
       ]
      }
     ],
     "prompt_number": 42
    },
    {
     "cell_type": "code",
     "collapsed": false,
     "input": [
      "print sorted(filter(lambda w: w not in stopwords, ttl))"
     ],
     "language": "python",
     "metadata": {},
     "outputs": [
      {
       "output_type": "stream",
       "stream": "stdout",
       "text": [
        "[u'about', u'above', u'abramoff', u'administration', u'air', u'anything', u'arguing', u'attempt', u'bans', u'be', u'be', u'because', u'become', u'better', u'beyond', u'beyond', u'big', u'bill', u'bill', u'bills', u'bipartisan', u'border', u'brethren', u'bush', u'bush', u'bush', u'but', u'but', u'by', u'campaign', u'campaign', u'campaigner', u'capitol', u'capitol', u'change', u'citing', u'clean', u'clout', u'complaints', u'concerns', u'concerns', u'concerns', u'congress', u'congress', u'congress', u'congress', u'congress', u'congresss', u'continues', u'control', u'control', u'corporate', u'could', u'culture', u'dare', u'demand', u'democratic', u'democrats', u'demonstrate', u'denying', u'deprive', u'disclose', u'disgraceful', u'disingenuous', u'do', u'doing', u'dollars', u'drew', u'earmarked', u'election', u'enacted', u'ensuring', u'escaping', u'ethics', u'example', u'faced', u'far', u'fares', u'favor', u'fervor', u'finally', u'flights', u'flow', u'flying', u'for', u'for', u'force', u'forced', u'friendly', u'from', u'from', u'from', u'full-throated', u'gauge', u'goes', u'golf-and-goodies', u'gop', u'groundbreaking', u'hard', u'has', u'have', u'he', u'hegemony', u'helped', u'hill', u'hill', u'house', u'house', u'house', u'house', u'houses', u'how', u'hundreds', u'ideal', u'if', u'illicit', u'imagine', u'industry', u'intent', u'intent', u'it', u'jack', u'jets', u'largess', u'lawmakers', u'lawmakers', u'leadership', u'least', u'legislating', u'legislation', u'legislative', u'legitimate', u'lobbying', u'lobbying', u'lobbying', u'lobbying', u'lobbyist', u'lobbyists', u'long', u'ludicrous', u'majorities', u'mandate', u'measure', u'measure', u'measure', u'measure', u'members', u'might', u'might', u'month', u'new', u'not', u'not', u'one', u'opinion', u'other', u'own', u'particularly', u'passed', u'pay', u'pending', u'ploy', u'plummeting', u'pork', u'president', u'president', u'president', u'presidents', u'previous', u'provides', u'publics', u'quickly', u'quid-pro-quo', u'raising', u'rates', u'recognized', u'red-herring', u'reform', u'reform', u'reform', u'regulations', u'reining', u'rely', u'republican', u'republicans', u'republicans', u'scandal', u'season', u'serious', u'shadows', u'situation', u'sizable', u'skies', u'so', u'spending', u'spikes', u'start', u'stated', u'still', u'stronger', u'support', u'surviving', u'thankfully', u'thats', u'thats', u'their', u'their', u'them', u'think', u'this', u'this', u'this', u'thousands', u'token', u'torrent', u'travel', u'true', u'ultimate', u'ultimately', u'unique', u'up', u'uses', u'veto', u'veto-proof', u'view', u'voters', u'washington', u'when', u'when', u'whether', u'white', u'white', u'white', u'white', u'will', u'win', u'would', u'would', u'years', u'yet']\n"
       ]
      }
     ],
     "prompt_number": 43
    }
   ],
   "metadata": {}
  }
 ]
}