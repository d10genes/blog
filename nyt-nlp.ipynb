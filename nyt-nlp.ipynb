{
 "metadata": {
  "name": "nyt-nlp"
 },
 "nbformat": 3,
 "nbformat_minor": 0,
 "worksheets": [
  {
   "cells": [
    {
     "cell_type": "code",
     "collapsed": false,
     "input": [
      "#import requests\n",
      "import json\n",
      "import pandas as pd\n",
      "import numpy as np\n",
      "from time import sleep\n",
      "from itertools import count\n",
      "#import cPickle as pickle\n",
      "#from lxml.cssselect import CSSSelector\n",
      "#from lxml.html import fromstring\n",
      "#import redis\n",
      "import pymongo\n",
      "import re\n",
      "from operator import itemgetter\n",
      "from gensim import corpora, models, similarities\n",
      "import gensim\n",
      "from collections import Counter"
     ],
     "language": "python",
     "metadata": {},
     "outputs": [],
     "prompt_number": 67
    },
    {
     "cell_type": "code",
     "collapsed": false,
     "input": [
      "import myutils as mu\n",
      "mu.psettings(pd)"
     ],
     "language": "python",
     "metadata": {},
     "outputs": [],
     "prompt_number": 2
    },
    {
     "cell_type": "code",
     "collapsed": false,
     "input": [
      "%load_ext autosave\n",
      "%autosave 30"
     ],
     "language": "python",
     "metadata": {},
     "outputs": [
      {
       "output_type": "stream",
       "stream": "stdout",
       "text": [
        "Usage: %autosave [seconds]\n",
        "autosaving every 30s\n"
       ]
      },
      {
       "javascript": [
        "\n",
        "\n",
        "// clear previous interval, if there was one\n",
        "if (IPython.autosave_extension_interval) {\n",
        "    clearInterval(IPython.autosave_extension_interval);\n",
        "    IPython.autosave_extension_interval = null;\n",
        "}\n",
        "\n",
        "// set new interval\n",
        "if (30000) {\n",
        "    console.log(\"scheduling autosave every 30000 ms\");\n",
        "    IPython.notebook.save_notebook();\n",
        "    IPython.autosave_extension_interval = setInterval(function() {\n",
        "        console.log(\"autosave\");\n",
        "        IPython.notebook.save_notebook();\n",
        "    }, 30000);\n",
        "} else {\n",
        "    console.log(\"canceling autosave\");\n",
        "}\n"
       ],
       "output_type": "display_data",
       "text": [
        "<IPython.core.display.Javascript at 0x1069b3750>"
       ]
      }
     ],
     "prompt_number": 3
    },
    {
     "cell_type": "markdown",
     "metadata": {},
     "source": [
      "##Init"
     ]
    },
    {
     "cell_type": "code",
     "collapsed": false,
     "input": [
      "connection = pymongo.Connection( \"localhost\", 27017 )\n",
      "db = connection.nyt"
     ],
     "language": "python",
     "metadata": {},
     "outputs": [],
     "prompt_number": 5
    },
    {
     "cell_type": "code",
     "collapsed": false,
     "input": [
      "raw = list(db.raw_text.find())"
     ],
     "language": "python",
     "metadata": {},
     "outputs": [],
     "prompt_number": 8
    },
    {
     "cell_type": "code",
     "collapsed": false,
     "input": [
      "_txt = raw[0]['text']"
     ],
     "language": "python",
     "metadata": {},
     "outputs": [],
     "prompt_number": 45
    },
    {
     "cell_type": "code",
     "collapsed": false,
     "input": [
      "def catch():\n",
      "    for t in map(itemgetter('text'), raw):\n",
      "        for w in format(t):\n",
      "            if w.startswith(\"'\"):  \n",
      "                print w\n",
      "                return t\n",
      "_t = catch()\n",
      "_t"
     ],
     "language": "python",
     "metadata": {},
     "outputs": [
      {
       "output_type": "stream",
       "stream": "stdout",
       "text": [
        "''our\n"
       ]
      },
      {
       "output_type": "pyout",
       "prompt_number": 83,
       "text": [
        "u\"The chairman of the Securities and Exchange Commission told a Senate committee yesterday that Congress should not pass any laws to correct abuses in the $7.6 trillion mutual fund industry until after his agency's proposals to fix improper trading can take hold.\\n''Our efforts will help ensure that there are strong safeguards in place to minimize the possibility of future illegal, fraudulent or harmful activity,'' the chairman, William H. Donaldson, told the Senate Banking Committee. ''We have ample regulatory authority with which to carry out this agenda.''\\nThe chairman of the banking committee, Richard C. Shelby, Republican of Alabama, agreed with Mr. Donaldson and said mutual fund legislation was unlikely now.\\nChances of passage before Congress's scheduled adjournment in October ''would be slim at best,'' Mr. Shelby told reporters after the committee's hearing in Washington. ''We ought to let the S.E.C. do its work and continue our oversight,'' he said.\\nThe S.E.C. has issued proposals to improve fund governance, increase fee disclosure for investors and reduce trading abuses. Mr. Donaldson yesterday defended commission proposals requiring independent fund board chairmen and said the commission is considering revising its 4 p.m. ''hard close'' of trading.\\nMr. Shelby has held 10 hearings on mutual funds to decide whether legislation is needed after the trading scandal ensnared more than 20 companies, including Putnam Investments and Janus Capital Group.\""
       ]
      }
     ],
     "prompt_number": 83
    },
    {
     "cell_type": "raw",
     "metadata": {},
     "source": [
      "c = Counter(txt)"
     ]
    },
    {
     "cell_type": "code",
     "collapsed": false,
     "input": [
      "def format(txt):\n",
      "    tt = re.sub(r'[\\.\\,\\;\\:\\'\\\"\\(\\)\\&\\%\\*\\+\\[\\]\\=\\?\\!/]', '', txt).lower()\n",
      "    tt = re.sub(r' *\\$[0-9]\\S* ?', ' <money> ', tt)    \n",
      "    tt = re.sub(r' *[0-9]\\S* ?', ' <num> ', tt)    \n",
      "    tt = re.sub(r'\\s+', ' ', tt)\n",
      "    #tt = ' '.join(s.strip() for s in tt.lower().splitlines()).strip()\n",
      "    return tt.strip().split()\n",
      "\n",
      "txt = format(_txt)\n",
      "#print txt[:10]\n",
      "#t = format(_t)\n",
      "#sorted(t)\n",
      "format(' '.join(dols))"
     ],
     "language": "python",
     "metadata": {},
     "outputs": [
      {
       "output_type": "pyout",
       "prompt_number": 128,
       "text": [
        "[u'-',\n",
        " u'--',\n",
        " u'----',\n",
        " u'--------------------',\n",
        " u'--not',\n",
        " u'-amoco',\n",
        " u'placed',\n",
        " u'<money>',\n",
        " u'<num>',\n",
        " u'during',\n",
        " u'excerpts',\n",
        " u'expletive',\n",
        " u'ms',\n",
        " u'news',\n",
        " u'page',\n",
        " u'roll',\n",
        " u'the',\n",
        " u'transcript']"
       ]
      }
     ],
     "prompt_number": 128
    },
    {
     "cell_type": "raw",
     "metadata": {},
     "source": [
      "' '.join(dols)"
     ]
    },
    {
     "cell_type": "code",
     "collapsed": false,
     "input": [
      "texts = [format(doc['text']) for doc in raw]"
     ],
     "language": "python",
     "metadata": {},
     "outputs": [],
     "prompt_number": 129
    },
    {
     "cell_type": "code",
     "collapsed": false,
     "input": [
      "dictionary = corpora.Dictionary(texts)"
     ],
     "language": "python",
     "metadata": {},
     "outputs": [],
     "prompt_number": 130
    },
    {
     "cell_type": "raw",
     "metadata": {},
     "source": [
      "dols = sorted(dictionary.token2id)[-20:]\n",
      "dols"
     ]
    },
    {
     "cell_type": "code",
     "collapsed": false,
     "input": [
      "corpus = [dictionary.doc2bow(text) for text in texts]"
     ],
     "language": "python",
     "metadata": {},
     "outputs": [],
     "prompt_number": 134
    },
    {
     "cell_type": "code",
     "collapsed": false,
     "input": [
      "corpus[0]"
     ],
     "language": "python",
     "metadata": {},
     "outputs": [
      {
       "output_type": "pyout",
       "prompt_number": 135,
       "text": [
        "[(0, 6),\n",
        " (1, 1),\n",
        " (2, 1),\n",
        " (3, 1),\n",
        " (4, 1),\n",
        " (5, 1),\n",
        " (6, 6),\n",
        " (7, 1),\n",
        " (8, 1),\n",
        " (9, 1),\n",
        " (10, 3),\n",
        " (11, 1),\n",
        " (12, 1),\n",
        " (13, 2),\n",
        " (14, 1),\n",
        " (15, 1),\n",
        " (16, 1),\n",
        " (17, 2),\n",
        " (18, 1),\n",
        " (19, 2),\n",
        " (20, 1),\n",
        " (21, 1),\n",
        " (22, 1),\n",
        " (23, 1),\n",
        " (24, 3),\n",
        " (25, 2),\n",
        " (26, 1),\n",
        " (27, 2),\n",
        " (28, 1),\n",
        " (29, 2),\n",
        " (30, 1),\n",
        " (31, 1),\n",
        " (32, 1),\n",
        " (33, 1),\n",
        " (34, 1),\n",
        " (35, 3),\n",
        " (36, 5),\n",
        " (37, 1),\n",
        " (38, 1),\n",
        " (39, 2),\n",
        " (40, 1),\n",
        " (41, 1),\n",
        " (42, 1),\n",
        " (43, 1),\n",
        " (44, 1),\n",
        " (45, 1),\n",
        " (46, 1),\n",
        " (47, 1),\n",
        " (48, 1),\n",
        " (49, 1),\n",
        " (50, 1),\n",
        " (51, 1),\n",
        " (52, 1),\n",
        " (53, 1),\n",
        " (54, 1),\n",
        " (55, 1),\n",
        " (56, 1),\n",
        " (57, 1),\n",
        " (58, 1),\n",
        " (59, 1),\n",
        " (60, 1),\n",
        " (61, 1),\n",
        " (62, 1),\n",
        " (63, 1),\n",
        " (64, 1),\n",
        " (65, 1),\n",
        " (66, 1),\n",
        " (67, 1),\n",
        " (68, 1),\n",
        " (69, 1),\n",
        " (70, 1),\n",
        " (71, 1),\n",
        " (72, 1),\n",
        " (73, 2),\n",
        " (74, 1),\n",
        " (75, 1),\n",
        " (76, 1),\n",
        " (77, 3),\n",
        " (78, 1),\n",
        " (79, 1),\n",
        " (80, 1),\n",
        " (81, 1),\n",
        " (82, 1),\n",
        " (83, 1),\n",
        " (84, 1),\n",
        " (85, 1),\n",
        " (86, 1),\n",
        " (87, 1),\n",
        " (88, 1),\n",
        " (89, 1),\n",
        " (90, 2),\n",
        " (91, 4),\n",
        " (92, 1),\n",
        " (93, 1),\n",
        " (94, 1),\n",
        " (95, 1),\n",
        " (96, 1),\n",
        " (97, 1),\n",
        " (98, 1),\n",
        " (99, 5),\n",
        " (100, 1),\n",
        " (101, 2),\n",
        " (102, 1),\n",
        " (103, 1),\n",
        " (104, 4),\n",
        " (105, 1),\n",
        " (106, 1),\n",
        " (107, 1),\n",
        " (108, 2),\n",
        " (109, 1),\n",
        " (110, 1),\n",
        " (111, 1),\n",
        " (112, 1),\n",
        " (113, 1),\n",
        " (114, 1),\n",
        " (115, 4),\n",
        " (116, 1),\n",
        " (117, 1),\n",
        " (118, 1),\n",
        " (119, 1),\n",
        " (120, 1),\n",
        " (121, 1),\n",
        " (122, 4),\n",
        " (123, 1),\n",
        " (124, 2),\n",
        " (125, 1),\n",
        " (126, 1),\n",
        " (127, 2),\n",
        " (128, 13),\n",
        " (129, 5),\n",
        " (130, 1),\n",
        " (131, 1),\n",
        " (132, 1),\n",
        " (133, 1),\n",
        " (134, 1),\n",
        " (135, 1),\n",
        " (136, 1),\n",
        " (137, 1),\n",
        " (138, 1),\n",
        " (139, 1),\n",
        " (140, 1),\n",
        " (141, 3),\n",
        " (142, 1),\n",
        " (143, 1),\n",
        " (144, 1),\n",
        " (145, 1),\n",
        " (146, 1),\n",
        " (147, 1),\n",
        " (148, 1),\n",
        " (149, 1),\n",
        " (150, 1),\n",
        " (151, 1),\n",
        " (152, 3),\n",
        " (153, 1),\n",
        " (154, 1),\n",
        " (155, 1),\n",
        " (156, 1),\n",
        " (157, 2),\n",
        " (158, 1),\n",
        " (159, 1),\n",
        " (160, 1),\n",
        " (161, 1),\n",
        " (162, 1),\n",
        " (163, 1),\n",
        " (164, 1),\n",
        " (165, 1),\n",
        " (166, 1),\n",
        " (167, 1),\n",
        " (168, 1),\n",
        " (169, 1),\n",
        " (170, 1),\n",
        " (171, 1),\n",
        " (172, 1),\n",
        " (173, 1),\n",
        " (174, 1),\n",
        " (175, 8),\n",
        " (176, 2),\n",
        " (177, 29),\n",
        " (178, 2),\n",
        " (179, 1),\n",
        " (180, 1),\n",
        " (181, 3),\n",
        " (182, 1),\n",
        " (183, 7),\n",
        " (184, 1),\n",
        " (185, 1),\n",
        " (186, 1),\n",
        " (187, 1),\n",
        " (188, 1),\n",
        " (189, 1),\n",
        " (190, 1),\n",
        " (191, 1),\n",
        " (192, 1),\n",
        " (193, 1),\n",
        " (194, 1),\n",
        " (195, 1),\n",
        " (196, 1),\n",
        " (197, 1),\n",
        " (198, 2),\n",
        " (199, 1),\n",
        " (200, 4),\n",
        " (201, 1),\n",
        " (202, 1),\n",
        " (203, 2),\n",
        " (204, 1),\n",
        " (205, 1)]"
       ]
      }
     ],
     "prompt_number": 135
    },
    {
     "cell_type": "code",
     "collapsed": false,
     "input": [
      "tfidf = models.TfidfModel(corpus)"
     ],
     "language": "python",
     "metadata": {},
     "outputs": [],
     "prompt_number": 140
    },
    {
     "cell_type": "code",
     "collapsed": false,
     "input": [
      "dmap = lambda dct, a: [dct[e] for e in a]"
     ],
     "language": "python",
     "metadata": {},
     "outputs": [],
     "prompt_number": 144
    },
    {
     "cell_type": "raw",
     "metadata": {},
     "source": [
      "#Common words, count vs tfidf\n",
      "sorted([(dictionary[w], ct) for w, ct in tfidf[corpus[0]]], key=itemgetter(1), reverse=1)\n",
      "sorted([(dictionary[w], ct) for w, ct in corpus[0]], key=itemgetter(1), reverse=1)"
     ]
    },
    {
     "cell_type": "code",
     "collapsed": false,
     "input": [
      "tcorpus = dmap(tfidf, corpus)"
     ],
     "language": "python",
     "metadata": {},
     "outputs": [],
     "prompt_number": 162
    },
    {
     "cell_type": "code",
     "collapsed": false,
     "input": [
      "lda = gensim.models.ldamodel.LdaModel(corpus=tcorpus, id2word=dictionary, num_topics=5, update_every=0, passes=20)"
     ],
     "language": "python",
     "metadata": {},
     "outputs": [],
     "prompt_number": 167
    },
    {
     "cell_type": "code",
     "collapsed": false,
     "input": [
      "model = gensim.models.hdpmodel.HdpModel(corpus=tcorpus, id2word=dictionary)"
     ],
     "language": "python",
     "metadata": {},
     "outputs": [],
     "prompt_number": 173
    },
    {
     "cell_type": "code",
     "collapsed": false,
     "input": [
      "models.hdpmodel?"
     ],
     "language": "python",
     "metadata": {},
     "outputs": [],
     "prompt_number": 183
    },
    {
     "cell_type": "code",
     "collapsed": false,
     "input": [
      "ls \"/tmp\""
     ],
     "language": "python",
     "metadata": {},
     "outputs": [
      {
       "output_type": "stream",
       "stream": "stdout",
       "text": [
        "\u001b[35m/tmp\u001b[m\u001b[m@\r\n"
       ]
      }
     ],
     "prompt_number": 179
    },
    {
     "cell_type": "code",
     "collapsed": false,
     "input": [
      "model.outputdir = '.'"
     ],
     "language": "python",
     "metadata": {},
     "outputs": [],
     "prompt_number": 180
    },
    {
     "cell_type": "code",
     "collapsed": false,
     "input": [
      "model.print_topics()"
     ],
     "language": "python",
     "metadata": {},
     "outputs": [],
     "prompt_number": 181
    },
    {
     "cell_type": "code",
     "collapsed": false,
     "input": [
      "ldh = model.hdp_to_lda()"
     ],
     "language": "python",
     "metadata": {},
     "outputs": [],
     "prompt_number": 184
    },
    {
     "cell_type": "code",
     "collapsed": false,
     "input": [
      "pwd"
     ],
     "language": "python",
     "metadata": {},
     "outputs": [
      {
       "output_type": "pyout",
       "prompt_number": 188,
       "text": [
        "u'/Users/beard/Dropbox/Engineering/data/nyt-nlp'"
       ]
      }
     ],
     "prompt_number": 188
    },
    {
     "cell_type": "code",
     "collapsed": false,
     "input": [
      "model.save('hdp')"
     ],
     "language": "python",
     "metadata": {},
     "outputs": [],
     "prompt_number": 186
    },
    {
     "cell_type": "code",
     "collapsed": false,
     "input": [
      "lda.show_topics(formatted=0, topn=15)"
     ],
     "language": "python",
     "metadata": {},
     "outputs": [
      {
       "output_type": "pyout",
       "prompt_number": 172,
       "text": [
        "[[(0.0002163842864985873, u'colbert'),\n",
        "  (0.00012617115825993102, u'tribal'),\n",
        "  (0.00012410416483794203, u'castillo'),\n",
        "  (0.00011706537508081538, u'sioux'),\n",
        "  (9.6251722619598298e-05, u'reservation'),\n",
        "  (9.1113069994162233e-05, u'fossella'),\n",
        "  (8.6381467812032329e-05, u'hampton'),\n",
        "  (7.8365248143940779e-05, u'cantrell'),\n",
        "  (6.6881787537376674e-05, u'staten'),\n",
        "  (6.4511786172946262e-05, u'informants'),\n",
        "  (6.405878290169355e-05, u'fossellas'),\n",
        "  (6.1850908867925716e-05, u'deputized'),\n",
        "  (6.1850892410920144e-05, u'million-acre'),\n",
        "  (6.1850885378030466e-05, u'victimized'),\n",
        "  (6.1850882680439061e-05, u'dockets')],\n",
        " [(0.00067567609073568974, u'--'),\n",
        "  (0.00066826467680480882, u'foley'),\n",
        "  (0.00066736787455532712, u'mr'),\n",
        "  (0.00066546490805230094, u'bill'),\n",
        "  (0.00063059871586178371, u'democrats'),\n",
        "  (0.00061374328892497036, u'hastert'),\n",
        "  (0.00060593591973916964, u'said'),\n",
        "  (0.00058305048217756371, u'republicans'),\n",
        "  (0.00055360010360555752, u'money'),\n",
        "  (0.00054269566300669224, u'senate'),\n",
        "  (0.00051873242233675448, u'she'),\n",
        "  (0.0005182787761723787, u'bush'),\n",
        "  (0.00051684032441411706, u'party'),\n",
        "  (0.00051601619101746996, u'enron'),\n",
        "  (0.0005110322407208942, u'voters')],\n",
        " [(9.2185283046404754e-05, u'confederate'),\n",
        "  (5.9894087799764352e-05, u'expelled'),\n",
        "  (5.8193014641913072e-05, u'fountain'),\n",
        "  (5.6765291548562883e-05, u'gsn'),\n",
        "  (5.676526303244129e-05, u'follies'),\n",
        "  (5.5056301238914756e-05, u'brigadier'),\n",
        "  (5.50563004918554e-05, u'quarterlys'),\n",
        "  (5.5056295880224113e-05, u'burnett'),\n",
        "  (5.505627412913316e-05, u'secession'),\n",
        "  (5.5056213248853793e-05, u'biographical'),\n",
        "  (5.505620286344262e-05, u'directory'),\n",
        "  (5.3551311532415956e-05, u'roberts'),\n",
        "  (5.1834396869743983e-05, u'estes'),\n",
        "  (5.09844493125825e-05, u'kpmg'),\n",
        "  (4.9556354489055898e-05, u'quotes')],\n",
        " [(0.00018960142461408444, u'freddie'),\n",
        "  (0.00017016115273472612, u'fa-'),\n",
        "  (0.0001593483777406963, u'boeing'),\n",
        "  (0.00015586658114920705, u'lyonnais'),\n",
        "  (0.00015028662176275304, u'mac'),\n",
        "  (0.00014546656811873236, u'crdit'),\n",
        "  (0.00011746529507543174, u'receivership'),\n",
        "  (0.00011364543165852177, u'french'),\n",
        "  (0.00010652322819753652, u'fannie'),\n",
        "  (0.0001016335882537003, u'mae'),\n",
        "  (9.814761347637214e-05, u'wilkes'),\n",
        "  (9.6644783580667276e-05, u'tankers'),\n",
        "  (9.3222077930900864e-05, u'yang'),\n",
        "  (8.36732799256328e-05, u'hedge'),\n",
        "  (8.3536999415709121e-05, u'tanker')],\n",
        " [(0.00015562207118128817, u'heaton'),\n",
        "  (5.8825085653896844e-05, u'tax-cut'),\n",
        "  (5.5533196908881648e-05, u'teamsters'),\n",
        "  (5.5494761556429586e-05, u'taping'),\n",
        "  (5.5494570319343808e-05, u'segal'),\n",
        "  (5.4220072914013917e-05, u'abstinence-only'),\n",
        "  (5.2958344213147233e-05, u'child-care'),\n",
        "  (5.227942842170678e-05, u'supervision'),\n",
        "  (5.1455281629776934e-05, u'torture'),\n",
        "  (5.1294964948878533e-05, u'norma'),\n",
        "  (5.0987314120508811e-05, u'spying'),\n",
        "  (5.0663515199372089e-05, u'rent-stabilized'),\n",
        "  (5.0563320012972539e-05, u'proselytizing'),\n",
        "  (5.0114744769282048e-05, u'condits'),\n",
        "  (4.993414796830721e-05, u'hoffa')]]"
       ]
      }
     ],
     "prompt_number": 172
    },
    {
     "cell_type": "code",
     "collapsed": false,
     "input": [
      "lda.numworkers"
     ],
     "language": "python",
     "metadata": {},
     "outputs": [
      {
       "output_type": "pyout",
       "prompt_number": 169,
       "text": [
        "1"
       ]
      }
     ],
     "prompt_number": 169
    },
    {
     "cell_type": "code",
     "collapsed": false,
     "input": [
      "lda.show_topics() #10 topics"
     ],
     "language": "python",
     "metadata": {},
     "outputs": [
      {
       "output_type": "pyout",
       "prompt_number": 166,
       "text": [
        "[u'0.000*governors + 0.000*redistricting + 0.000*tea + 0.000*turnout + 0.000*gop + 0.000*arlington + 0.000*harman + 0.000*grassroots + 0.000*romney + 0.000*rally',\n",
        " u'0.000*expelled + 0.000*chertoff + 0.000*cia + 0.000*albaugh + 0.000*confederate + 0.000*boeing + 0.000*wilkes + 0.000*poindexter + 0.000*yacht + 0.000*keith',\n",
        " u'0.000*vitter + 0.000*greenspan + 0.000*magliocchetti + 0.000*castillo + 0.000*hosts + 0.000*hagel + 0.000*hagels + 0.000*stedem + 0.000*pma + 0.000*dominican',\n",
        " u'0.001*fordham + 0.000*speakers + 0.000*kolbe + 0.000*schools + 0.000*charters + 0.000*kpmg + 0.000*shadegg + 0.000*students + 0.000*boeing + 0.000*alerted',\n",
        " u'0.000*ackerman + 0.000*heaton + 0.000*huvelle + 0.000*loan + 0.000*lauer + 0.000*lenders + 0.000*bjorklund + 0.000*scully + 0.000*flottman + 0.000*foster',\n",
        " u'0.000*mansfield + 0.000*fa- + 0.000*doolittle + 0.000*cranston + 0.000*rendell + 0.000*podesta + 0.000*supervision + 0.000*visas + 0.000*teamsters + 0.000*pope',\n",
        " u'0.000*colbert + 0.000*moynihan + 0.000*wilkes + 0.000*wal-mart + 0.000*cantrell + 0.000*mahoney + 0.000*lautenberg + 0.000*hampton + 0.000*heaton + 0.000*martinez',\n",
        " u'0.000*deregulation + 0.000*nussle + 0.000*crdit + 0.000*bachus + 0.000*french + 0.000*condits + 0.000*lyonnais + 0.000*informants + 0.000*professors + 0.000*pence',\n",
        " u'0.000*lautenberg + 0.000*google + 0.000*shelters + 0.000*transaction + 0.000*renzi + 0.000*oil-for-food + 0.000*kerrys + 0.000*redistricting + 0.000*citigroup + 0.000*rent-stabilized',\n",
        " u'0.001*-- + 0.001*mr + 0.001*bill + 0.001*foley + 0.001*democrats + 0.001*hastert + 0.001*said + 0.001*republicans + 0.001*money + 0.001*senate']"
       ]
      }
     ],
     "prompt_number": 166
    },
    {
     "cell_type": "code",
     "collapsed": false,
     "input": [
      "lda.show_topics()"
     ],
     "language": "python",
     "metadata": {},
     "outputs": [
      {
       "output_type": "pyout",
       "prompt_number": 139,
       "text": [
        "[u'0.062*the + 0.028*of + 0.028*to + 0.025*and + 0.022*a + 0.020*in + 0.014*that + 0.010*mr + 0.009*for + 0.009*on',\n",
        " u'0.052*the + 0.028*to + 0.027*of + 0.026*a + 0.021*and + 0.021*in + 0.013*he + 0.013*mr + 0.012*that + 0.011*his',\n",
        " u'0.068*the + 0.030*to + 0.030*of + 0.024*a + 0.021*and + 0.019*in + 0.015*that + 0.011*for + 0.009*on + 0.009*is',\n",
        " u'0.000*the + 0.000*to + 0.000*a + 0.000*of + 0.000*and + 0.000*that + 0.000*in + 0.000*he + 0.000*for + 0.000*on',\n",
        " u'0.045*the + 0.034*<num> + 0.033*a + 0.032*in + 0.020*and + 0.019*of + 0.017*to + 0.011*republican + 0.010*mr + 0.010*for',\n",
        " u'0.045*the + 0.017*to + 0.014*air + 0.011*force + 0.010*of + 0.009*a + 0.007*and + 0.007*boeing + 0.007*that + 0.006*deal',\n",
        " u'0.062*the + 0.025*of + 0.023*a + 0.021*in + 0.021*to + 0.018*and + 0.014*mr + 0.013*that + 0.011*said + 0.010*he',\n",
        " u'0.000*the + 0.000*to + 0.000*a + 0.000*and + 0.000*of + 0.000*in + 0.000*<num> + 0.000*mr + 0.000*for + 0.000*that',\n",
        " u'0.036*the + 0.023*and + 0.022*to + 0.021*a + 0.017*of + 0.014*in + 0.014*that + 0.010*for + 0.009*she + 0.009*her',\n",
        " u'0.050*the + 0.034*mr + 0.029*to + 0.025*a + 0.024*of + 0.020*in + 0.018*and + 0.016*he + 0.014*his + 0.013*that']"
       ]
      }
     ],
     "prompt_number": 139
    },
    {
     "cell_type": "code",
     "collapsed": false,
     "input": [
      "#filter(lambda x: x[1] == 1, c.items())"
     ],
     "language": "python",
     "metadata": {},
     "outputs": [],
     "prompt_number": 57
    },
    {
     "cell_type": "code",
     "collapsed": false,
     "input": [
      "ttl = format(tt).split()"
     ],
     "language": "python",
     "metadata": {},
     "outputs": [],
     "prompt_number": 38
    },
    {
     "cell_type": "code",
     "collapsed": false,
     "input": [
      "c = Counter(_.split())"
     ],
     "language": "python",
     "metadata": {},
     "outputs": [],
     "prompt_number": 30
    },
    {
     "cell_type": "raw",
     "metadata": {},
     "source": [
      "list(c.keys())"
     ]
    },
    {
     "cell_type": "code",
     "collapsed": false,
     "input": [
      "stopwords = set('to as at a is its in on and that of the'.split())\n",
      "stopwords"
     ],
     "language": "python",
     "metadata": {},
     "outputs": [
      {
       "output_type": "pyout",
       "prompt_number": 42,
       "text": [
        "set(['a',\n",
        "     'on',\n",
        "     'and',\n",
        "     'that',\n",
        "     'of',\n",
        "     'is',\n",
        "     'to',\n",
        "     'as',\n",
        "     'at',\n",
        "     'in',\n",
        "     'the',\n",
        "     'its'])"
       ]
      }
     ],
     "prompt_number": 42
    },
    {
     "cell_type": "code",
     "collapsed": false,
     "input": [
      "print sorted(filter(lambda w: w not in stopwords, ttl))"
     ],
     "language": "python",
     "metadata": {},
     "outputs": [
      {
       "output_type": "stream",
       "stream": "stdout",
       "text": [
        "[u'about', u'above', u'abramoff', u'administration', u'air', u'anything', u'arguing', u'attempt', u'bans', u'be', u'be', u'because', u'become', u'better', u'beyond', u'beyond', u'big', u'bill', u'bill', u'bills', u'bipartisan', u'border', u'brethren', u'bush', u'bush', u'bush', u'but', u'but', u'by', u'campaign', u'campaign', u'campaigner', u'capitol', u'capitol', u'change', u'citing', u'clean', u'clout', u'complaints', u'concerns', u'concerns', u'concerns', u'congress', u'congress', u'congress', u'congress', u'congress', u'congresss', u'continues', u'control', u'control', u'corporate', u'could', u'culture', u'dare', u'demand', u'democratic', u'democrats', u'demonstrate', u'denying', u'deprive', u'disclose', u'disgraceful', u'disingenuous', u'do', u'doing', u'dollars', u'drew', u'earmarked', u'election', u'enacted', u'ensuring', u'escaping', u'ethics', u'example', u'faced', u'far', u'fares', u'favor', u'fervor', u'finally', u'flights', u'flow', u'flying', u'for', u'for', u'force', u'forced', u'friendly', u'from', u'from', u'from', u'full-throated', u'gauge', u'goes', u'golf-and-goodies', u'gop', u'groundbreaking', u'hard', u'has', u'have', u'he', u'hegemony', u'helped', u'hill', u'hill', u'house', u'house', u'house', u'house', u'houses', u'how', u'hundreds', u'ideal', u'if', u'illicit', u'imagine', u'industry', u'intent', u'intent', u'it', u'jack', u'jets', u'largess', u'lawmakers', u'lawmakers', u'leadership', u'least', u'legislating', u'legislation', u'legislative', u'legitimate', u'lobbying', u'lobbying', u'lobbying', u'lobbying', u'lobbyist', u'lobbyists', u'long', u'ludicrous', u'majorities', u'mandate', u'measure', u'measure', u'measure', u'measure', u'members', u'might', u'might', u'month', u'new', u'not', u'not', u'one', u'opinion', u'other', u'own', u'particularly', u'passed', u'pay', u'pending', u'ploy', u'plummeting', u'pork', u'president', u'president', u'president', u'presidents', u'previous', u'provides', u'publics', u'quickly', u'quid-pro-quo', u'raising', u'rates', u'recognized', u'red-herring', u'reform', u'reform', u'reform', u'regulations', u'reining', u'rely', u'republican', u'republicans', u'republicans', u'scandal', u'season', u'serious', u'shadows', u'situation', u'sizable', u'skies', u'so', u'spending', u'spikes', u'start', u'stated', u'still', u'stronger', u'support', u'surviving', u'thankfully', u'thats', u'thats', u'their', u'their', u'them', u'think', u'this', u'this', u'this', u'thousands', u'token', u'torrent', u'travel', u'true', u'ultimate', u'ultimately', u'unique', u'up', u'uses', u'veto', u'veto-proof', u'view', u'voters', u'washington', u'when', u'when', u'whether', u'white', u'white', u'white', u'white', u'will', u'win', u'would', u'would', u'years', u'yet']\n"
       ]
      }
     ],
     "prompt_number": 43
    }
   ],
   "metadata": {}
  }
 ]
}