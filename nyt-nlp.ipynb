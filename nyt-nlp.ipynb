{
 "metadata": {
  "name": "nyt-nlp"
 },
 "nbformat": 3,
 "nbformat_minor": 0,
 "worksheets": [
  {
   "cells": [
    {
     "cell_type": "code",
     "collapsed": false,
     "input": [
      "#import requests\n",
      "import json\n",
      "import pandas as pd\n",
      "import numpy as np\n",
      "from time import sleep\n",
      "from itertools import count\n",
      "#import cPickle as pickle\n",
      "#from lxml.cssselect import CSSSelector\n",
      "#from lxml.html import fromstring\n",
      "#import redis\n",
      "import pymongo\n",
      "import re\n",
      "from operator import itemgetter\n",
      "from gensim import corpora, models, similarities\n",
      "import gensim\n",
      "from collections import Counter\n",
      "import datetime as dt"
     ],
     "language": "python",
     "metadata": {},
     "outputs": [],
     "prompt_number": 1
    },
    {
     "cell_type": "code",
     "collapsed": false,
     "input": [
      "import myutils as mu\n",
      "mu.psettings(pd)"
     ],
     "language": "python",
     "metadata": {},
     "outputs": [],
     "prompt_number": 2
    },
    {
     "cell_type": "code",
     "collapsed": false,
     "input": [
      "%load_ext autosave\n",
      "%autosave 30"
     ],
     "language": "python",
     "metadata": {},
     "outputs": [
      {
       "output_type": "stream",
       "stream": "stdout",
       "text": [
        "Usage: %autosave [seconds]\n",
        "autosaving every 30s\n"
       ]
      },
      {
       "javascript": [
        "\n",
        "\n",
        "// clear previous interval, if there was one\n",
        "if (IPython.autosave_extension_interval) {\n",
        "    clearInterval(IPython.autosave_extension_interval);\n",
        "    IPython.autosave_extension_interval = null;\n",
        "}\n",
        "\n",
        "// set new interval\n",
        "if (30000) {\n",
        "    console.log(\"scheduling autosave every 30000 ms\");\n",
        "    IPython.notebook.save_notebook();\n",
        "    IPython.autosave_extension_interval = setInterval(function() {\n",
        "        console.log(\"autosave\");\n",
        "        IPython.notebook.save_notebook();\n",
        "    }, 30000);\n",
        "} else {\n",
        "    console.log(\"canceling autosave\");\n",
        "}\n"
       ],
       "output_type": "display_data",
       "text": [
        "<IPython.core.display.Javascript at 0x10695c8d0>"
       ]
      }
     ],
     "prompt_number": 3
    },
    {
     "cell_type": "markdown",
     "metadata": {},
     "source": [
      "##Init"
     ]
    },
    {
     "cell_type": "code",
     "collapsed": false,
     "input": [
      "connection = pymongo.Connection( \"localhost\", 27017 )\n",
      "db = connection.nyt"
     ],
     "language": "python",
     "metadata": {},
     "outputs": [],
     "prompt_number": 4
    },
    {
     "cell_type": "code",
     "collapsed": false,
     "input": [
      "raw = list(db.raw_text.find())"
     ],
     "language": "python",
     "metadata": {},
     "outputs": [],
     "prompt_number": 5
    },
    {
     "cell_type": "code",
     "collapsed": false,
     "input": [
      "for dct in raw:\n",
      "    if 'title' not in dct:\n",
      "        dct['title'] = ''"
     ],
     "language": "python",
     "metadata": {},
     "outputs": [],
     "prompt_number": 22
    },
    {
     "cell_type": "code",
     "collapsed": false,
     "input": [
      "filter(lambda x: 'text' not in x, db.raw_text.find())"
     ],
     "language": "python",
     "metadata": {},
     "outputs": [
      {
       "output_type": "pyout",
       "prompt_number": 23,
       "text": [
        "[]"
       ]
      }
     ],
     "prompt_number": 23
    },
    {
     "cell_type": "code",
     "collapsed": false,
     "input": [
      "filter(lambda x: 'title' not in x, raw)"
     ],
     "language": "python",
     "metadata": {},
     "outputs": [
      {
       "output_type": "pyout",
       "prompt_number": 24,
       "text": [
        "[]"
       ]
      }
     ],
     "prompt_number": 24
    },
    {
     "cell_type": "raw",
     "metadata": {},
     "source": [
      "_txt = raw[0]['text']"
     ]
    },
    {
     "cell_type": "raw",
     "metadata": {},
     "source": [
      "def catch():\n",
      "    for t in map(itemgetter('text'), raw):\n",
      "        for w in format(t):\n",
      "            if w.startswith(\"'\"):  \n",
      "                print w\n",
      "                return t\n",
      "_t = catch()\n",
      "_t"
     ]
    },
    {
     "cell_type": "raw",
     "metadata": {},
     "source": [
      "c = Counter(txt)"
     ]
    },
    {
     "cell_type": "markdown",
     "metadata": {},
     "source": [
      "##Extraction"
     ]
    },
    {
     "cell_type": "code",
     "collapsed": false,
     "input": [
      "def format(txt):\n",
      "    tt = re.sub(r'[\\.\\,\\;\\:\\'\\\"\\(\\)\\&\\%\\*\\+\\[\\]\\=\\?\\!/]', '', txt).lower()\n",
      "    tt = re.sub(r' *\\$[0-9]\\S* ?', ' <money> ', tt)    \n",
      "    tt = re.sub(r' *[0-9]\\S* ?', ' <num> ', tt)    \n",
      "    tt = re.sub(r'[\\-\\s]+', ' ', tt)\n",
      "    return tt.strip().split()"
     ],
     "language": "python",
     "metadata": {},
     "outputs": [],
     "prompt_number": 6
    },
    {
     "cell_type": "raw",
     "metadata": {},
     "source": [
      "' '.join(dols)\n",
      "#txt = format(_txt)\n",
      "#print txt[:10]\n",
      "#t = format(_t)\n",
      "#sorted(t)\n",
      "#format(' '.join(dols))"
     ]
    },
    {
     "cell_type": "code",
     "collapsed": false,
     "input": [
      "map(itemgetter('url'), raw)"
     ],
     "language": "python",
     "metadata": {},
     "outputs": [
      {
       "output_type": "pyout",
       "prompt_number": 225,
       "text": [
        "[u'http://www.nytimes.com/2007/08/15/opinion/15wed3.html',\n",
        " u'http://www.nytimes.com/2007/03/16/washington/16cong.html',\n",
        " u'http://www.nytimes.com/2006/03/11/politics/11lobby.html',\n",
        " u'http://www.nytimes.com/2006/04/30/washington/30cunningham.html',\n",
        " u'http://www.nytimes.com/2004/04/09/business/senate-panel-asked-to-give-sec-proposals-a-chance.html',\n",
        " u'http://www.nytimes.com/2006/05/12/washington/12foggo.html',\n",
        " u'http://www.nytimes.com/2004/06/07/business/move-to-stiffen-decency-rules-is-losing-steam-in-washington.html',\n",
        " u'http://www.nytimes.com/2001/06/25/us/house-gop-seeks-new-way-to-block-campaign-measure.html',\n",
        " u'http://www.nytimes.com/2006/08/08/washington/08ney.html',\n",
        " u'http://www.nytimes.com/2002/03/11/us/political-memo-recession-won-t-tarry-to-run-with-democrats.html',\n",
        " u'http://query.nytimes.com/gst/fullpage.html?res=9804EFDC1330F932A15751C1A9629C8B63',\n",
        " u'http://www.nytimes.com/2002/05/31/us/law-s-sponsors-fault-draft-of-campaign-finance-rules.html',\n",
        " u'http://www.nytimes.com/2009/01/31/world/africa/31kenya.html',\n",
        " u'http://www.nytimes.com/2000/11/05/magazine/for-the-sake-of-argument.html',\n",
        " u'http://www.nytimes.com/2008/05/25/opinion/25sun3.html',\n",
        " u'http://www.nytimes.com/2007/06/22/opinion/22fri4.html',\n",
        " u'http://www.nytimes.com/2002/07/25/us/a-look-back-others-expelled-from-the-house.html',\n",
        " u'http://www.nytimes.com/2000/07/31/opinion/essay-norma-the-plumber.html',\n",
        " u'http://www.nytimes.com/2012/04/30/business/wal-mart-bribery-scandal-complicates-us-expansion-plans.html',\n",
        " u'http://www.nytimes.com/2006/10/23/washington/23fantasy.html',\n",
        " u'http://www.nytimes.com/2012/07/01/opinion/sunday/washington-is-stuck-but-hes-getting-out.html',\n",
        " u'http://www.nytimes.com/2006/10/05/us/politics/05bush.html',\n",
        " u'http://www.nytimes.com/2006/11/17/us/politics/17cong.html',\n",
        " u'http://www.nytimes.com/2008/01/21/opinion/21mon2.html',\n",
        " u'http://www.nytimes.com/2006/11/06/business/media/06foley.html',\n",
        " u'http://www.nytimes.com/2011/04/22/opinion/22fri3.html',\n",
        " u'http://www.nytimes.com/2007/12/04/opinion/04tue4.html',\n",
        " u'http://www.nytimes.com/2008/10/14/us/politics/14mahoney.html',\n",
        " u'http://query.nytimes.com/gst/fullpage.html?res=9C04EFD7163EF936A35751C0A9609C8B63',\n",
        " u'http://query.nytimes.com/gst/fullpage.html?res=9B04E0D7133BF930A35752C1A96E9C8B63',\n",
        " u'http://www.nytimes.com/2009/04/02/us/politics/02scott.html',\n",
        " u'http://www.nytimes.com/2008/09/17/washington/17cong.html',\n",
        " u'http://www.nytimes.com/2000/06/28/us/house-backs-bill-to-open-records-of-policy-groups.html',\n",
        " u'http://www.nytimes.com/2009/03/30/us/politics/30pma.html',\n",
        " u'http://www.nytimes.com/2002/02/13/business/enron-s-many-strands-hearings-enron-s-ex-chief-harshly-criticized-senate-panel.html',\n",
        " u'http://www.nytimes.com/2001/03/24/us/hard-money-becomes-focus-of-a-deal-on-banning-soft.html',\n",
        " u'http://www.nytimes.com/2011/07/14/world/europe/14react.html',\n",
        " u'http://query.nytimes.com/gst/fullpage.html?res=9B06E0DC1731F936A35751C1A9629C8B63',\n",
        " u'http://www.nytimes.com/2006/04/09/washington/09lobby.html',\n",
        " u'http://www.nytimes.com/2011/06/17/nyregion/anthony-d-weiner-tells-friends-he-will-resign.html',\n",
        " u'http://www.nytimes.com/2001/03/28/opinion/liberties-w-and-john-a-love-story.html',\n",
        " u'http://query.nytimes.com/gst/fullpage.html?res=9F04E6D6103FF936A35752C1A9609C8B63',\n",
        " u'http://www.nytimes.com/2005/12/16/politics/16detain.html',\n",
        " u'http://www.nytimes.com/2006/10/05/opinion/05thu1.html',\n",
        " u'http://www.nytimes.com/2007/06/22/washington/22nussle.html',\n",
        " u'http://www.nytimes.com/2008/08/01/washington/01rangel.html',\n",
        " u'http://query.nytimes.com/gst/fullpage.html?res=9901E3DB1339F936A35753C1A96E9C8B63',\n",
        " u'http://query.nytimes.com/gst/fullpage.html?res=9C02E4DA1330F933A25753C1A9609C8B63',\n",
        " u'http://www.nytimes.com/2006/11/08/us/politics/08house.html',\n",
        " u'http://www.nytimes.com/2007/10/17/us/17watch.html',\n",
        " u'http://select.nytimes.com//2006/05/21/opinion/21rich.html',\n",
        " u'http://www.nytimes.com/2005/12/02/politics/02abramoff.html',\n",
        " u'http://query.nytimes.com/gst/fullpage.html?res=9B01E5D81638F931A25752C0A9639C8B63',\n",
        " u'http://www.nytimes.com/2003/02/13/business/tax-moves-by-enron-said-to-mystify-the-irs.html',\n",
        " u'http://www.nytimes.com/2012/06/08/us/politics/ex-ensign-aide-pleads-guilty-in-scheme-that-snared-only-him.html',\n",
        " u'http://www.nytimes.com/2002/01/22/opinion/a-new-rallying-cry-for-reform.html',\n",
        " u'http://www.nytimes.com/2006/10/11/washington/11foley.html',\n",
        " u'http://www.nytimes.com/2005/12/09/politics/09texas.html',\n",
        " u'http://www.nytimes.com/2008/02/22/opinion/22fri4.html',\n",
        " u'http://www.nytimes.com/2001/04/03/us/campaign-finance-bill-passes-in-senate-59-41-house-foes-vow-a-fight.html',\n",
        " u'http://www.nytimes.com/2002/02/06/us/in-surprise-house-speaker-sets-vote-on-campaign-finance.html',\n",
        " u'http://query.nytimes.com/gst/fullpage.html?res=9905E5D61230F933A25756C0A9639C8B63',\n",
        " u'http://www.nytimes.com/2010/04/23/business/economy/23norris.html',\n",
        " u'http://www.nytimes.com/2004/05/21/us/house-approves-447-billion-in-spending-for-military.html',\n",
        " u'http://query.nytimes.com/gst/fullpage.html?res=940DE4DA1330F933A25753C1A9609C8B63',\n",
        " u'http://www.nytimes.com/2000/11/19/us/publicly-paid-elections-put-to-the-test-in-3-states.html',\n",
        " u'http://www.nytimes.com/2003/12/19/nyregion/former-employees-say-nassau-county-misused-housing-funds.html',\n",
        " u'http://www.nytimes.com/2006/10/26/us/politics/26foley.html',\n",
        " u'http://www.nytimes.com/2008/01/11/washington/11doolittle.html',\n",
        " u'http://www.nytimes.com/2002/02/15/us/house-backs-broad-change-in-financing-of-campaigns-fast-senate-action-sought.html',\n",
        " u'http://www.nytimes.com/2008/11/03/us/politics/03donors.html',\n",
        " u'http://www.nytimes.com/2008/09/12/us/12cong.html',\n",
        " u'http://select.nytimes.com//2007/07/22/opinion/22rich.html',\n",
        " u'http://www.nytimes.com/2006/10/06/washington/06hastert.html',\n",
        " u'http://www.nytimes.com/2003/02/08/us/threats-responses-surveillance-pentagon-forms-2-panels-allay-fears-spying.html',\n",
        " u'http://www.nytimes.com/2006/11/09/us/politics/09repubs.html',\n",
        " u'http://www.nytimes.com/2006/10/05/nyregion/05reynolds.html',\n",
        " u'http://www.nytimes.com/2008/02/23/washington/23renzi.html',\n",
        " u'http://www.nytimes.com/2010/09/17/opinion/17brooks.html',\n",
        " u'http://www.nytimes.com/2002/07/12/business/corporate-conduct-congress-gop-in-congress-moving-past-bush-on-business-fraud.html',\n",
        " u'http://www.nytimes.com/2006/10/17/us/politics/17radio.html',\n",
        " u'http://www.nytimes.com/2011/08/12/opinion/turning-the-wrong-page.html',\n",
        " u'http://www.nytimes.com/2012/11/08/us/politics/state-by-state-election-coverage.html',\n",
        " u'http://www.nytimes.com/2006/10/08/weekinreview/08toner.html',\n",
        " u'http://www.nytimes.com/2001/12/06/us/nation-challenged-immigration-senate-bill-would-stiffen-some-controls-over-visas.html',\n",
        " u'http://www.nytimes.com/2002/11/30/nyregion/rangel-s-star-grows-dim-as-democrats-lose-ground.html',\n",
        " u'http://www.nytimes.com/2006/10/09/us/politics/09conservatives.html',\n",
        " u'http://www.nytimes.com/2003/02/16/nyregion/the-second-time-isn-t-as-lovely-for-lautenberg.html',\n",
        " u'http://www.nytimes.com/2010/08/02/opinion/02mon3.html',\n",
        " u'http://www.nytimes.com/2008/08/01/nyregion/01paterson.html',\n",
        " u'http://query.nytimes.com/gst/fullpage.html?res=9A02E2DD173AF935A25750C0A9649D8B63',\n",
        " u'http://query.nytimes.com/gst/fullpage.html?res=9A05EEDC1E3FF93BA35752C1A9609C8B63',\n",
        " u'http://www.nytimes.com/2006/03/04/politics/04cunningham.html',\n",
        " u'http://query.nytimes.com/gst/fullpage.html?res=9C00E4DD1131F935A25755C0A9609C8B63',\n",
        " u'http://www.nytimes.com/2006/10/01/washington/01pages.html',\n",
        " u'http://www.nytimes.com/2006/10/04/washington/04foley.html',\n",
        " u'http://query.nytimes.com/gst/fullpage.html?res=9B06E4DC1E3FF93BA35752C1A9609C8B63',\n",
        " u'http://www.nytimes.com/2002/02/12/us/white-house-is-backing-foes-of-finance-bill.html',\n",
        " u'http://www.nytimes.com/2001/05/26/opinion/bush-faces-the-power-of-subpoena.html',\n",
        " u'http://query.nytimes.com/gst/fullpage.html?res=9B07E0DF1130F930A25753C1A9609C8B63',\n",
        " u'http://www.nytimes.com/2013/05/18/world/europe/kerry-lavrov-ties-grow-despite-us-russia-spats.html',\n",
        " u'http://www.nytimes.com/2001/11/06/us/local-elections-to-test-the-nation-s-mood.html',\n",
        " u'http://query.nytimes.com/gst/fullpage.html?res=9B01E4D91030F935A25752C0A9619C8B63',\n",
        " u'http://www.nytimes.com/2004/06/17/world/reach-war-reconstruction-senate-rejects-harder-penalties-companies-ban-private.html',\n",
        " u'http://www.nytimes.com/2001/01/01/us/alan-cranston-former-us-senator-is-dead-at-86.html',\n",
        " u'http://www.nytimes.com/2006/04/30/washington/30mainstreet.html',\n",
        " u'http://www.nytimes.com/2006/05/06/opinion/06sat3.html',\n",
        " u'http://www.nytimes.com/2002/04/26/us/pennsylvania-rivals-try-to-redefine-their-party.html',\n",
        " u'http://www.nytimes.com/2007/02/16/opinion/16fri3.html',\n",
        " u'http://query.nytimes.com/gst/fullpage.html?res=9807E4DD1230F935A35753C1A9609C8B63',\n",
        " u'http://www.nytimes.com/2003/12/04/opinion/l-election-scandals-past-and-future-413909.html',\n",
        " u'http://www.nytimes.com/2004/07/16/business/hedge-fund-plan-fractures-civility-of-republicans.html',\n",
        " u'http://www.nytimes.com/2006/09/15/business/15lease.html',\n",
        " u'http://www.nytimes.com/2008/06/28/us/28religion.html',\n",
        " u'http://query.nytimes.com/gst/fullpage.html?res=9D05E6DE1339F937A15752C0A9649D8B63',\n",
        " u'http://www.nytimes.com/2006/03/03/politics/03lobby.html',\n",
        " u'http://www.nytimes.com/2006/11/19/washington/19ethics.html',\n",
        " u'http://www.nytimes.com/2002/03/04/us/pocketing-soft-money-till-pocket-is-sewn-up.html',\n",
        " u'http://www.nytimes.com/2001/08/02/us/bush-promotes-education-and-in-a-calculated-forum.html',\n",
        " u'http://www.nytimes.com/2007/09/02/weekinreview/02goodnough.html',\n",
        " u'http://www.nytimes.com/2006/02/19/politics/19spouse.html',\n",
        " u'http://www.nytimes.com/2011/06/08/us/politics/08weiner.html',\n",
        " u'http://www.nytimes.com/2008/06/06/opinion/06fri2.html',\n",
        " u'http://www.nytimes.com/2007/01/20/washington/20ney.html',\n",
        " u'http://www.nytimes.com/2006/11/12/weekinreview/12kirkpatrick.html',\n",
        " u'http://www.nytimes.com/2006/02/12/politics/12memo.html',\n",
        " u'http://www.nytimes.com/2006/10/25/washington/25foley.html',\n",
        " u'http://www.nytimes.com/2006/11/05/weekinreview/05purnick.html',\n",
        " u'http://www.nytimes.com/2002/07/14/us/congress-looks-at-how-justice-uses-new-power.html',\n",
        " u'http://www.nytimes.com/2000/05/05/us/ex-clinton-counsel-grilled-on-e-mail-issue.html',\n",
        " u'http://www.nytimes.com/2006/11/15/us/politics/15cong.html',\n",
        " u'http://www.nytimes.com/2007/06/07/washington/07earmark.html',\n",
        " u'http://www.nytimes.com/2008/02/29/opinion/29fri4.html',\n",
        " u'http://www.nytimes.com/2006/10/18/opinion/18bartlett.html',\n",
        " u'http://www.nytimes.com/2001/09/09/us/teamsters-seek-to-end-us-oversight.html',\n",
        " u'http://www.nytimes.com/2011/04/22/us/politics/22ensign.html',\n",
        " u'http://query.nytimes.com/gst/fullpage.html?res=9802E3DC1231F933A25755C0A9609C8B63',\n",
        " u'http://www.nytimes.com/2006/05/28/weekinreview/28stolberg.html',\n",
        " u'http://query.nytimes.com/gst/fullpage.html?res=9E07EFDD1131F93AA15757C0A9639C8B63',\n",
        " u'http://www.nytimes.com/2002/06/24/us/bush-facing-test-in-house-as-economic-agenda-stalls.html',\n",
        " u'http://www.nytimes.com/2002/07/23/business/citigroup-is-linked-to-a-deal-that-let-enron-skirt-rules.html',\n",
        " u'http://www.nytimes.com/2002/01/20/business/who-will-needle-regulators-now-that-enron-s-muzzled.html',\n",
        " u'http://www.nytimes.com/2002/01/18/nyregion/the-big-city-blame-game-has-two-sets-of-standards.html',\n",
        " u'http://www.nytimes.com/2002/07/10/business/corporate-conduct-the-overview-bush-on-wall-st-offers-tough-stance.html',\n",
        " u'http://query.nytimes.com/gst/fullpage.html?res=9D02EFD91530F93BA15752C1A9679D8B63',\n",
        " u'http://www.nytimes.com/2006/09/30/us/30foley.html',\n",
        " u'http://www.nytimes.com/2006/10/07/us/politics/07elect.html',\n",
        " u'http://www.nytimes.com/2006/06/25/opinion/25sun3.html',\n",
        " u'http://www.nytimes.com/2002/02/08/business/enron-s-many-strands-congressional-memo-party-line-split-over-pensions-reappears.html',\n",
        " u'http://www.nytimes.com/2008/10/05/magazine/05Davis-t.html',\n",
        " u'http://www.nytimes.com/2010/08/05/opinion/05thu3.html',\n",
        " u'http://www.nytimes.com/2006/07/12/washington/12gamble.html',\n",
        " u'http://query.nytimes.com/gst/fullpage.html?res=9C03E7DA173CF937A35752C1A9629C8B63',\n",
        " u'http://www.nytimes.com/2003/10/28/business/lieberman-to-propose-increased-oversight-for-mutual-funds.html',\n",
        " u'http://www.nytimes.com/2002/11/07/us/the-2002-elections-the-south-vote-solidifies-shift-of-south-to-the-gop.html',\n",
        " u'http://www.nytimes.com/2006/10/07/washington/07hastert.html',\n",
        " u'http://www.nytimes.com/2013/05/17/us/politics/energized-gop-weighs-how-far-to-go-in-inquiries.html',\n",
        " u'http://www.nytimes.com/2007/01/01/us/01ethics.html',\n",
        " u'http://www.nytimes.com/2000/03/03/us/2000-campaign-campaign-finance-longtime-fund-raiser-for-gore-convicted-donation.html',\n",
        " u'http://www.nytimes.com/2007/12/20/us/politics/20clinton.html',\n",
        " u'http://www.nytimes.com/2006/12/08/us/politics/08memo.html',\n",
        " u'http://www.nytimes.com/2001/07/09/opinion/last-push-on-campaign-finance.html',\n",
        " u'http://www.nytimes.com/2002/03/13/business/enron-s-many-strands-regulations-congress-again-tries-tighten-derivatives-rules.html',\n",
        " u'http://www.nytimes.com/2006/10/19/washington/19foley.html',\n",
        " u'http://www.nytimes.com/2007/03/11/world/americas/11colombia.html',\n",
        " u'http://www.nytimes.com/2007/10/16/us/16contract.html',\n",
        " u'http://query.nytimes.com/gst/fullpage.html?res=9804E7D81630F937A35756C0A9639C8B63',\n",
        " u'http://www.nytimes.com/2008/06/17/washington/17reed.html',\n",
        " u'http://www.nytimes.com/2000/10/10/us/2000-campaign-prospects-house-democrats-bid-win-house-gains-strength.html',\n",
        " u'http://www.nytimes.com/2004/06/05/nyregion/lautenberg-80-has-2nd-act-in-senate-and-sharper-teeth.html',\n",
        " u'http://www.nytimes.com/2006/03/12/weekinreview/12phillips.html',\n",
        " u'http://www.nytimes.com/2006/11/05/us/politics/05elect.html',\n",
        " u'http://www.nytimes.com/2005/11/25/politics/25memo.html',\n",
        " u'http://www.nytimes.com/2002/04/04/business/enron-s-many-strands-the-executives-home-as-shield-from-creditors-is-under-fire.html',\n",
        " u'http://www.nytimes.com/2000/06/24/us/the-2000-campaign-the-overview-an-angered-gore-defended-96-role-to-investigator.html',\n",
        " u'http://www.nytimes.com/2006/11/29/washington/29intel.html',\n",
        " u'http://www.nytimes.com/2002/03/21/us/campaign-finance-bill-wins-final-approval-congress-bush-says-he-ll-sign-it.html',\n",
        " u'http://query.nytimes.com/gst/fullpage.html?res=9C01EEDF1338F932A35753C1A9629C8B63',\n",
        " u'http://www.nytimes.com/2012/12/10/us/politics/election-brings-seasoned-politicians-to-congress.html',\n",
        " u'http://www.nytimes.com/2003/09/26/us/congress-shuts-pentagon-unit-over-privacy.html',\n",
        " u'http://www.nytimes.com/2000/06/28/us/political-memo-both-parties-see-ally-in-gore-transcript.html',\n",
        " u'http://www.nytimes.com/2002/04/05/us/failures-raise-questions-for-charter-schools.html',\n",
        " u'http://www.nytimes.com/2006/11/15/us/politics/15lobby.html',\n",
        " u'http://www.nytimes.com/2006/11/07/us/politics/07election.html',\n",
        " u'http://www.nytimes.com/2008/09/29/business/29norris.html',\n",
        " u'http://www.nytimes.com/2006/01/15/politics/15cong.html',\n",
        " u'http://query.nytimes.com/gst/fullpage.html?res=9C03E3DA1738F930A25752C0A9639C8B63',\n",
        " u'http://query.nytimes.com/gst/fullpage.html?res=9407E1DD1E30F935A25753C1A9609C8B63',\n",
        " u'http://www.nytimes.com/2002/02/15/opinion/a-good-night-s-work.html',\n",
        " u'http://www.nytimes.com/2006/10/04/opinion/04turley.html',\n",
        " u'http://www.nytimes.com/2006/10/13/washington/13foley.html',\n",
        " u'http://www.nytimes.com/2008/03/06/washington/06tankers.html',\n",
        " u'http://www.nytimes.com/2002/02/03/business/now-who-exactly-got-us-into-this.html',\n",
        " u'http://www.nytimes.com/2002/05/15/us/on-day-of-big-fund-raiser-white-house-is-attacked-as-9-11-marketer.html',\n",
        " u'http://www.nytimes.com/2007/07/28/washington/28lobby.html',\n",
        " u'http://www.nytimes.com/2008/05/20/nyregion/20fossella.html',\n",
        " u'http://www.nytimes.com/2001/04/13/nyregion/senator-clinton-settling-in-as-just-one-of-100.html',\n",
        " u'http://www.nytimes.com/2006/10/01/washington/01chaplain.html',\n",
        " u'http://www.nytimes.com/2012/04/28/us/secret-service-tightens-rules-for-employees-traveling-abroad.html',\n",
        " u'http://www.nytimes.com/2012/09/17/us/politics/groups-like-true-the-vote-are-looking-very-closely-for-voter-fraud.html',\n",
        " u'http://www.nytimes.com/2002/05/22/us/law-professors-express-concern-over-pending-bankruptcy-bill.html',\n",
        " u'http://www.nytimes.com/2012/03/27/nyregion/rangel-and-campaign-to-pay-fine-over-misuse-of-rent-law.html',\n",
        " u'http://www.nytimes.com/2001/07/13/us/campaign-measure-shelved-after-fierce-fight-on-rules.html',\n",
        " u'http://www.nytimes.com/2002/12/01/us/in-stormy-time-sec-is-facing-deeper-trouble.html',\n",
        " u'http://www.nytimes.com/2008/03/17/health/policy/17fda.html',\n",
        " u'http://www.nytimes.com/2007/01/20/opinion/20sat2.html',\n",
        " u'http://www.nytimes.com/2009/03/02/opinion/02mon3.html',\n",
        " u'http://www.nytimes.com/2002/01/24/nyregion/not-the-mrs-clinton-washington-thought-it-knew.html',\n",
        " u'http://www.nytimes.com/2007/05/01/washington/01drug.html',\n",
        " u'http://www.nytimes.com/2006/11/02/opinion/02mann.html',\n",
        " u'http://www.nytimes.com/2002/11/03/weekinreview/the-nation-handicapping-the-hot-races-for-congress.html',\n",
        " u'http://www.nytimes.com/2008/08/17/opinion/17sun1.html',\n",
        " u'http://www.nytimes.com/2011/06/05/opinion/05kristof.html',\n",
        " u'http://www.nytimes.com/2006/11/14/washington/14cong.html',\n",
        " u'http://www.nytimes.com/2002/02/14/us/campaign-finance-the-overview-sponsors-thwart-moves-to-scuttle-soft-money-bill.html',\n",
        " u'http://www.nytimes.com/2007/08/03/washington/03lobby.html',\n",
        " u'http://www.nytimes.com/2007/01/13/washington/13ethics.html',\n",
        " u'http://www.nytimes.com/2006/01/22/fashion/sundaystyles/22GOLF.html',\n",
        " u'http://query.nytimes.com/gst/fullpage.html?res=9903E4DD1E3FF933A15752C1A9629C8B63',\n",
        " u'http://www.nytimes.com/2002/01/25/opinion/comeback-for-campaign-reform.html',\n",
        " u'http://www.nytimes.com/2003/07/15/business/air-force-pushes-its-plan-to-lease-boeing-tankers.html',\n",
        " u'http://www.nytimes.com/2006/10/18/opinion/18wed1.html',\n",
        " u'http://www.nytimes.com/2013/03/05/nyregion/woman-lied-about-sex-with-senator-menendez-her-lawyer-says.html',\n",
        " u'http://www.nytimes.com/2007/09/01/washington/01craig.html',\n",
        " u'http://www.nytimes.com/2003/08/30/us/houston-punishes-former-principal-in-undercount-of-dropouts.html',\n",
        " u'http://query.nytimes.com/gst/fullpage.html?res=9F02E6D9103FF937A35752C1A9609C8B63',\n",
        " u'http://www.nytimes.com/2001/12/16/magazine/show-us-the-money.html',\n",
        " u'http://www.nytimes.com/2002/02/07/us/house-gop-rallies-forces-against-bill-on-donations.html',\n",
        " u'http://www.nytimes.com/2007/09/24/us/politics/24dodd.html',\n",
        " u'http://www.nytimes.com/2006/10/04/opinion/04wed1.html',\n",
        " u'http://query.nytimes.com/gst/fullpage.html?res=9501E0DF1E30F936A25753C1A9609C8B63',\n",
        " u'http://www.nytimes.com/2006/10/04/washington/04hastert.html',\n",
        " u'http://www.nytimes.com/2006/12/02/washington/02intel.html',\n",
        " u'http://www.nytimes.com/2005/11/02/politics/02detain.html',\n",
        " u'http://www.nytimes.com/2000/01/23/weekinreview/nation-party-time-holy-grail-campaign-2000-money-middle-3-billion-record-but.html',\n",
        " u'http://www.nytimes.com/2006/05/29/washington/29jefferson.html',\n",
        " u'http://www.nytimes.com/2006/12/02/opinion/02chafetz.html',\n",
        " u'http://www.nytimes.com/2006/02/26/politics/26govs.html',\n",
        " u'http://www.nytimes.com/2000/06/10/us/using-vote-as-a-political-excuse.html',\n",
        " u'http://query.nytimes.com/gst/fullpage.html?res=9904EEDF113CF93BA25750C0A9639C8B63',\n",
        " u'http://www.nytimes.com/2006/10/08/washington/08foley.html',\n",
        " u'http://www.nytimes.com/2003/11/11/business/senator-urges-action-on-tax-shelters.html',\n",
        " u'http://www.nytimes.com/2009/01/12/opinion/12mon4.html',\n",
        " u'http://query.nytimes.com/gst/fullpage.html?sec=health&res=9D03E1D61E3FF93AA35752C1A9609C8B63',\n",
        " u'http://query.nytimes.com/gst/fullpage.html?res=950CE6DE1630F93BA25750C0A9619C8B63',\n",
        " u'http://www.nytimes.com/2006/11/23/us/politics/23hastert.html',\n",
        " u'http://www.nytimes.com/2006/11/09/us/politics/09cong.html',\n",
        " u'http://www.nytimes.com/2002/07/10/business/corporate-conduct-reaction-talk-corporate-integrity-heard-street-suite.html',\n",
        " u'http://www.nytimes.com/2006/09/03/weekinreview/03greenberg.html',\n",
        " u'http://www.nytimes.com/2004/06/24/us/senate-passes-447-billion-pentagon-package.html',\n",
        " u'http://www.nytimes.com/2002/11/06/us/the-2002-elections-the-house-republicans-keep-control-of-the-house.html',\n",
        " u'http://www.nytimes.com/2006/01/29/politics/29legis.html',\n",
        " u'http://query.nytimes.com/gst/fullpage.html?res=9504E2DD1E3FF93AA1575BC0A9619C8B63',\n",
        " u'http://www.nytimes.com/2002/07/25/business/corporate-conduct-overview-negotiators-agree-broad-changes-business-laws.html',\n",
        " u'http://www.nytimes.com/2008/06/12/opinion/12thu1.html',\n",
        " u'http://www.nytimes.com/2007/09/15/business/15greenspan.html',\n",
        " u'http://www.nytimes.com/2000/01/12/us/campaign-2000-third-party-fractured-internal-conflict-reform-party-struggles.html',\n",
        " u'http://www.nytimes.com/2001/03/18/weekinreview/the-nation-the-law-of-unintended-consequences.html',\n",
        " u'http://www.nytimes.com/2002/02/09/business/enron-s-many-strands-retirement-money-plan-put-limits-401-k-holdings-draws-fire.html',\n",
        " u'http://www.nytimes.com/2002/07/31/business/corporate-conduct-the-president-bush-signs-bill-aimed-at-fraud-in-corporations.html',\n",
        " u'http://www.nytimes.com/2007/09/05/opinion/05wed3.html',\n",
        " u'http://www.nytimes.com/2007/03/10/washington/10memo.html',\n",
        " u'http://www.nytimes.com/2006/09/24/magazine/24melman.html',\n",
        " u'http://www.nytimes.com/2007/10/05/washington/05senate.html',\n",
        " u'http://www.nytimes.com/2006/10/29/magazine/29wwln_essay.html',\n",
        " u'http://www.nytimes.com/2007/09/24/opinion/24mon4.html',\n",
        " u'http://www.nytimes.com/2002/09/22/business/business-will-reforms-with-few-teeth-be-able-to-bite.html',\n",
        " u'http://www.nytimes.com/2006/02/26/weekinreview/26stol.html',\n",
        " u'http://query.nytimes.com/gst/fullpage.html?res=9F0CE3DA163DF930A35755C0A96E9C8B63',\n",
        " u'http://www.nytimes.com/2012/05/23/world/americas/secret-service-director-to-testify-that-security-was-not-breached-in-scandal.html',\n",
        " u'http://www.nytimes.com/2012/02/11/us/politics/bachus-expects-full-exoneration-in-insider-trading-inquiry.html',\n",
        " u'http://www.nytimes.com/2012/08/21/us/politics/after-skinny-dipping-in-israel-rep-kevin-yoder-is-rebuked.html',\n",
        " u'http://www.nytimes.com/2013/01/26/us/politics/gay-lawmakers-growing-presence-suggests-shift-in-attitudes.html',\n",
        " u'http://www.nytimes.com/2006/10/12/us/12foley.html',\n",
        " u'http://www.nytimes.com/2001/07/14/us/public-lives-ex-congressman-fights-the-hand-that-overfeeds-him.html',\n",
        " u'http://www.nytimes.com/2006/02/04/politics/04cong.html',\n",
        " u'http://www.nytimes.com/2008/03/31/us/31papal.html',\n",
        " u'http://www.nytimes.com/2002/02/17/weekinreview/money-talks-don-t-discount-the-fat-cats.html',\n",
        " u'http://www.nytimes.com/2006/03/12/magazine/312midterm1_.1.html',\n",
        " u'http://www.nytimes.com/2011/09/06/us/06berkley.html',\n",
        " u'http://www.nytimes.com/2006/08/06/washington/06wilkes.html',\n",
        " u'http://www.nytimes.com/2006/10/01/washington/01memo.html',\n",
        " u'http://www.nytimes.com/2004/01/13/business/changes-at-kpmg-after-criticism-of-its-tax-shelters.html',\n",
        " u'http://query.nytimes.com/gst/fullpage.html?sec=health&res=9A0DE3DC1430F935A35756C0A9639C8B63',\n",
        " u'http://www.nytimes.com/2002/02/10/business/how-will-washington-read-the-signs-safeguards-for-401-k-s.html',\n",
        " u'http://www.nytimes.com/2008/11/05/us/politics/05house.html',\n",
        " u'http://www.nytimes.com/2002/07/29/opinion/a-failure-of-democracy-not-capitalism.html',\n",
        " u'http://www.nytimes.com/2003/10/02/business/with-time-short-boeing-and-air-force-push-tanker-deal.html',\n",
        " u'http://www.nytimes.com/2001/10/06/us/mike-mansfield-longtime-leader-of-senate-democrats-dies-at-98.html',\n",
        " u'http://www.nytimes.com/2010/08/13/us/politics/13spend.html',\n",
        " u'http://www.nytimes.com/2002/03/13/us/redistricting-2002-produces-no-great-shake-ups.html',\n",
        " u'http://www.nytimes.com/2002/10/12/us/l-h-fountain-89-lawmaker-who-led-60-s-fraud-inquiry.html',\n",
        " u'http://www.nytimes.com/2002/12/22/us/divisive-words-the-successor-new-challenge-for-a-surgeon-turned-senator.html',\n",
        " u'http://www.nytimes.com/2008/06/15/us/politics/15pows.html',\n",
        " u'http://www.nytimes.com/2006/10/09/washington/09foley.html',\n",
        " u'http://www.nytimes.com/2008/11/15/business/15nocera.html',\n",
        " u'http://www.nytimes.com/2006/08/06/us/06ohio.html',\n",
        " u'http://www.nytimes.com/2002/06/27/business/turmoil-worldcom-legislation-latest-scandal-lifts-prospects-for-measures-tighten.html',\n",
        " u'http://www.nytimes.com/2007/10/30/opinion/30tues4.html',\n",
        " u'http://www.nytimes.com/2001/03/19/us/mccain-sees-amendments-playing-big-role-in-campaign-bill.html',\n",
        " u'http://www.nytimes.com/2003/08/14/us/senators-want-to-block-spending-on-terrorist-initiatives.html',\n",
        " u'http://www.nytimes.com/2001/01/24/us/new-administration-excerpt-bush-statement-announcing-start-his-education.html',\n",
        " u'http://www.nytimes.com/2007/01/03/opinion/03niskanen.html',\n",
        " u'http://www.nytimes.com/2007/01/26/opinion/26fri2.html',\n",
        " u'http://www.nytimes.com/2006/10/08/washington/08culture.html',\n",
        " u'http://query.nytimes.com/gst/fullpage.html?res=9806EFDD143FF935A15753C1A9609C8B63',\n",
        " u'http://www.nytimes.com/2000/05/20/world/solitary-republican-senator-blocks-peacekeeping-funds.html',\n",
        " u'http://www.nytimes.com/2006/10/15/us/politics/15base.html',\n",
        " u'http://www.nytimes.com/2003/04/20/us/fbi-spy-case-highlights-problem-with-informants.html',\n",
        " u'http://query.nytimes.com/gst/fullpage.html?res=9C02E3DF1531F931A25751C1A9609C8B63',\n",
        " u'http://query.nytimes.com/gst/fullpage.html?res=9C02E7DA1E31F93AA25751C1A9629C8B63',\n",
        " u'http://www.nytimes.com/2001/06/26/us/supreme-court-campaign-money-justices-uphold-curbs-coordinated-political.html',\n",
        " u'http://www.nytimes.com/2007/05/04/opinion/04fri4.html',\n",
        " u'http://www.nytimes.com/2002/02/11/us/fearing-limits-on-soft-money-parties-fill-coffers.html',\n",
        " u'http://www.nytimes.com/2002/06/16/business/bush-doctrine-lock-em-up.html',\n",
        " u'http://www.nytimes.com/2007/01/24/us/politics/24corruption.html',\n",
        " u'http://www.nytimes.com/2002/02/14/us/campaign-finance-excerpts-house-debate-shays-meehan-campaign-finance-bill.html',\n",
        " u'http://www.nytimes.com/2003/06/16/opinion/regulate-the-fcc.html',\n",
        " u'http://www.nytimes.com/2007/04/28/opinion/28mann.html',\n",
        " u'http://www.nytimes.com/2003/06/05/opinion/the-poor-held-hostage-for-tax-cuts.html',\n",
        " u'http://www.nytimes.com/2001/06/26/us/congressman-s-silence-tests-district-s-loyalty.html',\n",
        " u'http://www.nytimes.com/2007/09/06/us/06craig.html',\n",
        " u'http://query.nytimes.com/gst/fullpage.html?res=9C02E3D8123FF934A2575BC0A9619C8B63',\n",
        " u'http://www.nytimes.com/2003/10/16/business/france-backs-off-deal-to-settle-bank-case.html',\n",
        " u'http://www.nytimes.com/2007/09/23/opinion/23rich.html',\n",
        " u'http://www.nytimes.com/2006/11/19/magazine/19wwln_lede.html',\n",
        " u'http://query.nytimes.com/gst/fullpage.html?res=9D0DE5DE1131F935A25755C0A9609C8B63',\n",
        " u'http://www.nytimes.com/2000/01/27/us/white-house-memo-time-again-for-clinton-s-reinvention.html',\n",
        " u'http://www.nytimes.com/2002/07/14/business/private-sector-a-point-man-on-corporate-change.html',\n",
        " u'http://www.nytimes.com/2002/01/24/business/enron-s-collapse-regulation-audit-changes-are-facing-major-hurdles.html',\n",
        " u'http://query.nytimes.com/gst/fullpage.html?res=9907E2DF163EF931A25752C1A9609C8B63',\n",
        " u'http://www.nytimes.com/2006/11/08/us/politics/08mood.html',\n",
        " u'http://www.nytimes.com/2006/10/08/us/politics/08labor.html',\n",
        " u'http://query.nytimes.com/gst/fullpage.html?res=9905E6DF1339F93AA35754C0A9669D8B63',\n",
        " u'http://www.nytimes.com/2006/05/04/washington/04lobby.html',\n",
        " u'http://www.nytimes.com/2006/10/12/us/politics/12bush.html',\n",
        " u'http://www.nytimes.com/2004/03/18/us/mysterious-fax-adds-to-intrigue-over-drug-bill.html',\n",
        " u'http://www.nytimes.com/2011/06/08/opinion/08dowd.html',\n",
        " u'http://www.nytimes.com/2000/06/09/us/senate-approves-step-to-overhaul-campaign-finance.html',\n",
        " u'http://www.nytimes.com/2011/06/07/opinion/07tue3.html',\n",
        " u'http://www.nytimes.com/2005/11/30/opinion/30wed4.html',\n",
        " u'http://www.nytimes.com/2002/02/13/us/free-speech-and-enron-play-in-debate-over-soft-money.html',\n",
        " u'http://www.nytimes.com/2000/09/05/us/in-a-lobby-happy-washington-politics-can-be-even-thicker-than-blood.html',\n",
        " u'http://www.nytimes.com/2002/07/20/business/tighter-rules-for-options-fall-victim-to-lobbying.html',\n",
        " u'http://www.nytimes.com/2002/11/06/us/the-2002-elections-the-governor-races-gop-may-retain-its-lead-in-statehouses.html',\n",
        " u'http://www.nytimes.com/2013/01/13/us/old-foes-lead-charge-against-chuck-hagel.html',\n",
        " u'http://www.nytimes.com/2007/09/28/washington/28boat.html',\n",
        " u'http://www.nytimes.com/2003/06/11/business/irate-members-of-congress-talk-of-inquiries-into-freddie-mac.html',\n",
        " u'http://www.nytimes.com/2000/06/28/us/reno-defends-her-decision-on-inquiry-of-campaign.html',\n",
        " u'http://www.nytimes.com/2007/08/07/washington/07lobby.html',\n",
        " u'http://www.nytimes.com/2007/08/28/world/middleeast/28military.html',\n",
        " u'http://www.nytimes.com/2004/04/02/business/panel-approves-mortgage-company-bill.html',\n",
        " u'http://query.nytimes.com/gst/fullpage.html?res=9C05E2D8143FF93AA15753C1A9609C8B63',\n",
        " u'http://query.nytimes.com/gst/fullpage.html?res=9C07E6D81630F936A15755C0A9609C8B63',\n",
        " u'http://www.nytimes.com/2006/04/01/washington/01lobby.html',\n",
        " u'http://www.nytimes.com/2004/05/19/world/the-struggle-for-iraq-congress-gop-split-over-inquiry-on-prisoner-abuse.html',\n",
        " u'http://www.nytimes.com/2003/08/10/us/a-record-built-on-world-affairs-and-inquiries-not-bills.html',\n",
        " u'http://www.nytimes.com/2003/10/05/us/debating-leak-former-diplomat-adviser-bush-s-father-redefines-himself-wary.html',\n",
        " u'http://www.nytimes.com/2002/02/14/us/campaign-finance-the-context-a-bid-to-change-an-uncertain-future.html',\n",
        " u'http://www.nytimes.com/2000/12/26/us/a-war-on-poverty-subtly-linked-to-race.html',\n",
        " u'http://www.nytimes.com/2006/10/20/us/politics/20conserve.html',\n",
        " u'http://query.nytimes.com/gst/fullpage.html?res=9C01EFDB1230F934A35753C1A9609C8B63',\n",
        " u'http://www.nytimes.com/2006/10/02/washington/02murtha.html',\n",
        " u'http://www.nytimes.com/2006/03/28/politics/28google.html',\n",
        " u'http://www.nytimes.com/2002/07/16/business/corporate-conduct-the-overview-senate-approves-a-broad-overhaul-of-business-laws.html',\n",
        " u'http://www.nytimes.com/2006/10/23/us/politics/23bush.html',\n",
        " u'http://www.nytimes.com/2007/01/19/washington/19repubs.html',\n",
        " u'http://www.nytimes.com/2006/10/01/weekinreview/01leib.html',\n",
        " u'http://www.nytimes.com/2008/06/11/nyregion/11fbi.html',\n",
        " u'http://www.nytimes.com/2006/02/05/weekinreview/05kornblut.html',\n",
        " u'http://www.nytimes.com/2007/02/17/washington/17assess.html',\n",
        " u'http://www.nytimes.com/2006/11/03/us/politics/03corrupt.html',\n",
        " u'http://www.nytimes.com/2006/11/08/us/08elect-paper.html',\n",
        " u'http://www.nytimes.com/2003/01/19/magazine/memo-to-the-democrats-quit-being-losers.html',\n",
        " u'http://www.nytimes.com/2008/10/12/washington/12missile.html',\n",
        " u'http://www.nytimes.com/2007/04/15/magazine/15wwlnlede.t.html',\n",
        " u'http://query.nytimes.com/gst/fullpage.html?res=9C05E3D81E3EF934A15751C0A9619C8B63',\n",
        " u'http://query.nytimes.com/gst/fullpage.html?res=9507E4DC1E3FF93BA35752C1A9609C8B63',\n",
        " u'http://query.nytimes.com/gst/fullpage.html?res=9D0CE2DB133DF93AA25757C0A9669D8B63',\n",
        " u'http://www.nytimes.com/2006/10/03/us/03foley.html',\n",
        " u'http://www.nytimes.com/2009/03/09/opinion/09mon3.html']"
       ]
      }
     ],
     "prompt_number": 225
    },
    {
     "cell_type": "code",
     "collapsed": false,
     "input": [
      "len(raw)"
     ],
     "language": "python",
     "metadata": {},
     "outputs": [
      {
       "output_type": "pyout",
       "prompt_number": 7,
       "text": [
        "874"
       ]
      }
     ],
     "prompt_number": 7
    },
    {
     "cell_type": "code",
     "collapsed": false,
     "input": [
      "texts = [format(doc['text']) for doc in raw]\n",
      "#opinions = [format(doc['text']) for doc in raw if '/opinion/' in doc['url']]\n",
      "#articles = [format(doc['text']) for doc in raw if '/opinion/' not in doc['url']]"
     ],
     "language": "python",
     "metadata": {},
     "outputs": [],
     "prompt_number": 8
    },
    {
     "cell_type": "raw",
     "metadata": {},
     "source": [
      "articles[0]"
     ]
    },
    {
     "cell_type": "code",
     "collapsed": false,
     "input": [
      "dmap = lambda dct, a: [dct[e] for e in a]"
     ],
     "language": "python",
     "metadata": {},
     "outputs": [],
     "prompt_number": 9
    },
    {
     "cell_type": "code",
     "collapsed": false,
     "input": [
      "dictionary = corpora.Dictionary(texts)\n",
      "#odictionary = corpora.Dictionary(opinions)\n",
      "#adictionary = corpora.Dictionary(articles)"
     ],
     "language": "python",
     "metadata": {},
     "outputs": [],
     "prompt_number": 10
    },
    {
     "cell_type": "raw",
     "metadata": {},
     "source": [
      "dols = sorted(dictionary.token2id)[-20:]\n",
      "dols"
     ]
    },
    {
     "cell_type": "code",
     "collapsed": false,
     "input": [
      "corpus = [dictionary.doc2bow(text) for text in texts]\n",
      "#ocorpus = [odictionary.doc2bow(text) for text in opinions]\n",
      "#acorpus = [adictionary.doc2bow(text) for text in articles]"
     ],
     "language": "python",
     "metadata": {},
     "outputs": [],
     "prompt_number": 11
    },
    {
     "cell_type": "code",
     "collapsed": false,
     "input": [
      "tfidf = models.TfidfModel(corpus)\n",
      "#otfidf = models.TfidfModel(ocorpus)\n",
      "#atfidf = models.TfidfModel(acorpus)"
     ],
     "language": "python",
     "metadata": {},
     "outputs": [],
     "prompt_number": 12
    },
    {
     "cell_type": "raw",
     "metadata": {},
     "source": [
      "#Common words, count vs tfidf\n",
      "sorted([(dictionary[w], ct) for w, ct in tfidf[corpus[0]]], key=itemgetter(1), reverse=1)\n",
      "sorted([(dictionary[w], ct) for w, ct in corpus[0]], key=itemgetter(1), reverse=1)"
     ]
    },
    {
     "cell_type": "code",
     "collapsed": false,
     "input": [
      "tcorpus = dmap(tfidf, corpus)\n",
      "#otcorpus = dmap(otfidf, ocorpus)\n",
      "#atcorpus = dmap(atfidf, acorpus)"
     ],
     "language": "python",
     "metadata": {},
     "outputs": [],
     "prompt_number": 13
    },
    {
     "cell_type": "code",
     "collapsed": false,
     "input": [
      "lda = gensim.models.ldamodel.LdaModel(corpus=tcorpus, id2word=dictionary, num_topics=15, update_every=0, passes=20)"
     ],
     "language": "python",
     "metadata": {},
     "outputs": [],
     "prompt_number": 14
    },
    {
     "cell_type": "raw",
     "metadata": {},
     "source": [
      "olda = gensim.models.ldamodel.LdaModel(corpus=otcorpus, id2word=odictionary, num_topics=15, update_every=0, passes=20)"
     ]
    },
    {
     "cell_type": "raw",
     "metadata": {},
     "source": [
      "alda = gensim.models.ldamodel.LdaModel(corpus=atcorpus, id2word=adictionary, num_topics=15, update_every=0, passes=20)"
     ]
    },
    {
     "cell_type": "code",
     "collapsed": false,
     "input": [
      "np.random.randint(len(raw), size=3)# (raw, replace=0)"
     ],
     "language": "python",
     "metadata": {},
     "outputs": [
      {
       "output_type": "pyout",
       "prompt_number": 285,
       "text": [
        "array([162, 120, 336])"
       ]
      }
     ],
     "prompt_number": 285
    },
    {
     "cell_type": "code",
     "collapsed": false,
     "input": [],
     "language": "python",
     "metadata": {},
     "outputs": [],
     "prompt_number": 26
    },
    {
     "cell_type": "code",
     "collapsed": false,
     "input": [
      "d = raw[0]['date']\n",
      "print d\n",
      "datef = lambda d: dt.datetime.strptime(d, '%Y%m%d').strftime('%b %Y')"
     ],
     "language": "python",
     "metadata": {},
     "outputs": [
      {
       "output_type": "stream",
       "stream": "stdout",
       "text": [
        "20070815\n"
       ]
      }
     ],
     "prompt_number": 301
    },
    {
     "cell_type": "code",
     "collapsed": false,
     "input": [
      "all(map(itemgetter('text'), raw))"
     ],
     "language": "python",
     "metadata": {},
     "outputs": [
      {
       "output_type": "pyout",
       "prompt_number": 20,
       "text": [
        "True"
       ]
      }
     ],
     "prompt_number": 20
    },
    {
     "cell_type": "code",
     "collapsed": false,
     "input": [
      "topic_data = []\n",
      "randi = np.random.randint(len(raw), size=3)\n",
      "for mod in (lda,):# olda, alda:\n",
      "    topic_list = [[w for _, w in tups] for tups in mod.show_topics(formatted=0, topn=15, topics=None)]\n",
      "    for tit, _text, date in map(itemgetter(u'title', 'text', 'date'), (raw[i] for i in randi)):\n",
      "        text = format(_text)\n",
      "        #date = datef(_date)\n",
      "        #date = dt.datetime.strptime(_date, '%Y%m%d')\n",
      " #       print date, '--', tit\n",
      "        \n",
      "         # [format(doc['text']) for doc in raw]\n",
      "        #print mod[tcorpus[0]]\n",
      "    #    print ' '.join(texts[0])\n",
      "        _srtd = sorted(mod[dictionary.doc2bow(text)], key=itemgetter(1), reverse=1)[:2]\n",
      "        top, score = _srtd[-1]\n",
      "        topic_data.append((tit, date, top, score))\n",
      "#        print top, score\n",
      "       # continue\n",
      "        print tit, date\n",
      "        for top, score in sorted(mod[dictionary.doc2bow(text)], key=itemgetter(1), reverse=1):\n",
      "            #if top == 11: continue\n",
      "            print top, '%.2f' % score, ', '.join(topic_list[top])\n",
      "        print"
     ],
     "language": "python",
     "metadata": {},
     "outputs": [
      {
       "output_type": "stream",
       "stream": "stdout",
       "text": [
        "DETAINEE POLICY SHARPLY DIVIDES BUSH OFFICIALS 2005-11-02 00:00:00\n",
        "0 0.81 clinton, republicans, she, bill, democrats, money, <money>, gingrich, her, mr, foley, senator, bank, party, democratic\n",
        "3 0.11 gambling, wilkes, respondents, nussle, deconcini, babbitt, colbert, blacks, arlington, yang, conservatism, berry, afl, prohibited, drinking\n",
        "4 0.07 securities, meehan, gephardt, savings, investors, dole, loan, ney, gingrichs, amendments, murtha, commercials, veto, itself, wall\n",
        "\n",
        "Congress (Monica) Has Month (Monica) to Set Spending (Monica) 1998-09-01 00:00:00\n",
        "0 0.87 clinton, republicans, she, bill, democrats, money, <money>, gingrich, her, mr, foley, senator, bank, party, democratic\n",
        "11 0.08 rendell, fountain, contempt, coconut, mongolia, citigroup, aronoff, bryant, transaction, casey, shockey, bolten, bryants, cunninghams, estes\n",
        "4 0.05 securities, meehan, gephardt, savings, investors, dole, loan, ney, gingrichs, amendments, murtha, commercials, veto, itself, wall\n",
        "\n",
        "10 PLEAD GUILTY IN SPY RING CASE AS SWAP UNFOLDS 2010-07-09 00:00:00\n",
        "0 0.78 clinton, republicans, she, bill, democrats, money, <money>, gingrich, her, mr, foley, senator, bank, party, democratic\n",
        "6 0.15 heaton, womens, packwoods, ney, park, orphanages, charters, canady, mercer, labors, parks, russian, diary, berger, postal\n",
        "4 0.05 securities, meehan, gephardt, savings, investors, dole, loan, ney, gingrichs, amendments, murtha, commercials, veto, itself, wall\n",
        "3 0.02 gambling, wilkes, respondents, nussle, deconcini, babbitt, colbert, blacks, arlington, yang, conservatism, berry, afl, prohibited, drinking\n",
        "\n"
       ]
      }
     ],
     "prompt_number": 38
    },
    {
     "cell_type": "code",
     "collapsed": false,
     "input": [
      "_df = pd.DataFrame(topic_data, columns=['Title', 'Date', 'Topic', 'Score'])\n",
      "df = _df.set_index('Date').sort_index()#.head()"
     ],
     "language": "python",
     "metadata": {},
     "outputs": [],
     "prompt_number": 39
    },
    {
     "cell_type": "code",
     "collapsed": false,
     "input": [
      "df"
     ],
     "language": "python",
     "metadata": {},
     "outputs": [
      {
       "output_type": "pyout",
       "prompt_number": 40,
       "text": [
        "                                                        Title  Topic     Score\n",
        "Date                                                                          \n",
        "1998-09-01  Congress (Monica) Has Month (Monica) to Set Sp...     11  0.076210\n",
        "2005-11-02     DETAINEE POLICY SHARPLY DIVIDES BUSH OFFICIALS      3  0.109348\n",
        "2010-07-09   10 PLEAD GUILTY IN SPY RING CASE AS SWAP UNFOLDS      6  0.154728"
       ]
      }
     ],
     "prompt_number": 40
    },
    {
     "cell_type": "code",
     "collapsed": false,
     "input": [
      "df.Topic.hist()"
     ],
     "language": "python",
     "metadata": {},
     "outputs": [
      {
       "output_type": "pyout",
       "prompt_number": 329,
       "text": [
        "<matplotlib.axes.AxesSubplot at 0x111219450>"
       ]
      },
      {
       "output_type": "display_data",
       "png": "[encoded data removed]",
       "text": [
        "<matplotlib.figure.Figure at 0x111219d90>"
       ]
      }
     ],
     "prompt_number": 329
    },
    {
     "cell_type": "code",
     "collapsed": false,
     "input": [
      "for mod in lda, olda, alda:\n",
      "    #print mod[tcorpus[0]]\n",
      "#    print ' '.join(texts[0])\n",
      "    topic_list = [[w for _, w in tups] for tups in mod.show_topics(formatted=0, topn=15, topics=None)]\n",
      "    for top, score in sorted(mod[tcorpus[0]], key=itemgetter(1), reverse=1):\n",
      "        print top, ', '.join(topic_list[top])\n",
      "    print"
     ],
     "language": "python",
     "metadata": {},
     "outputs": [
      {
       "output_type": "stream",
       "stream": "stdout",
       "text": [
        "11 --, bill, mr, democrats, said, republicans, hastert, money, senate, she, enron, party, voters, lawmakers, her\n",
        "2 blunt, nussle, wilson, colombia, engelbrecht, uribe, mutual, freddie, mac, receivership, kelley, lieberman, intensity, constitutes, troop\n",
        "3 lobbying, ney, lobbyists, murtha, lobbyist, earmarks, cunningham, drug, letter, hoyer, projects, terrorism, service, opponent, jack\n",
        "4 foley, bush, abramoff, craig, accounting, delay, seats, stock, foleys, race, leadership, bushs, commission, races, ohio\n",
        "\n",
        "4 mccain, lobbying, concerns, ceiling, soft-money, intent, scanlon, harris, thesis, hill, earmarked, gauge, hard, jets, hispanic\n",
        "14 he, his, ethics, mr, money, campaign, lawmakers, --, reform, senate, bill, house, office, bush, <money>\n",
        "\n",
        "4"
       ]
      },
      {
       "output_type": "stream",
       "stream": "stdout",
       "text": [
        " foley, --, bill, democrats, hastert, republicans, she, money, senate, voters, soft, mr, bush, measure, her\n",
        "6 conservatives, troops, projects, oversight, moderate, cuts, fact, schumer, immigration, research, internet, kind, thought, media, frank\n",
        "13 abramoff, delay, lobbying, ney, craig, conservative, boehner, justice, gay, know, judge, report, guilty, term, congressman\n",
        "\n"
       ]
      }
     ],
     "prompt_number": 267
    },
    {
     "cell_type": "code",
     "collapsed": false,
     "input": [
      "for mod in lda, olda, alda:\n",
      "    #print mod[tcorpus[0]]\n",
      "#    print ' '.join(texts[0])\n",
      "    topic_list = [[w for _, w in tups] for tups in mod.show_topics(formatted=0, topn=15, topics=None)]\n",
      "    for top, score in sorted(mod[corpus[0]], key=itemgetter(1), reverse=1):\n",
      "        print top, ', '.join(topic_list[top])\n",
      "    print"
     ],
     "language": "python",
     "metadata": {},
     "outputs": [
      {
       "output_type": "stream",
       "stream": "stdout",
       "text": [
        "11 --, bill, mr, democrats, said, republicans, hastert, money, senate, she, enron, party, voters, lawmakers, her\n",
        "2 blunt, nussle, wilson, colombia, engelbrecht, uribe, mutual, freddie, mac, receivership, kelley, lieberman, intensity, constitutes, troop\n",
        "3 lobbying, ney, lobbyists, murtha, lobbyist, earmarks, cunningham, drug, letter, hoyer, projects, terrorism, service, opponent, jack\n",
        "4 foley, bush, abramoff, craig, accounting, delay, seats, stock, foleys, race, leadership, bushs, commission, races, ohio\n",
        "\n",
        "14 he, his, ethics, mr, money, campaign, lawmakers, --, reform, senate, bill, house, office, bush, <money>\n",
        "4 mccain, lobbying, concerns, ceiling, soft-money, intent, scanlon, harris, thesis, hill, earmarked, gauge, hard, jets, hispanic\n",
        "\n",
        "4"
       ]
      },
      {
       "output_type": "stream",
       "stream": "stdout",
       "text": [
        " foley, --, bill, democrats, hastert, republicans, she, money, senate, voters, soft, mr, bush, measure, her\n",
        "6 conservatives, troops, projects, oversight, moderate, cuts, fact, schumer, immigration, research, internet, kind, thought, media, frank\n",
        "13 abramoff, delay, lobbying, ney, craig, conservative, boehner, justice, gay, know, judge, report, guilty, term, congressman\n",
        "\n"
       ]
      }
     ],
     "prompt_number": 268
    },
    {
     "cell_type": "code",
     "collapsed": false,
     "input": [
      "[topic_list[i] for i in (2, 3, 4, 11)]"
     ],
     "language": "python",
     "metadata": {},
     "outputs": [
      {
       "output_type": "pyout",
       "prompt_number": 250,
       "text": [
        "[[u'blunt',\n",
        "  u'nussle',\n",
        "  u'wilson',\n",
        "  u'colombia',\n",
        "  u'engelbrecht',\n",
        "  u'uribe',\n",
        "  u'mutual',\n",
        "  u'freddie',\n",
        "  u'mac',\n",
        "  u'receivership',\n",
        "  u'kelley',\n",
        "  u'lieberman',\n",
        "  u'intensity',\n",
        "  u'constitutes',\n",
        "  u'troop'],\n",
        " [u'lobbying',\n",
        "  u'ney',\n",
        "  u'lobbyists',\n",
        "  u'murtha',\n",
        "  u'lobbyist',\n",
        "  u'earmarks',\n",
        "  u'cunningham',\n",
        "  u'drug',\n",
        "  u'letter',\n",
        "  u'hoyer',\n",
        "  u'projects',\n",
        "  u'terrorism',\n",
        "  u'service',\n",
        "  u'opponent',\n",
        "  u'jack'],\n",
        " [u'foley',\n",
        "  u'bush',\n",
        "  u'abramoff',\n",
        "  u'craig',\n",
        "  u'accounting',\n",
        "  u'delay',\n",
        "  u'seats',\n",
        "  u'stock',\n",
        "  u'foleys',\n",
        "  u'race',\n",
        "  u'leadership',\n",
        "  u'bushs',\n",
        "  u'commission',\n",
        "  u'races',\n",
        "  u'ohio'],\n",
        " [u'--',\n",
        "  u'bill',\n",
        "  u'mr',\n",
        "  u'democrats',\n",
        "  u'said',\n",
        "  u'republicans',\n",
        "  u'hastert',\n",
        "  u'money',\n",
        "  u'senate',\n",
        "  u'she',\n",
        "  u'enron',\n",
        "  u'party',\n",
        "  u'voters',\n",
        "  u'lawmakers',\n",
        "  u'her']]"
       ]
      }
     ],
     "prompt_number": 250
    },
    {
     "cell_type": "code",
     "collapsed": false,
     "input": [
      "hdp = gensim.models.hdpmodel.HdpModel(corpus=tcorpus, id2word=dictionary, outputdir=)"
     ],
     "language": "python",
     "metadata": {},
     "outputs": [],
     "prompt_number": 189
    },
    {
     "cell_type": "code",
     "collapsed": false,
     "input": [
      "hdp.outputdir = '/Users/beard/Dropbox/Engineering/data/nyt-nlp'"
     ],
     "language": "python",
     "metadata": {},
     "outputs": [],
     "prompt_number": 194
    },
    {
     "cell_type": "code",
     "collapsed": false,
     "input": [
      "_p = hdp.print_topics(topics=20, topn=10)\n",
      "!ls"
     ],
     "language": "python",
     "metadata": {},
     "outputs": [
      {
       "output_type": "stream",
       "stream": "stdout",
       "text": [
        "dbi.pickle       hdp              nyt-nlp.ipynb    nyt-nlp.py       nyt-scrape.ipynb nyt-scrape.py\r\n"
       ]
      }
     ],
     "prompt_number": 199
    },
    {
     "cell_type": "code",
     "collapsed": false,
     "input": [],
     "language": "python",
     "metadata": {},
     "outputs": [],
     "prompt_number": 204
    },
    {
     "cell_type": "code",
     "collapsed": false,
     "input": [
      "#http://comments.gmane.org/gmane.comp.ai.gensim/1572\n",
      "alpha, beta = hdp.hdp_to_lda()\n",
      "hda = gensim.models.LdaModel(id2word=hdp.id2word, num_topics=len(alpha), alpha=alpha, eta=hdp.m_eta)\n",
      "hda.expElogbeta = numpy.array(beta, dtype=numpy.float32)"
     ],
     "language": "python",
     "metadata": {},
     "outputs": [],
     "prompt_number": 206
    },
    {
     "cell_type": "code",
     "collapsed": false,
     "input": [
      "hda.show_topics(formatted=0)"
     ],
     "language": "python",
     "metadata": {},
     "outputs": [
      {
       "output_type": "pyout",
       "prompt_number": 210,
       "text": [
        "[[(6.5179359942149905e-05, u'criminals'),\n",
        "  (6.4198127708593278e-05, u'strikes'),\n",
        "  (6.4099183874025608e-05, u'movie'),\n",
        "  (6.39168384604682e-05, u'brazenly'),\n",
        "  (6.3615813767004472e-05, u'am'),\n",
        "  (6.3521816474624771e-05, u'adolescent'),\n",
        "  (6.3492361141958265e-05, u'bequeath'),\n",
        "  (6.3437643138297063e-05, u'unsinkable'),\n",
        "  (6.3434058408610782e-05, u'vodka'),\n",
        "  (6.3131877228378102e-05, u'lay')],\n",
        " [(7.0735010734490302e-05, u'paving'),\n",
        "  (6.7540854436292099e-05, u'compete'),\n",
        "  (6.6092372854936748e-05, u'matching'),\n",
        "  (6.6070766766640045e-05, u'fund'),\n",
        "  (6.5994159400389052e-05, u'roskams'),\n",
        "  (6.5556202609904474e-05, u'canon'),\n",
        "  (6.5537990059446461e-05, u'ever-shifting'),\n",
        "  (6.5469013808721181e-05, u'morrisey'),\n",
        "  (6.5173460927183798e-05, u'populists'),\n",
        "  (6.4936867732714028e-05, u'residential')],\n",
        " [(6.4907693828349192e-05, u'mismanaging'),\n",
        "  (6.4521945968464288e-05, u'scientist'),\n",
        "  (6.4493392024413685e-05, u'operates'),\n",
        "  (6.3840960355609488e-05, u'falsified'),\n",
        "  (6.3707195135766112e-05, u'intervening'),\n",
        "  (6.3402606418455084e-05, u'upshot'),\n",
        "  (6.3285154555482129e-05, u'moussaouis'),\n",
        "  (6.327326175608236e-05, u'farming'),\n",
        "  (6.3119619301983681e-05, u'childers'),\n",
        "  (6.3118406265512959e-05, u'manufacture')],\n",
        " [(6.9335557454530832e-05, u'inspector'),\n",
        "  (6.743450079149015e-05, u'scarborough'),\n",
        "  (6.6428205001107759e-05, u'underreacted'),\n",
        "  (6.5847227145125959e-05, u'reconstruction'),\n",
        "  (6.3657898867404165e-05, u'gay-baiting'),\n",
        "  (6.3474326750817317e-05, u'posse'),\n",
        "  (6.3450107173110255e-05, u'revelation'),\n",
        "  (6.3094960582854974e-05, u'dukakiss'),\n",
        "  (6.2863296200798966e-05, u'overlook'),\n",
        "  (6.2830328240156592e-05, u'subgroups')],\n",
        " [(6.8861699023952197e-05, u'oversaw'),\n",
        "  (6.8771492557905239e-05, u'johnson'),\n",
        "  (6.8316573760974957e-05, u'disagreement'),\n",
        "  (6.8126215269262639e-05, u'building'),\n",
        "  (6.6355630809577056e-05, u'contained'),\n",
        "  (6.5611513475765155e-05, u'functions'),\n",
        "  (6.5474537806928782e-05, u'drove'),\n",
        "  (6.4324560576263119e-05, u'condition'),\n",
        "  (6.3848727731867012e-05, u'legitimize'),\n",
        "  (6.376248281604202e-05, u'discipline')],\n",
        " [(6.9810500457025739e-05, u'pants'),\n",
        "  (6.6742294811085123e-05, u'latinos'),\n",
        "  (6.5613971490570712e-05, u'valid'),\n",
        "  (6.4754031932240472e-05, u'function'),\n",
        "  (6.4421138359652876e-05, u'grown-ups'),\n",
        "  (6.430897367601851e-05, u'void'),\n",
        "  (6.3947321436735982e-05, u'initiative'),\n",
        "  (6.3632138203140301e-05, u'faster'),\n",
        "  (6.3454885668288931e-05, u'state-level'),\n",
        "  (6.339232559068971e-05, u'commentaries')],\n",
        " [(6.5728564985178113e-05, u'groves'),\n",
        "  (6.5631577309619186e-05, u'sites'),\n",
        "  (6.5278774885135489e-05, u'wield'),\n",
        "  (6.5078725435261466e-05, u'feisty'),\n",
        "  (6.4872521472741546e-05, u'fertilizer'),\n",
        "  (6.4645091406895604e-05, u'feast'),\n",
        "  (6.4437989134896745e-05, u'rent-a-lawmaker'),\n",
        "  (6.4423192110096185e-05, u'louis'),\n",
        "  (6.4248242283986573e-05, u'slang'),\n",
        "  (6.4144989160001684e-05, u'amherst')],\n",
        " [(6.7315589029400534e-05, u'contended'),\n",
        "  (6.631622168032898e-05, u'yoders'),\n",
        "  (6.625811917755872e-05, u'kyrillos'),\n",
        "  (6.5123785375769999e-05, u'enjoy'),\n",
        "  (6.4874546614709851e-05, u'controlling'),\n",
        "  (6.441303820833383e-05, u'flottmans'),\n",
        "  (6.432517415083872e-05, u'technically'),\n",
        "  (6.4084843585103862e-05, u'devenish'),\n",
        "  (6.4066197365254083e-05, u'teenagers'),\n",
        "  (6.3455689530106686e-05, u'dyer')],\n",
        " [(6.7039017040476784e-05, u'pataki'),\n",
        "  (6.4633936678389246e-05, u'studious'),\n",
        "  (6.4566144010385571e-05, u'promise'),\n",
        "  (6.4545450641553424e-05, u'communicating'),\n",
        "  (6.426372215264483e-05, u'painfully'),\n",
        "  (6.4105649443033392e-05, u'warrants'),\n",
        "  (6.4017979267156101e-05, u'jolt'),\n",
        "  (6.3825450948899254e-05, u'projection'),\n",
        "  (6.3802259153808422e-05, u'tipps'),\n",
        "  (6.3549194374205029e-05, u'clique')],\n",
        " [(6.7893899775489503e-05, u'dark'),\n",
        "  (6.6980339719371069e-05, u'sadly'),\n",
        "  (6.5338877958467175e-05, u'lord'),\n",
        "  (6.5005115524225459e-05, u'racy'),\n",
        "  (6.4887470733646538e-05, u'incarceration'),\n",
        "  (6.4733331724633268e-05, u'outdanced'),\n",
        "  (6.4690899504269916e-05, u'lest'),\n",
        "  (6.4444708187603037e-05, u'anarchy'),\n",
        "  (6.4213065308777378e-05, u'aluminum'),\n",
        "  (6.3881544073162873e-05, u'maura')]]"
       ]
      }
     ],
     "prompt_number": 210
    },
    {
     "cell_type": "code",
     "collapsed": false,
     "input": [
      "models.hdpmodel?"
     ],
     "language": "python",
     "metadata": {},
     "outputs": [],
     "prompt_number": 183
    },
    {
     "cell_type": "code",
     "collapsed": false,
     "input": [
      "ls \"/tmp\""
     ],
     "language": "python",
     "metadata": {},
     "outputs": [
      {
       "output_type": "stream",
       "stream": "stdout",
       "text": [
        "\u001b[35m/tmp\u001b[m\u001b[m@\r\n"
       ]
      }
     ],
     "prompt_number": 179
    },
    {
     "cell_type": "code",
     "collapsed": false,
     "input": [
      "model.outputdir = '.'"
     ],
     "language": "python",
     "metadata": {},
     "outputs": [],
     "prompt_number": 180
    },
    {
     "cell_type": "code",
     "collapsed": false,
     "input": [
      "model.print_topics()"
     ],
     "language": "python",
     "metadata": {},
     "outputs": [],
     "prompt_number": 181
    },
    {
     "cell_type": "code",
     "collapsed": false,
     "input": [
      "ldh = model.hdp_to_lda()"
     ],
     "language": "python",
     "metadata": {},
     "outputs": [],
     "prompt_number": 184
    },
    {
     "cell_type": "code",
     "collapsed": false,
     "input": [
      "pwd"
     ],
     "language": "python",
     "metadata": {},
     "outputs": [
      {
       "output_type": "pyout",
       "prompt_number": 188,
       "text": [
        "u'/Users/beard/Dropbox/Engineering/data/nyt-nlp'"
       ]
      }
     ],
     "prompt_number": 188
    },
    {
     "cell_type": "code",
     "collapsed": false,
     "input": [
      "model.save('hdp')"
     ],
     "language": "python",
     "metadata": {},
     "outputs": [],
     "prompt_number": 186
    },
    {
     "cell_type": "code",
     "collapsed": false,
     "input": [
      "lda.show_topics(formatted=0, topn=15)[0]"
     ],
     "language": "python",
     "metadata": {},
     "outputs": [
      {
       "output_type": "pyout",
       "prompt_number": 216,
       "text": [
        "[(0.00068639086738308034, u'mahoney'),\n",
        " (0.00062598583553119677, u'reed'),\n",
        " (0.00058520749906671051, u'incumbent'),\n",
        " (0.00054361149462769237, u'air'),\n",
        " (0.00052948241333760206, u'podesta'),\n",
        " (0.00052927794411479782, u'partnership'),\n",
        " (0.00047775697630372105, u'iraqi'),\n",
        " (0.00046624397274052314, u'exit'),\n",
        " (0.00043214380123207365, u'polls'),\n",
        " (0.00042863765103421774, u'frist'),\n",
        " (0.00040479009535276201, u'rhode'),\n",
        " (0.00037146466030410806, u'vacated'),\n",
        " (0.00036286190610381559, u'riechers'),\n",
        " (0.00034855725509748132, u'chafee'),\n",
        " (0.00034755991171390608, u'perot')]"
       ]
      }
     ],
     "prompt_number": 216
    },
    {
     "cell_type": "code",
     "collapsed": false,
     "input": [
      "pprint([map(itemgetter(1), tups) for tups in lda.show_topics(formatted=0, topn=15)])"
     ],
     "language": "python",
     "metadata": {},
     "outputs": [
      {
       "output_type": "stream",
       "stream": "stdout",
       "text": [
        "Pretty printing has been turned ON\n"
       ]
      }
     ],
     "prompt_number": 220
    },
    {
     "cell_type": "code",
     "collapsed": false,
     "input": [
      "[map(itemgetter(1), tups) for tups in lda.show_topics(formatted=0, topn=15)]"
     ],
     "language": "python",
     "metadata": {},
     "outputs": [
      {
       "output_type": "pyout",
       "prompt_number": 221,
       "text": [
        "[[u'mahoney',\n",
        "  u'reed',\n",
        "  u'incumbent',\n",
        "  u'air',\n",
        "  u'podesta',\n",
        "  u'partnership',\n",
        "  u'iraqi',\n",
        "  u'exit',\n",
        "  u'polls',\n",
        "  u'frist',\n",
        "  u'rhode',\n",
        "  u'vacated',\n",
        "  u'riechers',\n",
        "  u'chafee',\n",
        "  u'perot'],\n",
        " [u'wilkes',\n",
        "  u'cantrell',\n",
        "  u'fossella',\n",
        "  u'teamsters',\n",
        "  u'albaugh',\n",
        "  u'supervision',\n",
        "  u'grassroots',\n",
        "  u'transaction',\n",
        "  u'staten',\n",
        "  u'lowery',\n",
        "  u'orluskie',\n",
        "  u'legality',\n",
        "  u'citigroup',\n",
        "  u'fossellas',\n",
        "  u'norma'],\n",
        " [u'blunt',\n",
        "  u'nussle',\n",
        "  u'wilson',\n",
        "  u'colombia',\n",
        "  u'engelbrecht',\n",
        "  u'uribe',\n",
        "  u'mutual',\n",
        "  u'freddie',\n",
        "  u'mac',\n",
        "  u'receivership',\n",
        "  u'kelley',\n",
        "  u'lieberman',\n",
        "  u'intensity',\n",
        "  u'constitutes',\n",
        "  u'troop'],\n",
        " [u'lobbying',\n",
        "  u'ney',\n",
        "  u'lobbyists',\n",
        "  u'murtha',\n",
        "  u'lobbyist',\n",
        "  u'earmarks',\n",
        "  u'cunningham',\n",
        "  u'drug',\n",
        "  u'letter',\n",
        "  u'hoyer',\n",
        "  u'projects',\n",
        "  u'terrorism',\n",
        "  u'service',\n",
        "  u'opponent',\n",
        "  u'jack'],\n",
        " [u'foley',\n",
        "  u'bush',\n",
        "  u'abramoff',\n",
        "  u'craig',\n",
        "  u'accounting',\n",
        "  u'delay',\n",
        "  u'seats',\n",
        "  u'stock',\n",
        "  u'foleys',\n",
        "  u'race',\n",
        "  u'leadership',\n",
        "  u'bushs',\n",
        "  u'commission',\n",
        "  u'races',\n",
        "  u'ohio'],\n",
        " [u'snow',\n",
        "  u'shelters',\n",
        "  u'recession',\n",
        "  u'google',\n",
        "  u'visas',\n",
        "  u'weiner',\n",
        "  u'condit',\n",
        "  u'condits',\n",
        "  u'shelter',\n",
        "  u'roth',\n",
        "  u'aeneas',\n",
        "  u'internet',\n",
        "  u'retirements',\n",
        "  u'nominees',\n",
        "  u'abedin'],\n",
        " [u'golf',\n",
        "  u'chertoff',\n",
        "  u'magliocchetti',\n",
        "  u'county',\n",
        "  u'bachus',\n",
        "  u'frey',\n",
        "  u'pence',\n",
        "  u'golfing',\n",
        "  u'hedge',\n",
        "  u'pma',\n",
        "  u'proselytizing',\n",
        "  u'nassau',\n",
        "  u'secrets',\n",
        "  u'pellegrini',\n",
        "  u'grille'],\n",
        " [u'weiner',\n",
        "  u'fa-',\n",
        "  u'rural',\n",
        "  u'hagels',\n",
        "  u'high-technology',\n",
        "  u'trading',\n",
        "  u'donaldson',\n",
        "  u'respondents',\n",
        "  u'mutual',\n",
        "  u'da',\n",
        "  u'insider',\n",
        "  u'towns',\n",
        "  u'photographs',\n",
        "  u'lesbians',\n",
        "  u'difficulties'],\n",
        " [u'boeing',\n",
        "  u'gores',\n",
        "  u'poindexter',\n",
        "  u'wyden',\n",
        "  u'freddie',\n",
        "  u'admiral',\n",
        "  u'lease',\n",
        "  u'mac',\n",
        "  u'air',\n",
        "  u'martinez',\n",
        "  u'hosts',\n",
        "  u'russian',\n",
        "  u'deregulation',\n",
        "  u'planes',\n",
        "  u'awareness'],\n",
        " [u'castillo',\n",
        "  u'keith',\n",
        "  u'fantasy',\n",
        "  u'colas',\n",
        "  u'menendez',\n",
        "  u'professors',\n",
        "  u'dropout',\n",
        "  u'minow',\n",
        "  u'section',\n",
        "  u'cuadra',\n",
        "  u'stonewalling',\n",
        "  u'dominican',\n",
        "  u'dropouts',\n",
        "  u'noriega',\n",
        "  u'tankers']]"
       ]
      }
     ],
     "prompt_number": 221
    },
    {
     "cell_type": "code",
     "collapsed": false,
     "input": [
      "lda.numworkers"
     ],
     "language": "python",
     "metadata": {},
     "outputs": [
      {
       "output_type": "pyout",
       "prompt_number": 169,
       "text": [
        "1"
       ]
      }
     ],
     "prompt_number": 169
    },
    {
     "cell_type": "code",
     "collapsed": false,
     "input": [
      "lda.show_topics() #10 topics"
     ],
     "language": "python",
     "metadata": {},
     "outputs": [
      {
       "output_type": "pyout",
       "prompt_number": 166,
       "text": [
        "[u'0.000*governors + 0.000*redistricting + 0.000*tea + 0.000*turnout + 0.000*gop + 0.000*arlington + 0.000*harman + 0.000*grassroots + 0.000*romney + 0.000*rally',\n",
        " u'0.000*expelled + 0.000*chertoff + 0.000*cia + 0.000*albaugh + 0.000*confederate + 0.000*boeing + 0.000*wilkes + 0.000*poindexter + 0.000*yacht + 0.000*keith',\n",
        " u'0.000*vitter + 0.000*greenspan + 0.000*magliocchetti + 0.000*castillo + 0.000*hosts + 0.000*hagel + 0.000*hagels + 0.000*stedem + 0.000*pma + 0.000*dominican',\n",
        " u'0.001*fordham + 0.000*speakers + 0.000*kolbe + 0.000*schools + 0.000*charters + 0.000*kpmg + 0.000*shadegg + 0.000*students + 0.000*boeing + 0.000*alerted',\n",
        " u'0.000*ackerman + 0.000*heaton + 0.000*huvelle + 0.000*loan + 0.000*lauer + 0.000*lenders + 0.000*bjorklund + 0.000*scully + 0.000*flottman + 0.000*foster',\n",
        " u'0.000*mansfield + 0.000*fa- + 0.000*doolittle + 0.000*cranston + 0.000*rendell + 0.000*podesta + 0.000*supervision + 0.000*visas + 0.000*teamsters + 0.000*pope',\n",
        " u'0.000*colbert + 0.000*moynihan + 0.000*wilkes + 0.000*wal-mart + 0.000*cantrell + 0.000*mahoney + 0.000*lautenberg + 0.000*hampton + 0.000*heaton + 0.000*martinez',\n",
        " u'0.000*deregulation + 0.000*nussle + 0.000*crdit + 0.000*bachus + 0.000*french + 0.000*condits + 0.000*lyonnais + 0.000*informants + 0.000*professors + 0.000*pence',\n",
        " u'0.000*lautenberg + 0.000*google + 0.000*shelters + 0.000*transaction + 0.000*renzi + 0.000*oil-for-food + 0.000*kerrys + 0.000*redistricting + 0.000*citigroup + 0.000*rent-stabilized',\n",
        " u'0.001*-- + 0.001*mr + 0.001*bill + 0.001*foley + 0.001*democrats + 0.001*hastert + 0.001*said + 0.001*republicans + 0.001*money + 0.001*senate']"
       ]
      }
     ],
     "prompt_number": 166
    },
    {
     "cell_type": "code",
     "collapsed": false,
     "input": [
      "lda.show_topics()"
     ],
     "language": "python",
     "metadata": {},
     "outputs": [
      {
       "output_type": "pyout",
       "prompt_number": 139,
       "text": [
        "[u'0.062*the + 0.028*of + 0.028*to + 0.025*and + 0.022*a + 0.020*in + 0.014*that + 0.010*mr + 0.009*for + 0.009*on',\n",
        " u'0.052*the + 0.028*to + 0.027*of + 0.026*a + 0.021*and + 0.021*in + 0.013*he + 0.013*mr + 0.012*that + 0.011*his',\n",
        " u'0.068*the + 0.030*to + 0.030*of + 0.024*a + 0.021*and + 0.019*in + 0.015*that + 0.011*for + 0.009*on + 0.009*is',\n",
        " u'0.000*the + 0.000*to + 0.000*a + 0.000*of + 0.000*and + 0.000*that + 0.000*in + 0.000*he + 0.000*for + 0.000*on',\n",
        " u'0.045*the + 0.034*<num> + 0.033*a + 0.032*in + 0.020*and + 0.019*of + 0.017*to + 0.011*republican + 0.010*mr + 0.010*for',\n",
        " u'0.045*the + 0.017*to + 0.014*air + 0.011*force + 0.010*of + 0.009*a + 0.007*and + 0.007*boeing + 0.007*that + 0.006*deal',\n",
        " u'0.062*the + 0.025*of + 0.023*a + 0.021*in + 0.021*to + 0.018*and + 0.014*mr + 0.013*that + 0.011*said + 0.010*he',\n",
        " u'0.000*the + 0.000*to + 0.000*a + 0.000*and + 0.000*of + 0.000*in + 0.000*<num> + 0.000*mr + 0.000*for + 0.000*that',\n",
        " u'0.036*the + 0.023*and + 0.022*to + 0.021*a + 0.017*of + 0.014*in + 0.014*that + 0.010*for + 0.009*she + 0.009*her',\n",
        " u'0.050*the + 0.034*mr + 0.029*to + 0.025*a + 0.024*of + 0.020*in + 0.018*and + 0.016*he + 0.014*his + 0.013*that']"
       ]
      }
     ],
     "prompt_number": 139
    },
    {
     "cell_type": "code",
     "collapsed": false,
     "input": [
      "#filter(lambda x: x[1] == 1, c.items())"
     ],
     "language": "python",
     "metadata": {},
     "outputs": [],
     "prompt_number": 57
    },
    {
     "cell_type": "code",
     "collapsed": false,
     "input": [
      "ttl = format(tt).split()"
     ],
     "language": "python",
     "metadata": {},
     "outputs": [],
     "prompt_number": 38
    },
    {
     "cell_type": "code",
     "collapsed": false,
     "input": [
      "c = Counter(_.split())"
     ],
     "language": "python",
     "metadata": {},
     "outputs": [],
     "prompt_number": 30
    },
    {
     "cell_type": "raw",
     "metadata": {},
     "source": [
      "list(c.keys())"
     ]
    },
    {
     "cell_type": "code",
     "collapsed": false,
     "input": [
      "stopwords = set('to as at a is its in on and that of the'.split())\n",
      "stopwords"
     ],
     "language": "python",
     "metadata": {},
     "outputs": [
      {
       "output_type": "pyout",
       "prompt_number": 42,
       "text": [
        "set(['a',\n",
        "     'on',\n",
        "     'and',\n",
        "     'that',\n",
        "     'of',\n",
        "     'is',\n",
        "     'to',\n",
        "     'as',\n",
        "     'at',\n",
        "     'in',\n",
        "     'the',\n",
        "     'its'])"
       ]
      }
     ],
     "prompt_number": 42
    },
    {
     "cell_type": "code",
     "collapsed": false,
     "input": [
      "print sorted(filter(lambda w: w not in stopwords, ttl))"
     ],
     "language": "python",
     "metadata": {},
     "outputs": [
      {
       "output_type": "stream",
       "stream": "stdout",
       "text": [
        "[u'about', u'above', u'abramoff', u'administration', u'air', u'anything', u'arguing', u'attempt', u'bans', u'be', u'be', u'because', u'become', u'better', u'beyond', u'beyond', u'big', u'bill', u'bill', u'bills', u'bipartisan', u'border', u'brethren', u'bush', u'bush', u'bush', u'but', u'but', u'by', u'campaign', u'campaign', u'campaigner', u'capitol', u'capitol', u'change', u'citing', u'clean', u'clout', u'complaints', u'concerns', u'concerns', u'concerns', u'congress', u'congress', u'congress', u'congress', u'congress', u'congresss', u'continues', u'control', u'control', u'corporate', u'could', u'culture', u'dare', u'demand', u'democratic', u'democrats', u'demonstrate', u'denying', u'deprive', u'disclose', u'disgraceful', u'disingenuous', u'do', u'doing', u'dollars', u'drew', u'earmarked', u'election', u'enacted', u'ensuring', u'escaping', u'ethics', u'example', u'faced', u'far', u'fares', u'favor', u'fervor', u'finally', u'flights', u'flow', u'flying', u'for', u'for', u'force', u'forced', u'friendly', u'from', u'from', u'from', u'full-throated', u'gauge', u'goes', u'golf-and-goodies', u'gop', u'groundbreaking', u'hard', u'has', u'have', u'he', u'hegemony', u'helped', u'hill', u'hill', u'house', u'house', u'house', u'house', u'houses', u'how', u'hundreds', u'ideal', u'if', u'illicit', u'imagine', u'industry', u'intent', u'intent', u'it', u'jack', u'jets', u'largess', u'lawmakers', u'lawmakers', u'leadership', u'least', u'legislating', u'legislation', u'legislative', u'legitimate', u'lobbying', u'lobbying', u'lobbying', u'lobbying', u'lobbyist', u'lobbyists', u'long', u'ludicrous', u'majorities', u'mandate', u'measure', u'measure', u'measure', u'measure', u'members', u'might', u'might', u'month', u'new', u'not', u'not', u'one', u'opinion', u'other', u'own', u'particularly', u'passed', u'pay', u'pending', u'ploy', u'plummeting', u'pork', u'president', u'president', u'president', u'presidents', u'previous', u'provides', u'publics', u'quickly', u'quid-pro-quo', u'raising', u'rates', u'recognized', u'red-herring', u'reform', u'reform', u'reform', u'regulations', u'reining', u'rely', u'republican', u'republicans', u'republicans', u'scandal', u'season', u'serious', u'shadows', u'situation', u'sizable', u'skies', u'so', u'spending', u'spikes', u'start', u'stated', u'still', u'stronger', u'support', u'surviving', u'thankfully', u'thats', u'thats', u'their', u'their', u'them', u'think', u'this', u'this', u'this', u'thousands', u'token', u'torrent', u'travel', u'true', u'ultimate', u'ultimately', u'unique', u'up', u'uses', u'veto', u'veto-proof', u'view', u'voters', u'washington', u'when', u'when', u'whether', u'white', u'white', u'white', u'white', u'will', u'win', u'would', u'would', u'years', u'yet']\n"
       ]
      }
     ],
     "prompt_number": 43
    }
   ],
   "metadata": {}
  }
 ]
}